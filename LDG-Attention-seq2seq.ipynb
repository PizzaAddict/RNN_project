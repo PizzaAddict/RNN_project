{
 "cells": [
  {
   "cell_type": "code",
   "execution_count": 1,
   "id": "24d21498",
   "metadata": {
    "scrolled": true
   },
   "outputs": [],
   "source": [
    "import torch\n",
    "from torch import nn\n",
    "import numpy as np\n",
    "from tqdm import tqdm\n",
    "import math\n",
    "import torchtext\n",
    "from torch.nn.functional import softmax as softmax\n",
    "from torch.nn.functional import log_softmax as logsoftmax\n",
    "from os.path import exists\n",
    "import sys\n",
    "import random"
   ]
  },
  {
   "cell_type": "code",
   "execution_count": 1,
   "id": "f0433e17",
   "metadata": {},
   "outputs": [
    {
     "data": {
      "text/plain": [
       "['fdsf', 'fdsfdddd', 'fdfdsf', 'apple', 'banan']"
      ]
     },
     "execution_count": 1,
     "metadata": {},
     "output_type": "execute_result"
    }
   ],
   "source": [
    "a= 'fdsf\\ffdsfdddd\\nfdfdsf apple banan'\n",
    "a.split()"
   ]
  },
  {
   "cell_type": "code",
   "execution_count": 6,
   "id": "73ff9859",
   "metadata": {},
   "outputs": [
    {
     "data": {
      "text/plain": [
       "<function defaultdict.get(key, default=None, /)>"
      ]
     },
     "execution_count": 6,
     "metadata": {},
     "output_type": "execute_result"
    }
   ],
   "source": [
    "import collections\n",
    "pairs = collections.defaultdict(int)\n",
    "pairs['테','엥'] = 3\n",
    "pairs.get"
   ]
  },
  {
   "cell_type": "code",
   "execution_count": 25,
   "id": "01f042a4",
   "metadata": {},
   "outputs": [],
   "source": [
    "from collections import Counter\n",
    "test= ['a','a','a','c','c','c','t','t','p']\n",
    "dt = dict(Counter(test))\n",
    "dt[\"3434\"] = 7"
   ]
  },
  {
   "cell_type": "code",
   "execution_count": 50,
   "id": "1b7cfff0",
   "metadata": {},
   "outputs": [
    {
     "data": {
      "text/plain": [
       "7"
      ]
     },
     "execution_count": 50,
     "metadata": {},
     "output_type": "execute_result"
    }
   ],
   "source": [
    "max(dt.values())"
   ]
  },
  {
   "cell_type": "code",
   "execution_count": 34,
   "id": "48d80560",
   "metadata": {},
   "outputs": [
    {
     "ename": "KeyError",
     "evalue": "'34'",
     "output_type": "error",
     "traceback": [
      "\u001b[1;31m---------------------------------------------------------------------------\u001b[0m",
      "\u001b[1;31mKeyError\u001b[0m                                  Traceback (most recent call last)",
      "\u001b[1;32m~\\AppData\\Local\\Temp\\ipykernel_14508\\3517281446.py\u001b[0m in \u001b[0;36m<module>\u001b[1;34m\u001b[0m\n\u001b[0;32m      1\u001b[0m \u001b[1;32mtry\u001b[0m\u001b[1;33m:\u001b[0m\u001b[1;33m\u001b[0m\u001b[0m\n\u001b[1;32m----> 2\u001b[1;33m     \u001b[0mprint\u001b[0m\u001b[1;33m(\u001b[0m\u001b[0mdt\u001b[0m\u001b[1;33m[\u001b[0m\u001b[1;34m'34'\u001b[0m\u001b[1;33m]\u001b[0m\u001b[1;33m)\u001b[0m\u001b[1;33m\u001b[0m\u001b[0m\n\u001b[0m\u001b[0;32m      3\u001b[0m \u001b[1;32mexcept\u001b[0m \u001b[0mKeyboardInterrupt\u001b[0m\u001b[1;33m:\u001b[0m\u001b[1;33m\u001b[0m\u001b[0m\n\u001b[0;32m      4\u001b[0m     \u001b[0mprint\u001b[0m\u001b[1;33m(\u001b[0m\u001b[1;34m\"not in dict\"\u001b[0m\u001b[1;33m)\u001b[0m\u001b[1;33m\u001b[0m\u001b[0m\n",
      "\u001b[1;31mKeyError\u001b[0m: '34'"
     ]
    }
   ],
   "source": [
    "try:\n",
    "    print(dt['34'])\n",
    "except KeyboardInterrupt:\n",
    "    print(\"not in dict\")"
   ]
  },
  {
   "cell_type": "code",
   "execution_count": 19,
   "id": "4eb742f7",
   "metadata": {},
   "outputs": [
    {
     "data": {
      "text/plain": [
       "['k', 'd', 'a']"
      ]
     },
     "execution_count": 19,
     "metadata": {},
     "output_type": "execute_result"
    }
   ],
   "source": [
    "sorted(['a','d','k'], reverse=True)"
   ]
  },
  {
   "cell_type": "code",
   "execution_count": 21,
   "id": "de714943",
   "metadata": {},
   "outputs": [
    {
     "data": {
      "text/plain": [
       "[1, 2, 3]"
      ]
     },
     "execution_count": 21,
     "metadata": {},
     "output_type": "execute_result"
    }
   ],
   "source": [
    "list(range(1,4))"
   ]
  },
  {
   "cell_type": "code",
   "execution_count": 24,
   "id": "151299ce",
   "metadata": {},
   "outputs": [
    {
     "data": {
      "text/plain": [
       "[0, 1, 2]"
      ]
     },
     "execution_count": 24,
     "metadata": {},
     "output_type": "execute_result"
    }
   ],
   "source": [
    "list(range(3))"
   ]
  },
  {
   "cell_type": "code",
   "execution_count": 35,
   "id": "a045ba05",
   "metadata": {},
   "outputs": [],
   "source": [
    "import pandas as pd\n",
    "\n",
    "df = pd.read_csv('./Data/train.csv')"
   ]
  },
  {
   "cell_type": "code",
   "execution_count": 42,
   "id": "b276a15d",
   "metadata": {},
   "outputs": [
    {
     "data": {
      "text/plain": [
       "['The average of participants in the media panel was 127.63 min, and at 153.26 min the results of the lifetime survey appeared high, that ia, the 95.00% ratio of participnts in the media panel was higher than the 90.88% of the participants in the lifetime survey.',\n",
       " 'The server 810 extracts ‘m’ stops, using the stopping-allowed area.',\n",
       " 'The stopping type information may be information that indicates a pre-input expected stopping time of the vehicle 100.',\n",
       " 'According to some configurations, the second haptic output is different from and has an intensity greater than the first haptic output.',\n",
       " 'While the user checks the sensitivity criterion, the sensitivity adjustment object 420 may be moved.',\n",
       " 'By 1913, he finally made contact with the greater world of number theory.',\n",
       " 'CNN is adding synthetic work to existing neural network analysis.',\n",
       " 'Instead of the required 22,300 kilograms of fuel, The airplane took off with less than half that amount.',\n",
       " 'Figure 4 shows the results after 3 hours of numerical modeling analysis.',\n",
       " 'This is due to the fact that it cannot be expressed as a fraction and also cannot be expressed indefinitely using decimals.',\n",
       " 'FIG. 27 illustrates the operation procedure of a reception apparatus according to another embodiment of the present invention.',\n",
       " 'In the early days of the 2008 Carrefour boycott, the Chinese government called it reasonable and legal but began calling for \"reasonable patriotism\" as the son-in-law spread rapidly across the country.',\n",
       " 'Most of the research is focused on exploring the structure of employment change.',\n",
       " 'Contrast filters modified with PVK, GO, and unmodified filters also filter the bacterial solution.',\n",
       " 'We can make four-cents postage by using two 2-cent stamps.',\n",
       " 'The transpose of the sum of two matrices equals the sum of their transposes.',\n",
       " 'Hereinafter, the specific contents of the present invention will be described in detail with reference to examples and manufacturing examples.',\n",
       " 'In addition, no significant correlation could be observed in the absence of utilitarian behavior.',\n",
       " 'Because all of the participants in this study were preliminary general teachers, they were reminded of their peer-to-peer training experiences and discussed the role of the homeroom teacher in particular.',\n",
       " 'The non-modem terminal 100 may support user functions other than the call function.',\n",
       " 'The method of estimating the correlation coefficient in the frequency domain is briefly described in Appendix 2.',\n",
       " 'The learner makes learning happen through self-directed active participation.',\n",
       " 'It is thought that the increased interest in tactileness was more than the inherent attributes of the tactile, and the development of media by digital technology and the resulting change in the living environment were decisive.',\n",
       " 'Community refers to communication and interaction between learners or between instructors and learners and includes the learner management system establishment, such as login and learning process check, a Q&A bulletin board with a question and answer function, and announcements.',\n",
       " 'This academic assessment system should be transformed into a coaching system that encourages collaboration and optimizes individual potential.',\n",
       " 'FIG. 14 is a diagram illustrating an embodiment of the mode register set 1430 shown in FIG. 13.',\n",
       " 'Among these, cyclopropyl, cyclopentyl, cyclohexyl and cyclooctyl are preferred.',\n",
       " \"As mentioned earlier, the gender wage gap still exists even in Denmark, which has the world's best system.\",\n",
       " 'The steel industry has been showing signs of recovery in production growth since the third quarter of 2018.',\n",
       " 'Similarly, the receiving end 110 may further include at least one module for converting the received signal into a digital baseband signal.',\n",
       " 'Even if they exchange remarks that seem to start negotiations at any moment, they turn into an offensive as if they ever did.',\n",
       " 'Research has also been conducted on early childhood education and the lower grades of elementary school.',\n",
       " 'Therefore, the secondary effect expected by the government, that is, the impact on private consumption and investment can be expected to be limited.',\n",
       " 'In the button 194, various types of buttons such as a home button, a volume control button, and a power button may be included.',\n",
       " 'Unlike other cities, Seoul has a sense of crisis in the lifelong education in school project as the Seoul-type innovation education district project began.',\n",
       " 'Finally, the performance of the redundant gateway system was evaluated by measuring the failure overcoming time in each failure situation.',\n",
       " 'As a result of the analysis, first, a shift in the perception of managers and teachers is required.',\n",
       " 'Like life insurance companies, the insurance revenue of non-life insurance companies has been on the rise, and an upward trend in insurance payment levels by non-life insurance companies is shown.',\n",
       " 'Fibonacci was acquainted with the newly invented Hindu Arabic numeration system, with the numerals 0 through 9 as its centerpiece.',\n",
       " 'This causes a feeling of rejection to the way of thinking that is superior to the emotions, resulting in reason-centered thinking.',\n",
       " 'From a model point of view, the reason pre-service teachers have to design classes continuously is to reach the level of instructional design model.',\n",
       " 'In other words, it may be assumed that the image of the magazine represents the skin color preferred by the people of that country.',\n",
       " 'In particular, it was confirmed that studies on the role and competence of counseling teachers accounted for more than 70 to 80% of all studies.',\n",
       " 'For example, the path (trajectory) in which the COG value (CGx and CGy) changes may be displayed with a specific color.',\n",
       " 'National and public daycare centers are still less than 10% at about 9% in 2018.',\n",
       " 'The header management module 2213 may determine a value of key age data, based on the number of times that a page is erased.',\n",
       " 'The Asian regions have grown rapidly into an overseas production area for global companies with abundant low-wage labor.',\n",
       " 'The control box 200 may be disposed on an upper portion of the outdoor air passage 195.',\n",
       " 'For taxpayers, real estate tax reform can be seen as a means of tax increase.',\n",
       " 'To sum up, this study attempted to conduct an experiment by implementing a purchase situation through a tablet device using a touchscreen.',\n",
       " 'A transparent panel assembly 60 may be provided on the right refrigerating chamber door 20 among the pair of refrigerating chamber doors 20.',\n",
       " 'The wireless Internet module 411 may transmit and/or receive wireless signals via communication networks according to wireless Internet technologies.',\n",
       " 'It just indicates that fewer learners prefer the arts and sports field.',\n",
       " 'The heat dissipation member 240 may be disposed to contact the image sensor 214 and the third housing 253.',\n",
       " 'In order to verify the proposed research model, in this study, data were collected through a survey targeting users of the online discussion community.',\n",
       " \"It is clear that the loan fee paid by the borrower to the company is the company's economic profit.\",\n",
       " 'Distance based on the mantle 23 is measured based on the information of the distance sensor.',\n",
       " 'In addition to expanding the tax base, institutional changes such as an increase in the nominal tax rate also increase the income tax.',\n",
       " 'Acquisition module 530 is configured to acquire a scanning result of the first scanning.',\n",
       " 'Deodorants, disinfectants, and preservatives are also included within the prosthesis pouch insert.',\n",
       " \"These were all things learned through sessions related to children's school life support, career guidance, leisure life guidance conducted in the program.\",\n",
       " \"What's important is this leaching test determines whether the concentration of controlled materials exceeds the control standard.\",\n",
       " 'Although buried layers, weathered soils, and weathered rocks and soft rocks exist, an avalanche of earth and rocks is usually generated by erosion of buried layers and weathered soils.',\n",
       " \"I checked the attachments one by one and couldn't shut up in surprise.\",\n",
       " 'The vitality of the symbol is drained in the allegory.',\n",
       " 'BBB 1 has rapidly grown based on the establishment of a paid membership system and strengthening its own content development capabilities and has emerged as a leading company in the industry within a short period of time, making it called the \"Chinese version of BBB 2.\"',\n",
       " 'It minimizes high temperature uniformity and mutual pollution between samples by making air flow as vertical as possible by installing forced circulation method.',\n",
       " 'The core mold 9 is disposed at a position away from the moving mold 7 by a predetermined distance.',\n",
       " 'The growth of an industry and the benefit of individual companies are two completely different things.',\n",
       " 'The sub pull-up circuit 531 may include a plurality of PMOS transistors P1 to Pk (where k is a positive integer).',\n",
       " 'After the patterning process, the undoped-GaN layer was re-grown with MOCVD equipment by applying a condition in which lateral growth is preferred.',\n",
       " 'At the laboratory level using the crucible, the effect has been verified, and the application to continuous casting equipment is being promoted in the future.',\n",
       " 'Overall, the efficiency of the state-owned capital platform is found to be the lowest in each type of platform.',\n",
       " 'The pressure vessel according to the present invention includes a body portion 100, a pair of caps 200, and a wire 300.',\n",
       " 'The width of the area to be printed is determined by performing one printing main scan by the arrangement density and number of printing elements in the printhead.',\n",
       " 'Of the 56 industrial classifications, only the mining and manufacturing industries were targeted, taking into account the characteristics of the trade structure between North and South Korea.',\n",
       " 'P should not have statistical biases and mathematical structures that an attacker can leverage to predict output.',\n",
       " 'Particularly, it may be understood that Example 2 exhibited a lower release force value than that of Example 1.',\n",
       " 'FIG. 4 is a flowchart illustrating a procedure of determining a driving path and a driving altitude according to an embodiment of the present invention.',\n",
       " \"First of all, the user's wishes and other personal lives are exposed by voice.\",\n",
       " 'It can be interpreted in the same way as Table 8.',\n",
       " 'The predetermined image data may be the normal image data without the defect and may not be the same data.',\n",
       " 'According to an OECD report in March 2009, Korea quickly recovered from the crisis thanks to the expansion of exports and fiscal spending.',\n",
       " 'As we grow older, the endless summers of youth fade in memory as whole years vanish in a riot of happenings.',\n",
       " 'In the context of math class, the most prominent derivation of the word number is a natural result.',\n",
       " \"Park's study suggested an appropriate color temperature for each rest, reading, and audio-visual activity in a vehicle.\",\n",
       " 'Other researchers often get help from computers when conducting studies that go up from small numbers.',\n",
       " 'Currently, it contains what is known as Mendel’s law of inheritance in middle and high schools in Korea.',\n",
       " 'It was emphasized that the teacher should have a sufficient understanding of the current situation, and based on this, the teacher should establish a teaching strategy.',\n",
       " 'The higher the conditional probability, in other words, the higher the pointwise mutual information, the more consistent the tone or sensibility the two words have.',\n",
       " 'Since the UK national curriculum does not provide minimum units or credits for each subject, the number of hours per subject is operated differently depending on the school.',\n",
       " 'The patient has been drinking a bottle of soju every day for 15 years now, and after retirement, he had a lot of time and no special work, so the amount of alcohol intake became higher.',\n",
       " 'Therefore, it was defined as knowledge of discrete probability distribution that preservice mathematics teachers somewhat neglected and added to the final test tool.',\n",
       " 'As described above, according to the present invention, it is possible to model a 3D environment by calculating depth information.',\n",
       " 'Therefore, in the former, as a pretreatment, the surface treatment for obtaining a predetermined surface roughness, such as shot blasting and the latter, is performed in advance.',\n",
       " \"The usefulness of Gauss's congruence notation lies in the fact that congruence with respect to a fixed modulus has many of the formal properties of ordinary equality.\",\n",
       " 'In addition, it needs to improve the legal system related to intelligent information technology safety accidents.',\n",
       " 'Finite state machines can be used to detect and control the binding of molecules to polymers.',\n",
       " \"It is necessary to develop a program for the improvement of the curriculum reorganization that considers the differences in the educational needs according to the teachers' characteristics.\",\n",
       " 'Perhaps the biggest plus effect of the financial crisis was that it made more public feel on the skin that measures against finance and income were needed.',\n",
       " \"During registration, the speaker's information is listed in a database to identify who the user is and to establish an account.\",\n",
       " 'This is because preaching and education about the Bible often just stayed with storytelling and moral application.',\n",
       " 'This corresponds to the value measured by the first contamination measurement unit 110, and the number of bacteria tends to increase significantly in 4 days.',\n",
       " \"The less experienced subjects in the shooting game, the more they would have been exposed to debris or light from the opponent's attack.\",\n",
       " '15-year-old students in Korea have maintained the top ranks since the start of PISA in 2000.',\n",
       " 'One embodiment includes a drug container and a needle, and the needle cover is provided to cover the needle in an extended position.',\n",
       " 'For example, the biometric sensor 180 may further include a control circuit for controlling at least one sensor.',\n",
       " 'Hence, the first camera 221 may obtain an image for vehicles passing through the first photographing region 551.',\n",
       " 'S7 set the topic to investigate the opinions of 28 students in their department and class.',\n",
       " 'The control unit 409 may also display a second type message 4005 for the corresponding message 4003.',\n",
       " 'These gestures can be recorded and associated with programming code, instructions and/or macros.',\n",
       " 'One of the most common geometrical calculus is the least squares method.',\n",
       " 'The driving voltage, lifespan and emission efficiency of the manufactured organic electroluminescence device were evaluated below.',\n",
       " 'The second reason is that it is difficult for elementary school students to accurately investigate family income, occupation, and education.',\n",
       " 'The image processing unit 111 may detect a hand shape change or a gesture through real-time image processing.',\n",
       " 'One or more outlet holes 69 may be formed at a predetermined location in the end plate path 68.',\n",
       " 'Next, inflation factors were found to account for 18% of the fluctuations.',\n",
       " 'The camera 230 may shoot a panorama image through rotation of a specified angle (e.g., 360 degrees).',\n",
       " 'In one embodiment, the passages in the beam stop array 10 may be aligned with the holes in the beamlet blanker array 9.',\n",
       " 'The value of AAA’s reading, which he considered in 1864 as an opportunity to hear firsthand content with lasting value, continues to this day.',\n",
       " 'The originality and imagination of artists may not be changed by the will of others, and has an arbitrary and exclusive character.',\n",
       " 'The refrigerator 1 is configured as follows and outputs the product information as a certain sound.',\n",
       " \"In this study, the term reachability employed in prior studies was used to analyze students' responses.\",\n",
       " 'The “practical wisdom” we will focus on is the most closely related to the personality excellence related to desires and emotions, so it will be dealt with intensively after considering the personality excellence.',\n",
       " 'The digital signal may be provided to the image reconfiguration unit 1240 through the data transmission unit 1120.',\n",
       " 'In Massachusetts, the TURA program is being pursued as a cancer prevention strategy.',\n",
       " 'The transparent display device 100 may obtain location information by being connected to at least one wireless AP.',\n",
       " 'According to UNCTAD data, the total export value of Mongolia and Central Asia in 2014 was USD 1.17 trillion and USD 76.9 billion in 2015, a significant decrease compared to the previous year.',\n",
       " 'The results of such research activities were reflected in the establishment of the first curriculum by the Ministry of Education in 1955.',\n",
       " 'The distance between the user and the flower is 2.5 or less, and the scent is emitted when the directional value is within the set range.',\n",
       " 'Afterwards, the switch circuit 1700 may select the internal voltage VINTB as the feedback voltage VFB.',\n",
       " 'The memory 230 may provide the stored registered image to the authentication unit 540.',\n",
       " \"These results imply that the children's generation had less chances of increasing their income due to the rise in education compared to the father's generation.\",\n",
       " \"Woo, who refused to read at first, wrote in Korean at the bottom of today's sentence and tried to read it together with a friend.\",\n",
       " 'Local public corporations should also introduce a budget system for each project as soon as possible.',\n",
       " 'There are various methods of generating plasma, and FIG. 3(a) shows an electrode configuration of a direct discharge plasma generation method.',\n",
       " 'Do remember the saying figures won’t lie, but liars will figure and beware.',\n",
       " 'It is meaningful in that it can provide a basis for discussing the direction that an e-government should pursue, as well as the direction for improving public policy acceptability.',\n",
       " 'The fingerprint identification system includes a plurality of pixel sensing circuits, a capacitance detection circuit, and a fingerprint determination module.',\n",
       " \"Moreover, it becomes difficult to prevent strategic behavior for one's own interests when the allocation of costs and benefits by collaboration is not fair.\",\n",
       " 'We tried to create a coin simulation on the computer.',\n",
       " 'Only if there is a profit model will it be possible to bear the increase in operating costs of the expanding network.',\n",
       " 'Education service consulting is an area that presents a problem-solving process to achieve the learning experience created by education service design.',\n",
       " 'Participants completed 63 hours of the program of the Education Institute for Gifted for 11 weeks, but did not complete a program related to statistics.',\n",
       " \"Peer interaction competency refers to the characteristics of trying to strengthen one's own learning by learning with fellow learners.\",\n",
       " 'No matter how increased the number of customers and visitors in the network, it is not directly related to profits, so it is essential to consider profitability.',\n",
       " 'The controller 100 may control overall operations of the memory device 200.',\n",
       " 'In Step 522, application 520 provides a menu to display the top-level function.',\n",
       " 'The second wiring L2 may be arranged in an upper side in a vertical direction rather than the first wiring L1 with respect to a plane of a substrate (not shown).',\n",
       " 'The occupations in the top 33% of total employment were defined as those that mainly performed routine jobs.',\n",
       " \"BBB has operated the world's first halal e-marketplace based in Malaysia.\",\n",
       " 'In other words, the age distribution of the students who participated in the study was 6 to 11 years old, which can be predicted as elementary school students.',\n",
       " 'The results of this analysis showed that all six measures used as indicators of corporate value were improved compared to before the company name change.',\n",
       " 'Find an equation of the sphere with center (2, -6, 4) and radius 5.',\n",
       " 'For example, the vector spaces R3 and M3, 1 are essentially the same with respect to their standard operations.',\n",
       " 'In an embodiment, the user client 200 may request the server to create a chat room.',\n",
       " 'It can be easily inferred from the distribution of large chain companies and small and medium-sized beauty hospitals related to medical beauty that the demand for medical needs and medical services will vary by region.',\n",
       " 'Auditing functions to audit the work performed by directors, etc., rather than being directly involved in company work.',\n",
       " \"I said that because I am a woman, I need to give up the attitude of trying to receive special treatment with the idea that I can't do it, that I don't have to, and that I am the flower of the office.\",\n",
       " 'After the Uruguay Round Multilateral Trade Agreement came into force in 1995, the WTO’s authority was strengthened and the conditions for the organization’s member states became stricter.',\n",
       " 'If the contact information is visually displayed, a plurality of pieces of contact information may be displayed according to the display order of the contact information.',\n",
       " 'There are various observations about such a blitzkrieg action by the United States, such as inducing the early resumption of negotiations on denuclearization between the United States and North Korea, which is in a deadlock phase, and strategies for negotiating defense cost-sharing.',\n",
       " 'The human point of view raises the question of diversity in that it differs from person to person, which in turn leads to a debate about what standards are.',\n",
       " \"Through empathy for Korean history and culture, which acts as another culture in Korean language education, learners understand other people in space and time and try to find themselves' otherness, thereby deepening their intercultural understanding and enhancing their communication skills.\",\n",
       " 'They suggested that GWR among them is the most accurate method.',\n",
       " 'After the global financial crisis, central banks in each country, including the US Federal Reserve, skillfully communicated with the market, maintaining a stable low interest rate stance.',\n",
       " 'This is because, as stated in the introduction, the government is in an absolute inferiority in collecting the amount of information to be used for rational control of drug use.',\n",
       " 'The curable composition may be coated onto a substrate through various methods known in the technical field to which the present invention pertains.',\n",
       " 'Compared to the whole population, aging society is when the ratio of 65 or older population is 14% of more, and if it is more than 20%, it is called a total aging society.',\n",
       " 'In this example, the duration of input 8105 is less than a predefined threshold (e.g., a tap gesture).',\n",
       " 'Let us try a more challenging example of a coin problem as it is known.',\n",
       " 'The tool may be used with time dependent MR captures to estimate various time dependent parameters.',\n",
       " 'Since 2011, there have been many cases of financial damage such as phishing, and this was also an important factor in introducing strict advertising regulations.',\n",
       " 'With this configuration, the operation process of the shaping block removal apparatus 1 for a mold according to an embodiment of the present invention is as follows.',\n",
       " 'The campaign was designed to promote the importance of credit rating management and lead a healthy financial life for college students.',\n",
       " 'Initially, the electrical resistance gradient showed relatively the same shape compared to the stress.',\n",
       " 'This led to the creation and practice of constant ideas and promoted participation based on the voluntary nature of members.',\n",
       " 'Intermediate milestone management dates can be set by agreement between the ordering organization and the contracting partner before the original contract completion date.',\n",
       " 'There was a weight initialization problem and an overfitting problem of learning by fitting too close to the training data set.',\n",
       " 'Thereafter, the electronic device 100 generates a first confidence map corresponding to the first filter based on the acquired first feature information.',\n",
       " 'The expansion of the consumer movement is centered on criticism of antisocial business activities or claims of consumer rights.',\n",
       " 'In the case of infant mortality under age of 5, aid was concentrated in countries with low mortality rates.',\n",
       " 'If you advance a key exchange method the work of an attacker is made much harder even one with a quantum computer.',\n",
       " 'Like socio-mechanics, behavioral economics discusses various approaches for each scholar who advocates it.',\n",
       " 'For this purpose, each of detailed indicators is added to the accessibility index, effectiveness, and availability, which is the organization system of basic financial magnanimity index.',\n",
       " 'FIG. 5 illustrates an example of determining a Wi-Fi measuring time if the repeated number of times is specified as two times.',\n",
       " 'Small business chain 1.0 may have the following technical problems.',\n",
       " 'This invention may be used in the industry of a motion recognition control system and method of a real image display method.',\n",
       " 'The communication element controller 208 may retrieve a setting associated with the determined characteristic of the user interaction.',\n",
       " 'Comparing the institutional evaluation results in 2017 and the institutional evaluation results in 2016, overall, it was lowered compared to the previous year.',\n",
       " 'The increase in knowledge of medical consumers and changes in socio-economic conditions are belatedly changing into a consumer-oriented industry compared to other industries.',\n",
       " 'As one of consumers, an individual composes a portfolio by selecting risk assets and risk-free assets.',\n",
       " 'Hereinafter, for convenience of description, each data IM and FI is called a current frame (or current picture).',\n",
       " 'It is time to re-examine the issues related to solving mathematical problems in school mathematics.',\n",
       " 'If there are many inputs and outputs, this will only appear as a small disturbance.',\n",
       " 'On the other hand, it shows that crisis and political leadership do not affect institutionalization.',\n",
       " 'We will understand in more detail the relationship between fluctuations and dissipation.',\n",
       " 'Among the categories which have seen the highest growth rate, support for administrative improvement activities topped the list with 6,488.9%.',\n",
       " 'A makes a conclusion that his hat is red and will receive an award.',\n",
       " 'The first verify voltage of the Nth program state may be used as the over program verify voltage of the N-1th program state.',\n",
       " 'Forrester Research believes that the spread of smart speakers will drive the growth of the installed base of smart home devices.',\n",
       " 'This result makes it possible to interpret that the attitude of immersion in a lecture is learned or trained when video lecture learning is repeated.',\n",
       " 'Primary Example 1 connects Harbin-Vladivostok in China, and Primary Example 2 connects Changchun-Jilin-Hunchun-Zarubino.',\n",
       " 'Human IgG, which does not bind to ErbB3, was used as another negative control group.',\n",
       " 'Another embodiment provides an organic optoelectronic device including the composition for an organic optoelectronic device.',\n",
       " 'When the school side handled the case inadequately, it showed aggressive behavior enough to open a parent committee.',\n",
       " 'The road inspector’s problem can be rephrased for the graph model G in the following way.',\n",
       " 'According to the estimation results, first, student loan guarantees have a relatively longer job search period compared to non-loans.',\n",
       " 'The controller 2 may control the air conditioner based on the detection signal of the temperature sensor 120.',\n",
       " 'Accordingly, hot water discharged from the high-temperature heat exchanger 12 may flow into the hot water tank 20 according to gravity.',\n",
       " 'The most suitable model was selected based on the AIC and BIC criteria.',\n",
       " 'At a heat treatment heat of 100°C, circular agglomerated shapes had been partially generated at first glance of the GeSbTe thin film, even though the surface of the GeTe thin film ended up being maintained flat.',\n",
       " 'As a result of surveying 20 safety managers, it was found that safety checks have a high burden.',\n",
       " \"As such, China's urbanization rate is significantly lower than that of Korea and Japan because the rural population has not been able to flow into the city.\",\n",
       " 'MLM takes a unique form in which registered salespeople recruit and sell another seller, who simultaneously acts as a consumer as well as as as a salesperson.',\n",
       " 'That is, the storage unit 140 may store image data for the shape of the target object 30, related to a computer tomography.',\n",
       " 'Artificial intelligence analysis tools such as News Whip can be used actively, especially in the prevention of fake news.',\n",
       " 'The security function firmware is firmware that includes a function of storing, changing, or deleting the value of the protected memory of ECU 100.',\n",
       " 'Matching and adjustment cannot work with the whole of variables altogether.',\n",
       " 'The rich have greater tax avoidance ability than the middle class, and large corporations have more opportunities to relocate tax sources abroad than small and medium-sized enterprises.',\n",
       " 'Recently, many studies have raised questions about whether the corporate governance structure is working in accordance with its purpose.',\n",
       " 'FIGS. 2 and 3 are a perspective view and a cross-sectional view for explaining the clamp on the rotary table in the prior art.',\n",
       " 'It is questionable whether the reason students lack interest or confidence in mathematics subjects is simply because of the large volume of learning.',\n",
       " 'In embodiments, a capacitor may be used to accumulate the incoming synaptic current.',\n",
       " 'The specific position may include a first position, which is any one position in a state in which the connection part 130 protrudes in the first direction.',\n",
       " 'The center position of the user may be determined based on pressure information for each direction of the touch.',\n",
       " 'In particular, implicit or explicit discrimination can be made according to personal characteristics that are difficult for individuals to change, such as gender or socioeconomic status.',\n",
       " \"A digital dashboard was developed to monitor all subjects' performances.\",\n",
       " 'According to an embodiment, a bearing is supported through a second holder so that the structure may be simplified.',\n",
       " 'A plurality of slits 177 may be arranged along the circumferential direction to be separated to each other at a predetermined gap.',\n",
       " 'When the corresponding output voltage is undershooted, the corresponding compensation reference voltage level may be higher than the reference voltage level.',\n",
       " 'Although these mobile class design model studies focused on specific models such as cooperative problem-solving and inquiry learning, it is necessary to examine the design implications of the learners’ experiences in actual classes.',\n",
       " 'The types of investments to be promoted are determined through federal laws that require the consent of the Federal Parliament or by the administrative agreements under the Federal Budget Act.',\n",
       " 'According to various embodiments, the processor 410 may manage a plurality of image effects.',\n",
       " 'According to several embodiments of the present invention, the transaction included in the message may include a plurality of transactions.',\n",
       " 'By involving students and fellow teachers in the process of reflection, the reflection of individual level can be extended to a more communal level.',\n",
       " 'The electronic device displays an application program execution information setting screen by using a partial area of the messenger service screen.',\n",
       " 'No object falls into the surface or rises above the surface.',\n",
       " 'The aromatic compound according to an embodiment of the present invention may improve emission efficiency of an organic electroluminescence device.',\n",
       " \"It was analyzed that the yellow umbrella deduction service needs to be maintained with the current service while the introduction of the common people's loan service is necessary.\",\n",
       " 'SMEs pursued a strategy of diversification or specialization of products and technologies through technological innovation.',\n",
       " 'To find out the comparison of sensitivity according to the difference in FDG-PET analysis method, the average SUVR for major brain regions was compared between the SUVR_vol method and the SUVR_surf method for the standard group, AD patient group, and MCI patient group.',\n",
       " 'The front cover 894F may be positioned in front of the top cover 893.',\n",
       " 'The water-curtain method is a cotton-type water-filter using a cloth and a string-type wet water-filter.',\n",
       " 'Accordingly, the first pressing device 180 may be fixed to the first switching module 100.',\n",
       " 'The generated input signals are sent to the controller 160, and a function according to the input signal may be performed.',\n",
       " \"It's delicate or stable to alterations in the surrounding environment, such as visible light wavelength, absorbed molecules, or acidity.\",\n",
       " 'At least in the short term, it is judged that the degree of influence on the fiscal spending structure and the income gap between urban and rural areas can be explained.',\n",
       " 'Many media companies are adapting to the digital media era with strategies to develop websites or enhance mobile services.',\n",
       " 'The ultrasound diagnosis apparatus may display a reliability value in various forms such as letters, graphs, etc.',\n",
       " 'In other embodiments, piezoelectric actuators 518 may include composite piezoelectric actuators.',\n",
       " 'We are planning to develop wearable sleep apnea monitoring smart clothing by making long sleeve T-shirts for adult men.',\n",
       " 'It is necessary to reflect on the fact that the US-Japan semiconductor trade agreement was concluded in the 1980s after a fierce dispute between the US, a semiconductor hegemon, and Japan, an emerging challenger.',\n",
       " 'It can be seen that the development of the financial market has a positive effect on M&A-type FDI.',\n",
       " 'Finally, the focus of this study is to understand the effect of changes in employment policy on the relationship between fiscal expenditure and employment structure.',\n",
       " 'The interface unit of the cooktop 100 according to the present invention may further include a display 190.',\n",
       " 'The cardo-based binder resin may be included in an amount of 1% to 10 wt% based on the total amount of the photosensitive resin composition.',\n",
       " 'Here, the fluctuation of the thickness may be calculated as described below.',\n",
       " 'First, there was a study that there was a difference in job satisfaction according to the employment type of regular and non-regular workers.',\n",
       " 'Impurities contained in the oxide semiconductor can function as a carrier trap or a carrier generation source.',\n",
       " \"In Model 2, variables such as the per capita GDP support cost and the women's participation in economic activities were added.\",\n",
       " 'The second sub-display area DA2 may also not coincide with the second button area BA2, but is not limited thereto.',\n",
       " 'Today, mathematicians would frown upon a solution that relies heavily on physical principles.',\n",
       " \"In the case of the yen, despite a considerable appreciation rate, the figure remained at 0.055, which is half the yuan's level due to the high volatility.\",\n",
       " 'Utilizing these properties, a dielectric thin film can be applied as a FRAM unit.',\n",
       " \"Beom couldn't change into a human being because he couldn't keep the conditions for a given time.\",\n",
       " 'The application may include four software modules and a database.',\n",
       " 'In the Chinese market, South Korean online games created a new myth.',\n",
       " 'First of all, it is known that output has a correlation with employment.',\n",
       " 'In an embodiment, the reference clock CLK may be input from the outside of the memory device or be generated in the memory device.',\n",
       " 'As a result, school safety-related studies were found to be primarily using quantitative and literature studies.',\n",
       " 'In this regard, the contents of civic education are bound to reflect differences in social contexts rather than those that can be used in all societies.',\n",
       " 'The claim must be the bluntest assertion of an ontological stance ever made by a professional sports official.',\n",
       " 'Finally, it was found that in a small number of studies, there was one case of applying the self-determination learning model, cooperative learning, and leisure program.',\n",
       " 'The term “folding” denotes removing an operator included in an operation formula and replacing the operation formula by a variable or a constant.',\n",
       " 'FIG. 7 is a longitudinal sectional view of the crossflow fan and the stabilizer in the air conditioner according to one embodiment of the present invention.',\n",
       " 'As a result, the previous estimates showed that the income concentration rose rapidly after the financial crisis.',\n",
       " 'The pipe insertion groove has a semicircular shape or a square shape corresponding thereto.',\n",
       " 'When looking into the standard deviation of the differential values to check volatility, the call rate is approximately 0.006.',\n",
       " 'The inner filter may be manufactured using synthetic resin, which is a material having elasticity.',\n",
       " 'First, tracking area 1 has no significant change in the internal center of gravity in an overlapping situation.',\n",
       " 'A tap may be associated with a photo taking function, and a left slide may be associated with a video recording function.',\n",
       " 'In other words, the rising velocity in the Gini coefficient since the 1990s was more than three times faster than the average of the OECD countries.',\n",
       " 'The vector space expanded with complex numbers is absolutely not easy to understand as a figure.',\n",
       " 'However, the large sales volume of CI insurance nationwide and increased consumer health knowledge are expected to contribute to reducing the civil complaint risk of CI insurance.',\n",
       " 'In operation 2030, the processor 1660 may transmit connection sequence information to the external device 1030.',\n",
       " 'Hot water may be discharged from the other second main header 143ab.',\n",
       " \"The spatial characteristics of industrial productivity and profitability were different as the government's large-scale support was ubiquitous by region by selective support method.\",\n",
       " 'In addition, by providing an intuitive interface, the user may conveniently perform the sleep inducing method according to the present invention.',\n",
       " 'It is preferable that the hydrophobic resin is solid at normal temperature (25°C).',\n",
       " 'It is necessary to conduct research to explore ways to apply this to the individualized education plan of special classes.',\n",
       " 'This study can also be seen as an example of one of the various analytical approaches to prove the validity of the screening method.',\n",
       " 'The sensor unit 720 may measure a peripheral physical quantity of the electronic device 120.',\n",
       " 'On the other hand, the factor that determines the competitiveness of each country in a complex and open global trade environment is how tightly it is connected to the trade network.',\n",
       " 'The three items extracted as the devotion factor are service, the pursuit of public good, and psychological solidarity.',\n",
       " 'FIG. 3 and FIG. 4 are a plan view of a door driving system for a refrigerator according to an embodiment of the present invention.',\n",
       " 'Answers to questions were derived for each stakeholder group, and differences in attitudes toward generics were shown.',\n",
       " 'There is a description of the sentence component and no description of the possible substitution of the vocabulary element.',\n",
       " 'In other words, it is impossible to check whether one continuous whole—such as one waffle, one chocolate cake, or one pizza—has been meaningfully understood through the expression of the whole in discrete quantities.',\n",
       " 'The user intent extraction unit 130 extracts a user intent from the utterance data.',\n",
       " 'In one embodiment, the key-shaped feature 418 is constructed of a material that is less flexible than the seal 481b.',\n",
       " \"In the 'evaluation method for elementary school' in the guidelines for creating and managing school life records, it was also stated that the evaluation was conducted during class in principle.\",\n",
       " 'In our current reality, there is no standard for determining the severity of a particular problem, nor is there a concrete tool for analyzing the problem.',\n",
       " 'Semantics attempted to redesign education in new ways to facilitate learning in this context.',\n",
       " 'It is propagating that you will enjoy a happy life through such knowledge.',\n",
       " 'The BBB said that the trade dispute between the US and China had cast a dark shadow on the APEC summit, citing the responsibility of both nations.',\n",
       " 'The emission layer EML may emit blue light in an organic electroluminescence device of an embodiment.',\n",
       " 'They would like to know which knots are chiral and which are achiral.',\n",
       " 'As the existing digital logic circuit practice was not suitable for non-university students, a new digital logic circuit practice method was needed to be developed to improve this problem.',\n",
       " 'In step 1180, the management server 300 may analyze the measurement information.',\n",
       " 'Because the wheels of turbine and compressor are axially connected, the rotational force of turbine wheel works as the rotational force of compressor and moves to the exhaust pipe.',\n",
       " 'To this end, the marker gauge ring 17a is made of a material having an elastic force, and a cut portion 24 is formed in one portion.',\n",
       " 'In the case of this embodiment, the orbiting wrap 63 is formed in a hybrid curved surface to correspond to the fixed wrap 53.',\n",
       " 'In this case, it can be seen that the importance of the relative ranking coefficient is reduced, which seems to be due to the convenience of selecting a school.',\n",
       " 'As shown in FIG. 3, a plurality of key grooves 130 may be formed.',\n",
       " 'The brokering apparatus 130 transmits the changed push data to the first device 140_1 (S506).',\n",
       " 'Device components capable of outputting information from a user are also envisioned in the configurations in this section.',\n",
       " \"It's worthwhile pausing here to reflect on what we might expect such a theory to predict, or at least list the things with which the theory should be consistent.\",\n",
       " 'This means that the number of professional college graduates will produce more human resources in 2020 than the number of human resources required.',\n",
       " 'A method of considering the sequence of words while presenting them as probabilistic vector by neural network learning is called a Convolutional Neural Network.',\n",
       " \"The target of the prosecution's investigation was a specific act performed by the defendant in the course of executing his duties as a director.\",\n",
       " 'It would be important to strategically manage the management of specific items such as rice through additional function reinforcement.',\n",
       " 'The first evaporator 5 may be connected to the pair of main capillary tubes 7 and 8 through a joint flow path 51.',\n",
       " 'In this respect, the understanding-based curriculum can be a useful theoretical tool for understanding one aspect of the competency-based curriculum.',\n",
       " 'As the economically active population changes, it is expected to determine the extent of the impact of demographic changes on the size of the working force.',\n",
       " 'That is, the problem is that the electric heating wire 50 may be bent in the vertical direction.',\n",
       " 'In this case, the controller 50 may analyze the exhalation measurement data and give the user a comment.',\n",
       " 'This assumption is an important assumption in that a change in labor supply alone does not induce a change in wages.',\n",
       " 'On the other hand, the solvency ratio in Germany is generally moving upward.',\n",
       " 'Specific operations of various components of the event detection system using image analysis will be described below.',\n",
       " 'Here, Cpt means the whole capacitance value, and Cpn is an individual capacitance value.',\n",
       " 'Recovery, for example, has a positive meaning for the economy to recover.',\n",
       " 'That is, to secure more opportunities of transmission, the AUSC 640 may determine the transmission cycle as the reference cycle.',\n",
       " 'Relatively, the difficulties due to financing and the absence of a partner appear to be greater than the difficulties due to lack of information.',\n",
       " 'The storage unit 550 stores information on an execution state of an application transmitted from the terminal 200.',\n",
       " \"In this case, the interest rate will fall due to the fund supply's advantage in the unsecured call market.\",\n",
       " 'In this case, the charging of the hearing aid may be performed simultaneously with the storage thereof by storing the one or two hearing aids in the hearing aid storage box.',\n",
       " 'Insurance companies may face ongoing losses if the realized mortality rate improvement deviates from the predicted trend.',\n",
       " \"For example, teachers who think students' motivation to learn is driven by their grades do not pay much attention to formative evaluations.\",\n",
       " 'If categorized according to the primary data, 23 companies are included.',\n",
       " \"The design was made to well express Eduwill's brand identity.\",\n",
       " \"Processor 130 may identify the user's arm and identify a touch pen located on one side of the user's arm.\",\n",
       " 'Meanwhile, in an embodiment of the present invention, the first power-saving mode corresponds to the dimming mode, and a second power-saving mode to be described below corresponds to the lock screen mode.',\n",
       " 'I may not have free will, but these pions sure appear to have it.',\n",
       " 'In addition, it is necessary to organize technical education together in order to help directly practice these curriculums.',\n",
       " 'In this study, it was found that as the ammonia plasma treatment time increased, the existing thickness decreased in inverse proportion.',\n",
       " 'As shown in Figure 6, the demand for big data professionals is rapidly increasing due to big data technology development and market expansion.',\n",
       " 'An object of the present invention is to enable secure authentication by using behavioral and situation information as authentication information.',\n",
       " 'In addition, the physical properties of the mold steel and face plate used the values of physical properties shown in Table 1.',\n",
       " 'Among them, nine facilities have a deficit of more than 1 billion won a year.',\n",
       " 'Optionally, the collection module may be a different hardware circuit or component.',\n",
       " 'The reference voltage generator 321 may include a voltage divider 331 and a voltage level controller 332.',\n",
       " 'Some AR or VR devices may not have haptic feedback capabilities.',\n",
       " 'This is because the piezoelectric constant and dielectric constant have increased at the same time as shown in the equation below.',\n",
       " 'The internal damage, which depends on both the fiber and the particle, is not easily evaluated.',\n",
       " 'Among the high-rise observation decks, it is rare to see the wind blowing through them.',\n",
       " 'By printing the detection data on the label sheet, the label sheet on which the detection data is printed may be pasted into a notebook or the like.',\n",
       " 'One of the most important rate parameters, crystallization half-time which is defined as the time taken the relative crystallinity of the sample reaches the value of 50% can be directly obtained from Fig. 7.',\n",
       " 'It is characterized in that it further comprises a hardening part for forcibly hardening the liquid material extruded by the extrusion part.',\n",
       " 'In this study, the perception of competency and educational demand of company field teacher were compared and analyzed for school and business managers.',\n",
       " 'Education policy is guaranteed by the education system, policy operation, education finance, and the position of teachers within the scope guaranteed by law, and is enacted through the legislative process.',\n",
       " 'It is necessary to analyze the Supreme Court judgments and various lower court judgments for this.',\n",
       " 'The spectrum shown in Figure 3d shows that the peak of W and Ti elements is observed, indicating that the d area is the TiW layer.',\n",
       " 'This will open up solutions one by one that can solve the next level of problems.',\n",
       " 'There were only two keywords of knowledge competency, which accounted for a low proportion of 12%.',\n",
       " 'We can think of division of large numbers by making them division of small numbers.',\n",
       " 'Hereinafter, the present disclosure relates to an apparatus and a method for a handover in a wireless communication system.',\n",
       " 'One of the important design parameters in the centrifugal compressor is an angle of the vane 30.',\n",
       " 'These four things make rich the country above and the family below.',\n",
       " 'The reason it started addressing from the 1880s is that Chinese residence in Korea was legally recognized by the Korean-Sino Regulations of 1882 for Maritime and Overland Trade.',\n",
       " 'In each cell, physical/chemical characteristics such as the concentration of nitrogen oxides, the concentration of ammonia, and the temperature may be the same.',\n",
       " 'When signing up, the premium does not reflect the health status of the subscriber, and because renewal and re-subscription cannot be declined, there is a high possibility of adverse selection.',\n",
       " 'In the relationship between the humanities and social sciences graduate students and their advisors, it can be judged that interpersonal relationships and academic factors play an important role together.',\n",
       " 'The estimation equation of DOLS can be expressed as Equation 2.',\n",
       " 'Mathematics may not be invented to solve special problems for the next 100 years.',\n",
       " 'However, it may be more preferable to use monomers having solubility in water among them.',\n",
       " '3Rs are taught in schools because they are a common element in all kinds of work.',\n",
       " 'In one embodiment, the 3D tooth model may include at least one tooth on which root canal treatment is performed.',\n",
       " 'A retired doctor thinks X is illegal and is trying to instigate a judicial review.',\n",
       " 'The mean and standard deviation of pre-post tests of musical interest and musical creativity were calculated, and there was a difference between groups in musical interest, so a covariate analysis was performed using the pre-test as covariates for both musical interest and musical creativity.',\n",
       " 'The processor 130 may extract a command from the character string extracted through the command extraction module 232.',\n",
       " 'As an example, the reflected light may be light generated according as light caused by the driving of the display 120 is reflected from the body.',\n",
       " 'Before charge sharing is performed, voltage levels of the bit line and a complementary bit line may be the same.',\n",
       " 'This paper tries to examine the local economy in terms of industry, and present solutions.',\n",
       " 'In terms of research method, literature research on lifelong university education was the most common.',\n",
       " 'Information on the plurality of differences may be weighted according to importance.',\n",
       " 'The dilemma facing the global economy and the asset market, recently, is that only the US economy is good.',\n",
       " 'The wireless communication system shown in FIG. 1 may be, for example, the LTE system.',\n",
       " 'However, there are some studies that focused on the cooperation-conflict relationship of stakeholders in the process of introducing the joint property taxation system in Seoul and analyzed the characteristics of it.',\n",
       " 'Discussion activities considering content and time have been shown to be a positive factor in making learning efficiency highly recognized.',\n",
       " 'Overcoming all difficulties, the stack will remain intact, even though it is barely doing so.',\n",
       " 'Here, the respective counters are initialized according to a reset control signal from the control unit 80.',\n",
       " 'Under this situation, users are hoping to extend heating as much as possible.',\n",
       " 'Considering such a point, it is possible that distance is directly or indirectly related to the antidumping petitions.',\n",
       " \"AAA report that the higher the foreign investor's equity ratio, the more positively the donation expenditure has on corporate value.\",\n",
       " 'As such, it was found that the characteristics that appear differently according to the content area show the same pattern according to the grade cluster.',\n",
       " 'It is not reasonable to conclude that virtual currency transactions are illegal and completely regulate them.',\n",
       " 'A shelf fixing unit 19 to which the shelf 18 is fixed may be formed in the duct 4.',\n",
       " \"Using Hill's notation, it can be simply expressed as the effective isotropic volume expansion coefficient and shear modulus as follows.\",\n",
       " 'The protective films 10 and 20 were thermally bonded to the printed layer 30 of the biaxially stretched polypropylene deco sheet film.',\n",
       " 'At the moment, when the resin solution is added, since some solvent is included, the consequence of increasing the solvent as a complete appears and a sufficiently low viscosity is guaranteed.',\n",
       " 'Display substrate 301a may be a region that emits light including an organic light-emitting device.',\n",
       " 'To sum up, the most basic thing in civic education is the ability to understand oneself, communicate with others, and ability to empathize.',\n",
       " 'The second fuel nozzles LL1 may be disposed between a pair of adjacent first fuel nozzles HL1 to HL3.',\n",
       " 'The water cooler 200 according to an embodiment of the present invention may further include a filter unit 220 in a path supplying water.',\n",
       " 'The data processing order between processing elements may be sequentially performed from left to right.',\n",
       " 'In this case, the PTZ operation velocity may change depending on the panning angle, the tilting angle, and/or the zoom magnification of the camera module 110.',\n",
       " 'When Nietzsche criticizes slave morality, it is commonly understood as arguing that slave morality should be replaced by master morality.',\n",
       " 'The smart device may be provided with an antenna for wireless communication with a network.',\n",
       " 'Information displayed on the display panel may be viewed by a user located behind the display.',\n",
       " 'On the horizontal traveling surface S, the actual movement direction Dr of the moving robot 100 becomes the target movement direction Dt.',\n",
       " 'It is expected that the contents analyzed through this study will contribute to setting the direction of the dietary life curriculum’s content composition so that elementary school students can improve their eating ability in the future.',\n",
       " 'FIG. 2 is a reference view illustrating a correlation between an adsorbent and an unmodified polymer or a modified polymer according to an embodiment of the present invention.',\n",
       " 'In the case of the United States, it is the second-largest country after Japan.',\n",
       " 'The largest coding unit 610 has a depth of 0 and the size of a coding unit, i.e., height and width, of 64×64.',\n",
       " 'In this respect, it can be said that there is an urgent need for a problem to be a necessary condition for a class to be established, but it cannot be a sufficient condition.',\n",
       " 'IA means that the disability is distributed from 1 to 10 points, and as the score increases, IA has a higher level of disability.',\n",
       " 'This polarization of the rate of change in hourly wages implies the possibility that the wage gap between the highest and non-highest levels will continue.',\n",
       " 'The functions required for the present invention may be performed by interworking with a server accessible by the user device through a network.',\n",
       " 'If the target amount of all the sections is achieved, the mobile device may end the operation.',\n",
       " 'First of all, the decrease in the increase/decrease rate of self-employed persons with employees due to the increase in the minimum wage in 2018 was -2.55%p.',\n",
       " 'It is said that there were restrictions on the progress of the activities as there were many administrative tasks that had to be done before and after the activity or required to ask for help from parents each time.',\n",
       " 'We call the special engine as the Carnot engine, which is based on a process called a Carnot cycle.',\n",
       " 'Meanwhile, the storage device 100 may further include an ECC circuit.',\n",
       " 'The wireless communication apparatus 38 may communicate with an apparatus other than the vehicle 1.',\n",
       " 'It is estimated that a total of 23,000 people will be eligible for free school uniforms.',\n",
       " 'In the evaluation model, each aspect of vocational training is comprehensively evaluated from the perspective of situation-input-process excluding output.',\n",
       " 'After the introduction of chili peppers in the late Joseon Dynasty, it was then mixed with salt that helps ferment kimchi, giving it the appearance of the kimchi familiar to us today.',\n",
       " 'Information processing systems perform information processing by sensing input information from the outside world, storing information, and outputting information processing results to the outside world.',\n",
       " 'A global corporation is an organization made up of several local corporations and members of cultural diversity.',\n",
       " 'Under these circumstances, companies are demanding social responsibility for CSR, such as environment, welfare and human rights, beyond just donation or social contribution.',\n",
       " 'The wireless power transmitting unit may receive report signals from the one or more wireless power receiving units (S2309).',\n",
       " 'This chapter introduces examples of research data management and related systems.',\n",
       " 'In terms of universal labor rights and freedom of occupation, legal and structural problems are fundamental limitations due to the nature of the system.',\n",
       " 'Students who are accustomed to understanding the contents of books because they have developed a reading habit have no difficulty in reasoning, adapting, and imagining.',\n",
       " 'The duty factor of the Manchester code is changed by the user for LED illumination control.',\n",
       " 'FIG. 4 is an exploded perspective view of FIG. 1, and FIG. 5 is a view illustrating a sensing member 600.',\n",
       " 'In fact, horizontal and vertical mathematization occurs through students’ actions and reflective thinking about those actions.',\n",
       " 'The second power supply unit 620 performs a function of supplying power to each unit constituting the object controlling apparatus 600.',\n",
       " 'It can be seen that hagwon culture is formed by parents’ expectations for private education.',\n",
       " \"Life history is a record of telling others about one's past life.\",\n",
       " 'Here, the animation information on the third object may be motion information generated by the creator for each atmosphere type of the content.',\n",
       " 'The electromagnetic sensor 113 is an object including a resonance circuit and may sense an input by a stylus pen or the like.',\n",
       " 'It is possible to examine the way in which the meaning of “reflective reflection” is dealt with as a concrete example in AAA’s qualitative study on the professional development patterns of teachers.',\n",
       " 'Just as AAA insists that efforts should be made to understand the position of students with low motor skills, such students should be given reasonable educational “consideration” and “recognition” rather than comparing them with others in goals, content, and evaluation.',\n",
       " 'The mid-segment consists of three chapters of A4 size of learning material divided by the group of organs.',\n",
       " 'One of the important factors contributing to the practical advancement of machine learning is the use of a common framework.',\n",
       " 'For this reason, regional ICT investment still does not secure its original strategic value to solve regional problems and improve quality of life.',\n",
       " 'Tan etstigated the technical properties of EPDM in an environment similar to that of a fuel mobile stack, and showed no significant change within 35 weeks.',\n",
       " 'To solve this problem, a rapid diagnostic test method has been developed and used.',\n",
       " 'The lack of a clear regulatory framework and information asymmetry has the drawbacks of incomplete effective supervision and investor protection.',\n",
       " 'The circumference reaches 800 m, which is three times that of the third generation in Pohang.',\n",
       " 'They are not generally used in the environmental industry but are used to produce commercial products such as flour or medicine.',\n",
       " 'Rutherford and Frederick Soddy showed in 1902 that radioactivity involves the transformation of the radioactive element into another element.',\n",
       " 'The output unit 650 may output the guide information generated by the processor 630.',\n",
       " 'Among the factors of personal characteristic, the higher the age at the time of business establishment, the greater the risk of leaving self-employment.',\n",
       " 'These studies have specifically attempted a process analysis approach.',\n",
       " 'A colleague dispatched to Titan must return to Earth.',\n",
       " 'According to an embodiment, the flexible member 1100 may have a shape similar to a letter “T”.',\n",
       " 'If you have a willingness to do it even as much as the tip of your hair, it is not academic.',\n",
       " 'The absolute evaluation method in all areas of the CSAT did not receive good evaluations from teachers in terms of educational effectiveness.',\n",
       " 'According to an embodiment, the electronic device 100 may use a plurality of communication methods.',\n",
       " 'The use of these materials makes it possible to more clearly differentiate between different force levels.',\n",
       " 'The double separation line appears the weakest in the sample at the point where a large amount of white precipitates are formed.',\n",
       " 'COPD patients reported increased oxidative stress in the lungs compared to non-smokers and smoking controls.',\n",
       " 'That is, the selected letter may be displayed by being reflected with a fluorescent effect.',\n",
       " \"In Spain's mainstream health system, long-standing policy attempts to embrace Gypsies and to improve their health status are at risk and even face a medium-term setback.\",\n",
       " 'As a result of processing, the push notification may be provided through the output unit 340 according to settings of the electronic device 100.',\n",
       " 'Compared to the reference group aged 55-59, the 35-39-year-old group increased the balance per borrower by an annual average of 8,160,000 won more.',\n",
       " 'On the other hand, he can also decide on a treatment plan other than that recommended by the CMA.',\n",
       " 'The index is limited to 200 companies to be calculated, and there is a basic limitation that it is difficult to distinguish by size.',\n",
       " 'In the meantime, research on how teacher cooperation affects classroom activities has been mainly conducted from the perspective of learner-centered instruction, which is the focus of innovative school policies.',\n",
       " 'Textbooks present several questions, mainly those related to the learning objectives of the unit and the questions to understand the text realistically.',\n",
       " \"In order to reduce participant's fatigue on the information search, the UI was constructed so that travel destination information can be checked at a glance even during application.\",\n",
       " 'Such analysis results remind us that the structural position of each country and the role of the cultural dimension are important.',\n",
       " 'He said that the economy is good even though the economy is bad and that if interest rates are raised, and taxes are collected, the economy could be even worse.',\n",
       " 'The ringing-removed high resolution image HRI′ may be stored in a second line memory 123.',\n",
       " 'After this post-process, the parts that could not be welded were not distinguishable by the naked eye even if a welding defect occurred.',\n",
       " 'Understanding students’ values in class is critical to successful teaching because of the action-oriented aspect of values.',\n",
       " 'An operation of the electronic brake system 1 according to the embodiment of the present invention will hereinafter be described.',\n",
       " 'Referring to FIG. 9, the main resonant unit and the field guiding resonant unit may be expressed by RLC resonant circuits.',\n",
       " 'In proportion to the aging population, the prevalence of multiple chronic diseases is steadily increasing.',\n",
       " 'It is formed in social relations and has the characteristics of fluidity and variability.',\n",
       " 'He said that a systematic operating system should be established to ensure stable application.',\n",
       " 'One end of each of the pair of conductive rods 262 may be in contact with the cam structure 268a.',\n",
       " 'We could have started by factoring 12 into 2 and 6.',\n",
       " 'At this time, it is possible to debate whether it is a complete or incomplete duplication.',\n",
       " 'These days 3D design software is designed and durability is made smaller.',\n",
       " 'Based on the results of the content analysis of this study, the discussion on the practice of special education on three topics is as follows.',\n",
       " 'The first and second ice making units 100 and 200 are disposed in spaces separated from each other by the partition wall 25.',\n",
       " 'Through this shape, it can be confirmed that the pores inside the composite materials exist near the skin surface.',\n",
       " 'Test items were developed based on AAA’s research and books.',\n",
       " 'Conflicts created in this way are not resolved in a short period, but rather, healing and recovery occur together through a long process of communication.',\n",
       " 'Now, in order to examine the impact of the increase in college graduates on the choices of companies, it would recall the situation in which some of the young people choose college education.',\n",
       " 'Instead, it is necessary to take necessary measures at the current level in the stage where creative works are created and commercialized with artificial intelligence-based technology tools.',\n",
       " 'Excluding studies that are not related to MOOC, 226 studies were selected for systematic literature review.',\n",
       " 'FIG. 15 is a block diagram illustrating another example of a counting unit 220b of memory device 20 of FIG. 1.',\n",
       " 'Figure 8 presents the form of the estimation formula for each section area to illustrate the change in the estimation result according to the section area.',\n",
       " 'The processing unit may also be a computer or server to which data obtained from the light receiver 234 is transmitted.',\n",
       " 'As a result, the physical properties of the adsorption interface according to various spring compliance values could be confirmed through reverse analysis.',\n",
       " 'Driving regularly is about 1000 times more risky than teaching in a school where asbestos is present.',\n",
       " 'Math anxiety has the potential to develop into math avoidance or math fear that goes beyond anxiety.',\n",
       " \"With this configuration, a user's viewing angle can be widened, a sense of immersion can be increased, and a sense of space can be improved.\",\n",
       " 'In the embodiment of the present invention, a heating tube 32 for hot water is additionally installed in the body 22 in the form of a coil.',\n",
       " 'Changes in the volume of the thoracic cavity during breathing cause the increase or decrease of the body surface.',\n",
       " 'The energy radiated onto the surface of Earth by the Sun exceeds the energy needs of the entire human population by a factor of more than 10,000.',\n",
       " 'To this end, by notifying teachers at elementary, middle school, and high school about the objectives and contents of the program operation, 50 participants in education were recruited.',\n",
       " 'The small gear 410 may be formed on an end of the motor shaft 40a of the motor unit 40.',\n",
       " 'Agents perceive changes in their environment and take actions to respond to them.',\n",
       " 'The cover layer may further include a haptic module which vibrates according to a vibration pattern.',\n",
       " 'In terms of being, the other is understood as being different in terms of qualitative and inherent nature.',\n",
       " 'Nature becomes the best orchestra that delivers moving music.',\n",
       " 'Mol heat capacity refers to the heat capacity of a mole of material.',\n",
       " 'There are circumstances where it is more appropriate to use the particle concept, and circumstances where it is better to use the wave concept.',\n",
       " 'AAA’s case is known to be more appropriate for behavioral learning, but in fact, there is no difference in that both have social interaction at the heart of learning and development.',\n",
       " 'In the case of elementary school, the necessity for theoretical subjects was found to be highest, and in the case of middle and high school, the necessity for practical subjects was found to be highest.',\n",
       " 'Specific examples of the arylalkyl group may include a benzyl group, a phenethyl group or the like.',\n",
       " 'A start bit \"0\" and a stop bit \"1\" are added before and after the character, respectively.',\n",
       " \"After all, the attitude and perspective of leading the class centered on the teacher caused a problem that lowered the teacher's confidence.\",\n",
       " 'This force is an example of a contact force, in which one object has to be in contact with another to exert a force on it.',\n",
       " 'The naked eye is a valuable tool for weather predictors.',\n",
       " 'FIG. 24 is a flowchart illustrating an operation method in a third electronic device according to an embodiment of the present invention.',\n",
       " 'Interest in engineering is increasing in Korea may reflect the voice of self-righteousness that the understanding of “Engineering” and “Technology” in the early childhood education field is insufficient.',\n",
       " 'The user should refer to the contents of the commands and messages that the user wants to send.',\n",
       " 'Risk-weighted assets are calculated as weights used to reflect the underlying risk associated with various types of loss exposure.',\n",
       " 'How should we compare the size of infinities?',\n",
       " 'Referring to FIGS. 2 and 3, the computing controller 142 includes a control register 142a and a comparator 142b.',\n",
       " 'Given the experimental results, it is correct for us to have only an opaque box.',\n",
       " 'The former provides concepts, subjects, thoughts, and functions as the background of integrated activities, and the latter refers to a system that operates an integrated curriculum through activities that express them through art.',\n",
       " 'However, there are still limitations in implementing commercialized products, and products that have improved them are being developed and studied.',\n",
       " \"The researcher made a research log by observing the student's behavior for each session.\",\n",
       " 'This space and time are not a Lorentz metrics applied to normal spacetime.',\n",
       " 'This means that it takes 10 years or more to build a house without spending a single penny on the annual income that can be used by the household after deducting taxes.',\n",
       " 'Accordingly, an opening rate of each of the first, second and third passages 220a, 220b and 220c may be controlled.',\n",
       " 'The share of overseas investment increased from less than 1% in 2012 to 2% in 2016, and the scale was found to be about 50 billion dollars.',\n",
       " 'Here, we will focus on the seven learning contents presented in the textbook content analysis related to the Pythagorean theorem.',\n",
       " 'The insurance business law also uses fines as a sanctions against violations of the law by insurance companies.',\n",
       " 'In the future, new trade agreements may create a framework for monitoring compliance with core labor standards, including participation in civil society, which is voluntary but imposes some coercion.',\n",
       " 'The expansion of educational practice is psychologically burdensome from the perspective of students who go to practice, and it is not pleasant for the practical school that educates them because of the increase in teacher work and the impact on the school.',\n",
       " 'Confucius said he would not boldly speak to his disciples.',\n",
       " 'Factors affecting fatigue characteristics include the shape, size and pore of the composition existing in the material, contraction cavity, inclusion, oxide film, etc.',\n",
       " 'In order to secure the stability of the public pension system, above all, the possibility of maintaining the pension finances must be secured.',\n",
       " 'In one embodiment, b1 to b6 may each independently be 1, 2, or 3.',\n",
       " 'It is necessary to develop a control algorithm that reduces measurement time by minimizing the number of Iterations to find the optimal pressurization direction.',\n",
       " 'The wire receiving groove 573 may extend upwardly from the element mounting hole 571.',\n",
       " 'A film not being processed with microwave represents relatively less crystallinity, but most of the peaks represent β crystallinity.',\n",
       " 'Thus, it has been confirmed that dissatisfaction with life does not increase relative external value orientation.',\n",
       " 'If renegotiation is promoted against Korea, there is a possibility that its dominance in the U.S. market will weaken—such as a decline in its share in the U.S. market.',\n",
       " \"In addition, in a follow-up review of Greece's end of bailout, the Commission said the pace of Greece's recent reforms slowed.\",\n",
       " 'It was suggested that it is urgent to prepare and implement a specific and practical operating system for diagnosis and evaluation for disability screening and eligibility determination and educational environment placement.',\n",
       " 'The current having passed through the fifth diode 145 may be transferred to the DC/DC converter 170.',\n",
       " 'As blood flow increases, and consequently congestion increases, hemoglobin increases.',\n",
       " 'The rate of deduction for wage costs for research personnel derived from this was 10%.',\n",
       " 'FIG. 6 is a schematic diagram illustrating delay performance of a mobile game in a communication system according to an embodiment of the present invention.',\n",
       " 'In the second cultivation building 12, a shiitake medium that does not meet a predetermined quality standard is accommodated.',\n",
       " 'Then, as you can see below, the double angle formula was created through a triangle attached to two triangles.',\n",
       " 'In this study, the types of treatment departments were classified into internal medicine, surgery, dentistry, and oriental medicine that were used in the data of the 2017 medical service experience survey.',\n",
       " 'Real GNI, the unit rate of electricity sales for residential use, the alternative energy price, heating and cooling degree days, and the number of single-person households were used as explanatory variables.',\n",
       " 'For the treatment effect that occurred in 2016, three-year average sales are used in the estimated corporate classification standard.',\n",
       " 'The sales and exports amounted to 58.46 trillion won and 26.7 billion dollars, respectively.',\n",
       " 'Although we have entered a global society today, our “identity” as a cultural and historical Korean is also being treated as important.',\n",
       " 'In fact, it can be seen that it does not lead to enhancing individual vocational skills.',\n",
       " \"By analyzing the smart farm policy process based on AAA's innovation process model, it would like to derive policy implications for the settlement of smart farm policies.\",\n",
       " 'In the heat dissipation fin 551, an engagement groove 5511e for engaging the fin-engagement portion 5530 may be formed.',\n",
       " 'It was confirmed that the average radial shrinkage rate of the resin was about 50 to 60% of the total final curing shrinkage rate at the initial 20 s.',\n",
       " 'In certain embodiments, the coating composition may optionally include an additive or combination of additives.',\n",
       " 'In step S580, the memory controller 400 determines whether fail bits of the read data are correctable with the ECC.',\n",
       " 'There’s something the mind resists about regression to the mean.',\n",
       " 'The housing part 20 is formed in a plate shape, and installed in a shape surrounding the side of the first speed reduction part 30.',\n",
       " 'In regional networks, it is important to establish transactional relationships between social economy companies and various economic subjects in the region.',\n",
       " 'In theory, it would be also possible to argue that the price of a bundled product could be set equal to, or even slightly higher than, the sum of the individual product prices.',\n",
       " \"Finally, it was designed to reflect on one's own performance and reinforce the contents learned by writing a reflection journal in the post-class stage.\",\n",
       " 'Americans can drink water that contains arsenic by purifying it.',\n",
       " 'The domestic value added included in imported intermediate goods refers to the added value returned to the home country as intermediate goods.',\n",
       " 'Recently, the demands of customers who want a thinner and lighter makeup method have become stronger and product development is being made.',\n",
       " 'According to an embodiment, the wire may wind the outer circumferential surface of the flexible backbone in multiples of 360 degrees in a spiral shape.',\n",
       " 'There was no division or department dedicated solely to telemedicine.',\n",
       " 'According to another embodiment, the user interface may further include a haptic pattern for notification settings.',\n",
       " \"And, as in Experiment 2, the participants' emotions were measured using the items corresponding to the depression category of K-POMS.\",\n",
       " 'The access information of the terminal device may include information on the communication type, MAC address information, and information indicating security communication.',\n",
       " 'The main controller 410 may use a threshold value for an amplitude value of a determined signal.',\n",
       " \"The meaning of the paradoxical term for divine and rational order would be closely related to Emile's understanding of religious education.\",\n",
       " 'First, the electronic device 100 may parse the compressed data stored in the memory by a predetermined valid bit (S810).',\n",
       " 'The degree of the ionization of a substance varies depending on its pH, which affects the activity of the enzyme.',\n",
       " 'It was developed in the SPA method and implemented to look like an app on the mobile web.',\n",
       " 'In other words, in the case of Korea, both the growth rate of added value and the growth rate of total factor productivity fell the most after the global financial crisis.',\n",
       " 'Although the number of students per class was specified in the law, there were areas where the standard was exceeded at school level except for elementary school.',\n",
       " 'After reading a literary work, I can grasp aesthetic expressions and meanings.',\n",
       " 'According to this configuration, the electronic device may perform different operations according to the pressure region.',\n",
       " 'When the TAO data were uncertain, it was directly searched for and supplemented by the customs rate table of the Korea Customs Service.',\n",
       " 'On the other hand, in this embodiment, two coils are made to rotate around the metal plates M10 and M20.',\n",
       " 'The peak near zero means that most are not receiving a basic pension.',\n",
       " 'FIG. 5 is a view illustrating the coil wound around the stator, and FIG. 6 is a view illustrating a location of the connection end of the coil illustrated in FIG. 5.',\n",
       " \"The data required for this study were collected based on a business report registered in the Financial Supervisory Service's electronic disclosure system.\",\n",
       " 'FIG. 3 is a timing diagram illustrating the operation of the memory core of FIG. 1 when the equalization circuit of FIG. 1 has the configuration of FIG. 2.',\n",
       " \"The favorite setting area 720 has a function of setting a browser's landing page as a bookmark.\",\n",
       " 'He saw that Japan succeeded in economic development by transforming into a developing country, not a free market like the United States or Europe or a planned economy like the former Soviet Union.',\n",
       " 'For example, the electronic device 100 may include electrodes EL3 and EL4.',\n",
       " 'The fourth traffic data may include variation information of a traffic amount over time at the specific area.',\n",
       " 'Becoming a blind vocational ‘educator’ means graduating from a college of education and obtaining a teaching certificate.',\n",
       " 'The change in the state vector based on Schrödinger equation is represented by the symbol U.',\n",
       " 'The communication module 620 may communicate with the vehicle communication system 110 provided in the vehicle 100.',\n",
       " 'It appears that the correct answer rate has increased as it is known that each of the three vertices can be mended in each of the upright and rotated triangular arrangements.',\n",
       " 'The specificity of thermodynamic affinity rephrases an age-old problem in modern language, the problem of the distinction between the legal and indifferent world of dynamic law, and the world of spontaneous and productive activity to which chemical reactions belong.',\n",
       " 'There may be concerns or potential problems that you may have yourself.',\n",
       " 'It was found that the investment of the quarter has a stronger impact on the exports of the quarter, which can be interpreted as the drive for investment in intermediate goods exports.',\n",
       " \"At the bottom of the screen, there are buttons such as Go to the main screen, check the achievements, set up, and help to check the student's learning status.\",\n",
       " 'The code may be cryptographically signed before it is loaded, and the SSD will check this signature.',\n",
       " 'Problems related to students’ adjustment to school life are of paramount importance.',\n",
       " 'Next, a plurality of joint rings (joint members) 130 are connected by rivet coupling (S26).',\n",
       " 'On the other hand, when the continuous input state is stopped, the device detected by the camera can be controlled.',\n",
       " 'In this way, as the close relationship between such components is established, the control power of the system gradually increases.',\n",
       " 'The number 1127 itself disappeared in a reorganization in 2005.',\n",
       " 'Most of them chose a major based on advice and information that they would be promising when entering college.',\n",
       " 'As it is fundamentally impossible to correct, the view believes that the market itself should be abolished or that government intervention should largely replace the market.',\n",
       " 'To protect its own industries, the country should effectively deter imports from competitors in other countries.',\n",
       " 'This manual assembly may be achieved if the tip portion 2030 is substantially flexible (e.g., made of rubber).',\n",
       " 'Otherwise, it is highly likely that subsidiaries will remain subordinate to the controlling shareholders and control towers of the group.',\n",
       " 'The resin composition for a cable tie according to the present invention has excellent impact strength and tensile elongation.',\n",
       " 'For easy visual comparison, the transparent acrylic chamber was wrapped with black paper and a white hole was made in the center.',\n",
       " 'Currently, 7% is deducted if you voluntarily report inheritance or gift, but it will be gradually reduced to 5% from next year and 3% in 2019.',\n",
       " 'If we successfully respond to the crisis, it will be an opportunity, otherwise it will be catastrophic.',\n",
       " 'Comparing by continent, in the case of agricultural exports, in the Americas, the income of the partner country and whether an FTA is concluded have a positive effect compared to the export of general goods.',\n",
       " 'AAA says the rapid expansion of policy goals and targets could lead to policy failures as the domestic smart farm market remains in the early market.',\n",
       " 'Based on the cybersecurity education plan proposed in Chapter 4, it is thought that it will be possible to easily develop a regular cybersecurity education textbook.',\n",
       " 'In addition, it is possible to operate in a power saving mode corresponding to a predetermined stage according to a signal transmitted from the power saving step input unit 664.',\n",
       " 'The long-term impact of expanding managed care on access to medical services and expenditure on quality medical expenses needs to be determined after the final report in 2022.',\n",
       " 'The monarch also regulates the supply and demand of goods and actively intervenes in the market to protect the people from the deepening social imbalance.',\n",
       " 'Here, the fine spot candidate data TSCD may include noise as well as the second spot 620.',\n",
       " 'He said he should be able to expand his understanding of ideas and values.',\n",
       " 'When the input signal VIN is a low voltage input signal, a transistor N14 of the third pull-up protection unit 170 may be turned on.',\n",
       " 'This is because the development of entrepreneurship does not mean only data collection and systematic business planning.',\n",
       " 'A total of 111 IEP documents were collected from 52 special education teachers who obtained parental consent to participate in the study.',\n",
       " 'There is no place that extends from heaven and earth and people to ethics, humanity, institutions, culture, laws, and the four social classes.',\n",
       " 'The use of composite materials is gradually increasing in the aerospace industry where weight reduction is important because of their high specific strength and specific stiffness.',\n",
       " 'The main feature of flipped learning is that the learner must sufficiently perform prior learning before class.',\n",
       " 'An agricultural sprinkler distributes water in a circular pattern of radius 50 m.',\n",
       " 'AAA examined the effect of foreign bond transactions on volatility in the domestic bond market.',\n",
       " 'The first joint protector mounting part 13 may have one end of the joint protector 70 detachable.',\n",
       " 'The mold frame 10 may be connected to a liquid pressure adjustment unit 40 for supplying a liquid into the space 102.',\n",
       " 'Due to structural changes, the degree of increase in national tax revenue due to the growth of current GDP appears to have decreased in recent years compared to the past.',\n",
       " 'Two or more selected from the above materials may be mixed, or the above-described film may be multilayered.',\n",
       " 'In conclusion, the counting number is the basis for the resultant intensity and as the basis for various counting activities, it should be used for the learning of operations where the number series occupies an important position.',\n",
       " 'The unsatisfied desire for growth in Korea is expressed through investments in Chinese and Vietnamese stock markets, US Nasdaq technology stocks, and Brazilian bonds.',\n",
       " 'In many ways the present is an illusion, just as the flat Earth is an illusion wrought from our inability to perceive the curvature of the Earth from our vantage point on its surface.',\n",
       " 'FIG. 6 is a diagram illustrating the evaluation results of release of reactive oxygen species of CMD-TiO2 nanoparticles according to embodiment 1 of the present invention.',\n",
       " 'They do not have leadership in any culture, but they have the characteristics of having a flexible relationship with the culture they have encountered.',\n",
       " 'In step 170, the first terminal transmits the data received from the server to the second terminal.',\n",
       " \"The wearable device 100 is an input/output means mounted on a part of the user's body (e.g., hand, neck, head, etc.).\",\n",
       " 'The structural analysis of the composite tie rod was performed using the commercial software Midas NFX program.',\n",
       " 'The voting process is achieved through a lock-up agreement type contract that implements the prior agreement as it is, and hence it has a time-saving effect.',\n",
       " 'As mentioned earlier, social studies is one of the subjects that students are struggling with.',\n",
       " 'He derived conclusion that if the import tariff rate fell by 1%, the productivity of individual businesses increased by 1.3% on average.',\n",
       " 'This is because the subject of geography is essentially a broad subject that deals with the humanities, social sciences, natural sciences, engineering, and technology.',\n",
       " 'Updates are displayed on the display device or displayed in a displayed view.',\n",
       " 'In some configurations, one or more tables may be associated with more than one portion of the second space.',\n",
       " 'The user terminal 603 may provide the user with the exercise goal of the user.',\n",
       " 'In FIG. 4, a user terminal 200 that is a mobile terminal is illustrated as an example.',\n",
       " \"For example, regional informatization from the 1970s has taken over the central government's informatization.\",\n",
       " 'First, when each company freely forms a association, the private incentive and social welfare effect of the association are examined.',\n",
       " 'In operation 633, the processor 120 may identify whether the iris template extraction is successful.',\n",
       " 'When home appliance 100 is a washing machine, several scenarios are summarized in Table 1 below.',\n",
       " \"To this end, the decision prediction apparatus 100 observes the user's behavior.\",\n",
       " 'User 10 may draw letters or pictures indicating execution of a specific program on TV 40.',\n",
       " 'It can be difficult to obtain accurate information on the probability distribution of random failures of the tax evasion surveillance system.',\n",
       " 'A plurality of light signals input to the light signal multiplexer 100 may have different wavelengths.',\n",
       " 'In particular, the areas needed to improve service are cognitive science, engineering, sociology, and humanities.',\n",
       " 'In short, a petition refers to the act of a citizen stating his or her hope for a national institution.',\n",
       " 'The LIG patterns were applied using a 10.6 µm CO2 laser on a polyimide substrate attached on a glass slide.',\n",
       " 'In the case of Korea with a small and open economy, the degree of external dependence appears to be higher than that of the G7 countries above.',\n",
       " 'Even those not covered by health insurance, such as medical benefit recipients, veterans, and homeless people, will also be provided with disaster aid in consideration of difficult living conditions.',\n",
       " 'FIG. 3 is a diagram illustrating a master-slave ring-structured field bus of the walking robot shown in FIGS. 1 and 2.',\n",
       " 'According to one embodiment of the present invention, the visual impairment may be macular degeneration.',\n",
       " 'Section 2 (Construction of Argument) describes general guidelines that should be referenced to reconstruct the other party’s speech into an argument.',\n",
       " 'The microcapsules 106 are preferably applied by spray spraying on the top sheet 105.',\n",
       " 'This ultimate effort of knowing is connected with the pursuit of truth, which is the mission of the university.',\n",
       " 'In each semester, teachers in charge of coding education are in charge of invited, adjunct, and outpatient teachers, excluding 1 to 2 full-time teachers and 1 to 2 lecturers.',\n",
       " 'The first terminal device 120A may be controlled by the control device 110.',\n",
       " 'In this case, medical expenses and medical use cases due to non-invasive diseases were not included.',\n",
       " \"The degree of students' participation in classes or departure from class may depend on the goal structure, or vice versa.\",\n",
       " 'The 3-dimensional space represents the purely spatial direction at a point.',\n",
       " 'We repeat the process of dividing the decimal we found with a smaller number.',\n",
       " 'The processor 270 may detect an object from an output screen.',\n",
       " 'The importance, usefulness, and accessibility of SW education recognized by learners can be measured and compared.',\n",
       " 'In the present embodiment, the recipient device allocates eight antenna elements to each beam port and configures one beam port to be used.',\n",
       " 'Conventional digital printing machines have a support frame on a predetermined height of the body.',\n",
       " 'It does not encourage ethical coexistence with the ultimate other through the boundaries and differences between them, or incomplete dialogue and critical interpretation.',\n",
       " 'In this process, I came to realize that my literary ideas were changed.',\n",
       " 'Research is the result of experimentation, not research conducted in university lecture-style classes.',\n",
       " 'Looking at the changes in cost efficiency by company size following the implementation of bancassurance, the three large companies have very little change in cost efficiency.',\n",
       " 'In recent years, the proportion of manufacturing and construction industries, like marginal companies, has been decreasing, while the proportions of wholesale and retail, real estate, and rental businesses are increasing.',\n",
       " 'The trays may include a disinfection unit for disinfecting the tip unit stored in the drawer.',\n",
       " 'FIG. 18 is a view for illustrating a process of adjusting a plurality of setting areas, a window width, and a window level.',\n",
       " 'Alternatively, hit detector 1700 may be displayed based on the first output virtual location information and the second output virtual location information.',\n",
       " 'AAA 1 has postponed AAA 2’s visit to North Korea indefinitely, so AAA 3’s unprecedented sense of speed requires some adjustment.',\n",
       " 'This is a method that can be easily utilized by instructors who lack professional knowledge of teaching and learning.',\n",
       " 'The photo-induced deterioration analysis unit 51 transmits the determined photo-induced deterioration prediction image signal to the gray level compensation value calculation unit 52.',\n",
       " 'The insulating layer ILD may include an organic material and/or an inorganic material.',\n",
       " 'In operation 1303, the electronic device 101 (e.g., the processor 120) may be operated in the payment request mode.',\n",
       " 'Since there is nothing nearby, it seems that it is pointing to the north, so when I measured the direction with a compass, the compass did not point to the north.',\n",
       " 'There was an increasing trend every year, but this issue has been reported in various ways in previous studies.',\n",
       " 'KHz and MHz are abbreviations of 1,000 and 1,000,000 respectively, as are representations of digital file capacity.',\n",
       " 'The motor 100 may include a stator 110, a rotor 120, and a shaft 130.',\n",
       " \"Subjects can be changed every semester according to the student's wishes.\",\n",
       " 'Therefore, the first communication node may not receive the second message from the base station.',\n",
       " 'Hereinafter, implementable forms of the second container 110 and the first container 120 will be described in detail.',\n",
       " 'The voice detection unit 110 of FIG. 2 includes an analog-to-digital conversion unit 112 and a voice discrimination unit 114.',\n",
       " 'Indirect effects are discussions closely related to corporate wage and employment adjustment.',\n",
       " 'According to an embodiment, the motion sensor 140b may sense that the electronic device 100 is on the move.',\n",
       " 'In this paper, as the width is reduced, the number of fingers is optimized, which can be accompanied by the increase in efficiency and the reduction of ag paste.',\n",
       " \"The market's expectation that the future economic recession and monetary policy easing are possible is more reflected on to the long-term interest rate.\",\n",
       " 'The DGSD obligates member states to apply a uniform protection limit of 100,000 euros.',\n",
       " 'The appropriate statistics for such a model have been shown to be stably maintaining the level even in the internal and external evaluations of the model.',\n",
       " 'If we use 3,600, we have to change the angular velocity to revolutions/min.',\n",
       " 'In addition to classical music, the binaural beat is mainly used as background sound for meditation and was developed for stress relief and improvement of concentration.',\n",
       " \"This will help the youth's character-building education to have a future prospect.\",\n",
       " 'That is, this state means that the user watches a screen of the mobile terminal 100.',\n",
       " 'The connection resistance Ra may be a resistance of the electrochromic element 200 in a vertical direction.',\n",
       " 'First, the education office with a high ratio of investment in educational environment improvement projects has a positive effect on the academic achievement of middle schools within its jurisdiction.',\n",
       " 'The winner in the dog race was announced in a minute after a race had begun.',\n",
       " 'We agree to abandon violence and work peacefully to promote obesity by expanding and promoting sausage festivals around the world.',\n",
       " 'For each pattern, the system receives a corresponding coupling layer to replace the detected pattern.',\n",
       " \"Touch button 320 may apply an execution signal recognized by a push by a user's finger to control unit 600.\",\n",
       " 'In the past, most traditional temples were located in the mountains, but in modern society, they have been naturally located close to the city according to the expansion and changes occurring in the city.',\n",
       " 'While biological viruses are parasitic on cells, computer viruses are similar in the way it parasites in the brain function.',\n",
       " 'An object of this invention is to provide a touch screen device having a new structure, a control method thereof, and a display device.',\n",
       " 'The use of liquid tends to cause air bubbles to form in the encapsulant, which can reduce or eliminate commercial utility.',\n",
       " 'The user may or may not select the image quality enhancement processing by the image quality enhancement filters 110 to 116.',\n",
       " 'In the case of applying the Automobile Accident Compensation Security Law, the AV-related operation recording device and video recording device function the same as the black box of an airplane.',\n",
       " \"Until now, the local government's budget has been significantly reduced through securing fairness and transparency of the contract system.\",\n",
       " 'The degree of the visual angle of the third stimulus was controlled equally regardless of the observation distance.',\n",
       " 'In this case, the injection of a refrigerant flowing into the first bypass passage 80 into the compressor 10 is restricted.',\n",
       " 'In order to verify the mediating effect of learning participation, a bootstrapping estimation procedure was used.',\n",
       " 'It’s a bit like the SRI processor on the Ariane rockets.',\n",
       " 'The important thing about the Dangun myth from an educational point of view is that it wanted itself to change into a human being.',\n",
       " 'The Taiwan authorities have put forward a new strategy to promote corporate reshoring.',\n",
       " 'The former is a view of how much money can be paid to prevent damage caused by the leakage of personal information.',\n",
       " 'Values of and type information on the variables extracted from the memory 140 may be provided to the integrated register file 110.',\n",
       " 'In China, many people are passionate about gaokao because college is the surest way to express themselves, as in the past.',\n",
       " 'It includes support for exploration costs and counseling about future career paths of job seekers.',\n",
       " 'It has been reported that the titanium plasma coating method can increase the surface area, resulting in excellent initial fixation and improved osseointegration.',\n",
       " 'In mathematics, purely formal relations have motivated the development of new concepts.',\n",
       " 'The creation of new added value means an increase in GDP and further GNI per capita.',\n",
       " 'In a tournament game she shoots 5 free throws late in the game and misses 3 of them.',\n",
       " 'Next, different kinds of questions was identified according to the content area and element.',\n",
       " 'When the user captures an image of the subject with the rear camera 121′, the flash 123 may illuminate the subject.',\n",
       " \"Of course, the Korea Publishing Industry Promotion Agency or the Ministry of Culture and Tourism considered data on overseas exports of children's books.\",\n",
       " 'However, such a conventional reading book for learning using a touch pen has the following disadvantages.',\n",
       " 'It is a time when maker education centered on teaching methods rather than tools and research that can be applied to the traditional classroom environment is needed.',\n",
       " 'Among the mobile device owners, 84.4% of respondents have downloaded and experienced at least more than one mobile applications.',\n",
       " 'This researcher expected that most of the participants would find this error easily.',\n",
       " 'The possibility of low-price issuance will be very low as CARs in the early days of the listing shows a negative trend.',\n",
       " 'When one think that one have prepared only nutrient-dense nutritious ginkgo, 486,000 pieces are needed per 150kcal yokan.',\n",
       " 'Device 100 also optionally includes one or more tactile output generators 167.',\n",
       " 'Accordingly, the UN Human Rights Organization is moving towards a situation where the person in charge of the continuous and systematic suppression of human rights is punished.',\n",
       " 'While preparing for the contest, I felt that chemistry was very interesting and was a study that suited my aptitude.',\n",
       " 'The generator 212 generates electric power by rotating the rotating shaft in accordance with the rotation of the screw rotor.',\n",
       " 'Perhaps one of the most interesting experimental investigations into wave physics is the search for gravitational waves.',\n",
       " 'Culture refers to networking, which is a way of sharing knowledge with the outside, and words such as sustainability, environment, culture, and boundaries have been suggested.',\n",
       " 'FIG. 15 is a cross-sectional view of a flexible display according to another embodiment of the present invention.',\n",
       " \"In another judgement, in terms of 'identifiability', the degree of identification varies from highly identifiable information to very low identifiability information.\",\n",
       " 'In this literature, a separate item called phrasal verbs is set and presented for the discussion on the intransitive phrasal verb.',\n",
       " 'Although the original concept itself came from the West, the author has created another term, \"cultural gene,\" instead of saying that the oriental yin and yang theory, the five elements theory, and the theory of feng shui are all.',\n",
       " 'It was found that the intimate type of Korean culture and the intimate type of foreign culture accounted for a similar proportion.',\n",
       " 'However, products manufactured through such injection molding machines must be of the same or similar material.',\n",
       " 'Other income, occupation status, etc., were also shown to have a significantly positive (+) effect on the defect rate, except when it did not have a statistically significant impact on the defect rate.',\n",
       " 'Its construction will be completed by 2025, and it is expected to emit an ultrahigh temperature of 100,000,000°C plasma.',\n",
       " 'When that happens, it can lay the groundwork for a genuinely integrated geography curriculum.',\n",
       " 'The proposal may even suggest a specific communication application that will be used to contact recipient A.',\n",
       " \"In order to estimate the location choice of China's foreign direct investment in Korea, we adopted the identification strategies of these preceding studies.\",\n",
       " 'As the person to be managed uses an amount of money, the amount of money transferred to the card of the person to be managed may decrease by the used amount of money, to be displayed.',\n",
       " 'For example, the cuff 330 may have a size corresponding to a portion of the band 320.',\n",
       " 'We may find hint of any God elsewhere, but not in the laws of nature.',\n",
       " 'However, experts say that the production cost per unit of eggs in animal welfare breeding is 1.2 times higher than that of general farms.',\n",
       " 'According to the contrast analysis hypothesis, it can be predicted that there is a high possibility of failing to recognize the fortis sound for the beginning of the word of Korean.',\n",
       " 'The magnets 330 cause an electrical interaction with the coil wound on the stator core 220.',\n",
       " 'The sharp increase in consumption of durable goods in July increases the possibility of consumption recovery in the future.',\n",
       " 'For example, the display 150 may display various screens generated by the graphic processor 124.',\n",
       " 'Referring to FIG. 5(a) and FIG. 5(b), the display unit 132 outputs the screen information 300.',\n",
       " 'Hereinafter, a preferred embodiment according to the present invention is to be described in detail with reference to accompanying diagrams.',\n",
       " 'The study’s participants did not learn the area of figures at school.',\n",
       " 'These factors are regarded as the residual term of the regression equation and are assumed to be a distribution with a mean of ‘0’.',\n",
       " \"He didn't talk about his disabled brother at all because he might be seen as a bad child to those around him to express his feelings.\",\n",
       " 'The GARCH (1,1) model reflecting the sudden change can be expressed as Equation 3.',\n",
       " 'These languages are born because programmers think they are hilarious.',\n",
       " 'Here, for convenience, self-employed persons without paid employees are referred to as \"self-employed persons\", and self-employed persons with paid employees are referred to as \"employers\".',\n",
       " 'As the number of jobs replaced by robots increases in the artificial intelligence society, it is predicted that significant changes will occur throughout the professional community.',\n",
       " 'Among them, insider threats should be dealt with technical measures and security training provided at the organizational level.',\n",
       " 'The training parameter extraction unit 135 provides the extracted training parameter to the image classification unit 140.',\n",
       " 'The authority over local finance rests with local residents, and local finance should be operated with the aim of improving the welfare of local residents.',\n",
       " 'This active glucose sensor tested in the examples has a LOD of 10 μM and also has a high selectivity for glucose.',\n",
       " 'Respiration detected positive peak and negative peak through peak detection algorithm.',\n",
       " 'Sound corresponding to each of built-in touch sensors 110 is stored in memory 210.',\n",
       " 'In the case of using a P2P loan brokerage platform, it can be interpreted as the opposite concept of the transaction cost that an investor has to pay.',\n",
       " 'FIG. 7 is a circuit diagram of a PRU that decreases a resonance frequency of a resonator by using a third capacitor Cdl.',\n",
       " 'The electronic device includes the ROM 120, the reset circuit 130, and the RAM controller 140.',\n",
       " '“Puspek,” which appeared relatively recently, is a new word combining “food” and “spec.”',\n",
       " 'In this case, the diagnosis unit 310 may diagnose whether a symptom is a special symptom through a comparison thereof with previously analyzed data.',\n",
       " 'A sixth embodiment of the present invention is an air conditioner 1 according to a first modified example of the above-described fifth embodiment.',\n",
       " 'In the first usability test, cerebral palsy students showed difficulty in entering conclusions, so a hint function was added.',\n",
       " 'Vocational education is no different from general education in terms of its ideology and purpose, but it can be said to be a distinctive education in that it places more emphasis on the development of students’ attitudes toward work and the improvement of necessary skills.',\n",
       " 'The drive member is not allowed to rotate independently of the dose setting member or the first clicker component.',\n",
       " 'User identity authentication in a virtual reality scene may be divided into a setup step and an authentication step from the whole implementation.',\n",
       " 'A connection assembly mounting part 342b is formed on a lower side of the rear surface of the second door 340.',\n",
       " 'An operation of the purge control solenoid valve 100 is controlled by the ECU.',\n",
       " 'This focuses on vulnerabilities within smart device hardware, software, and communication networks.',\n",
       " 'Accordingly, this study has functional significance as it shows that it is difficult to establish the validity of using a community reference professor according to the performance level of the target behavior in vocational and technical education for students with intellectual disabilities.',\n",
       " 'The motion of atoms, planets, and stars are governed by a single law.',\n",
       " 'The speed of the electrons can be found from the definition of kinetic energy.',\n",
       " 'The license associated with the computer software may further include additional information as described above.',\n",
       " 'As the content of carbon nanotubes increases, the distributed surface energy was almost maintained.',\n",
       " 'By using the electrolytic extraction method, only the precipitated phase can be collected by selectively electrolyzing only the base.',\n",
       " 'We need information about the current situation, what the question’s purpose, and how to structure its content accordingly.',\n",
       " 'The sequence U deﬁned by A, satisﬁes the recurrence relation and the initial conditions.',\n",
       " 'In their hearts many mathematicians still believed that their mathematics would remain consistent, but in their minds they could not prove it.',\n",
       " 'H was depressed after living under an aggressive speaking boss for three years.',\n",
       " 'From the point of view of the social system, the advent of the big data dinosaur is indeed a burden.',\n",
       " 'Universities are asked for large-scale university structural reform due to the decrease in the school-age population.',\n",
       " 'To classify the group, the group was divided into groups above and below the average score.',\n",
       " 'The first and second reference regions displayed on the reference image may be displayed as virtual lines.',\n",
       " 'In more detail, the service may include a game service provided to the electronic device 110 through the application.',\n",
       " 'However, the projects suggested by residents are highly likely to be resident-oriented living budget projects.',\n",
       " 'Accordingly, these configurations may be less complex and use less circuit space than some conventional power multiplexers.',\n",
       " 'The encoding apparatus parses coefficients for the current block using the determined scan direction (S1170).',\n",
       " 'Although it was a huge loss to the state finance, the government continued this taxation policy.',\n",
       " 'As such, changes in power lead to policy changes, which hindered policy coherence.',\n",
       " 'Meanwhile, Table 4 is the result of estimating the regression equation (2).',\n",
       " 'The fund differs from the mutual aid program in that the fund is established by law if it is necessary to operate it and is subject to the national financial law.',\n",
       " 'The diluted desiccant 511 is initially directed to the plates inside the water recovery system 2200.',\n",
       " 'When the status bar 601 is not displayed, only the screen 500 may be displayed on the touchscreen 190.',\n",
       " 'This means that if you install an illegal building or acquire land by being deceived by false advertisements, you cannot receive legal compensation.',\n",
       " 'If we use X-gal as galactoside, then the result will have a blue color.',\n",
       " \"The most important part of Rome's model is total knowledge, which represents the externality of knowledge.\",\n",
       " 'The risk of privacy infringement has a negative impact on reliability.',\n",
       " 'Safety education for foreign workers as well as information was not provided, so they were unable to defend their human rights or claim their rights.',\n",
       " 'This report emphasizes the importance of a stable, honest and effective government, and is far more aligned with the position of the developing state theory than the 1993 and 2001 World Bank reports.',\n",
       " 'As an example, an unmanned aerial vehicle may automatically return to the user position on the basis of the user position information, as described above.',\n",
       " 'More specifically, the controller 180 may set the priority order to be high in the order of the highest evaluation scores.',\n",
       " 'In the case of a large-scale payment and settlement system, it is necessary to extend the operating hours to disperse the payment concentration rate during the deadline to increase work efficiency and to expand the time available for cross-border payments.',\n",
       " 'When the dodgeball game is over, the children are all regretful whether they have won or lost.',\n",
       " 'In this case, a concentration of the basic aqueous solution may be in a range of 2 M to 10 M, for example, 2.5 M to 3.5 M.',\n",
       " 'Type A does not explicitly stipulate the distribution or transfer of liability for damages due to incomplete descriptions in the securities declaration form and investment prospectus between the issuer and the underwriter.',\n",
       " 'Transdisciplinary approach, also known as a hyper-academic approach, seeks a new approach to key topics or interests that transcends the boundaries of the independent realm of each discipline and utilizes the realm of individual disciplines when necessary.',\n",
       " 'FIG. 4 is a diagram illustrating a configuration example of a TWDM-PON system according to an embodiment of the present invention.',\n",
       " 'Up to the previous session, we learned about cell growth and the reactor.',\n",
       " 'Boundary conditions were applied in the same way as modal analysis boundary conditions, and a unit load was applied in the thickness direction to the opposite end to which the constraint was applied.',\n",
       " 'Therefore, the disclosure obligation under the law does not apply at all.',\n",
       " 'In this case, the auxiliary guide 120 may have an angle of θ1, θ2, or θ3 according to the stack height of the first documents 1.',\n",
       " 'AAA classified institutional investors as dedicated institutional investors and temporary institutional investors to look at their impact on corporate value measurement errors, corporate governance, corporate value, and future performance.',\n",
       " 'In the case of long-term interest rates, it was analyzed that a low interest rate is related to high growth during a recession.',\n",
       " 'The first enhancement layer frame 513 may be generated using the first base layer frame 511 corresponding thereto.',\n",
       " 'The AAA administration\\'s NSS (2017) has deepened its geo-economic color to the extent that \"Diplomacy and State Strategy\" is a separate chapter.',\n",
       " 'These results indicate that the function of redistributing income through corporate tax as a means of financing is very weak.',\n",
       " 'In accordance with the guidelines above, heavy rain damage prediction maps are produced, analyzed, and distributed.',\n",
       " 'Instead of a given rhythm, a simple rhythm was created to improvise and repeatedly perform one or two notes with keyboard instruments, linking musical instruments with creative musical expressions such as ostinato and bordun.',\n",
       " 'The Federal Reserve conducts real-time supervision of financial institutions exposing them to excessive risk by inducing chronic intraday overdrafts.',\n",
       " 'The motor controller may control a drive motor using a current and a current phase angle of the current driving point.',\n",
       " 'As a result, the ordinary profit of large export companies such as BBB 1 and BBB 2 increased by 41% during the same period, reaching the highest level in the past, and facility investment recovered to the level before the global financial crisis.',\n",
       " 'Most of the research on the relationship between the income gap between urban and rural areas and economic growth is limited to causal analysis.',\n",
       " 'Fig. 7 shows a photograph of a cross-section of the obtained sample cut at a cross-section including the central axis.',\n",
       " 'Through this process, a curriculum is created in which the previously designed subject or teaching-learning plan is revised and supplemented.',\n",
       " \"This is a result of the actual existence of the menu effect that the user's proposal affects the subscriber's choice as previously expected.\",\n",
       " 'FIG. 4 is a flowchart for describing operations of a wireless power transmitter and a wireless power receiver according to an embodiment of the present invention.',\n",
       " 'This confirms the intention of the legislator to expect trust companies to support maintenance projects with low feasibility.',\n",
       " 'Appropriate equipment will be selected based on plant demand and requirements, as well as the degree of shrinkage required.',\n",
       " 'The Okun coefficient is estimated to be -0.3, indicating that when real production increases by 1.0%, the unemployment rate decreases by 0.3%p.',\n",
       " 'Most of the cases of software-related subjects in the undergraduate biomedical engineering curriculum exist in the form shown in Table 2 below.',\n",
       " 'At block 220, the control unit 120 may estimate (or evaluate) a network status.',\n",
       " 'On the other hand, it also means that there may exist a phenomenon where the job-seeking process of job-seekers becomes more selective.',\n",
       " 'Different PUCCH formats are defined according to a payload size of uplink control information.',\n",
       " 'Our society’s hostility toward North Korea is as great as North Korea’s.',\n",
       " 'Even if investment funds are recovered, reinvesting in domestic venture companies is struggling due to tax issues.',\n",
       " 'In this regard, the game-style reward system carried out by the Huffington Post is a very encouraging solution.',\n",
       " 'The water tank 96 contains water, which is a heat transfer medium for heating or cooling the mold plates 10 and 20.',\n",
       " 'Unfair trade practices in the capital market are revealed through investigations by supervisory authorities.',\n",
       " 'It is not a theory that can fit into the framework of a long-term economic growth model.',\n",
       " 'The support members 190 may be disposed at both side walls of the refrigerating chamber 122 (or the cooling chamber 120).',\n",
       " 'In Step 214, the wireless transmitter determines the CRC length based on the amount of data to be transmitted.',\n",
       " 'In the prior art document presented below, a technical means for acquiring depth information required for 3D broadcasting is introduced.',\n",
       " 'By adaptively setting this threshold, the object 420 may be robustly recognized.',\n",
       " 'In some situations, the geometry scanner may have multiple passes over the repair field.',\n",
       " 'Likewise, a cube map to be mapped onto pixels in screen space may be determined based on the LOD of the graphic.',\n",
       " 'By facing teachers, students begin to learn about the completely unfamiliar and new world.',\n",
       " 'These hydrophobic plugs can occlude the open capillary structure due to their high hydrophobicity.',\n",
       " 'The only capital is IT capital, which has a large knowledge ripple effect and does not take into account depreciation.',\n",
       " 'Expanding the temporal-space scale of the analysis makes it clear that dichotomous distinction between the natural environment and the artificial substructure that has been taken for granted so far is not easy.',\n",
       " 'The hardness of the core of embodiment 4 is adjusted by adjusting a foaming ratio of the core under the same mixing conditions.',\n",
       " \"In addition, Article 393 (2) clearly stipulates the duty of the board of directors to supervise directors' duties.\",\n",
       " 'The low pressure determining unit 130 determines a position of a low pressure of the tire by using a combination of changed logic values (S310).',\n",
       " 'We should not just believe what the advertisement says.',\n",
       " 'He tells 20 ways to pick the vertices without considering the order of the vertices.',\n",
       " 'The arrangement of the ground wire 150 may eventually increase the convenience of the user.',\n",
       " 'When the control candidate region was limited to Gyeongnam and Jeonnam regions, it can be seen that the trend of the period before treatment deviates slightly.',\n",
       " 'The admission control request may include the amount of data to be transmitted as the cost of the request to be deducted from the system-wide data budget.',\n",
       " 'Since then, the present study of mathematics education has achieved quantitative growth as the number of studies on mathematics education at home and abroad increased rapidly.',\n",
       " 'In his 11th year of playing pro, AAA 1 successfully took advantage of this weakness of AAA 2.',\n",
       " 'Its purpose is to derive issues to be considered and its implications for screening.',\n",
       " 'The dialog element 318 may include data related to an object (e.g., a car) selected by a user.',\n",
       " 'As described above, the third fluid may be an antifreeze such as ethylene glycol or a silicone-based oil.',\n",
       " 'FIG. 3 is a flowchart which explains a method of photographing according to an embodiment of the present invention.',\n",
       " 'For this purpose, limited to Korean airports, the survey was conducted with the subjects of the study, including operators of navigation safety facilities, that is, those engaged in maintenance work.',\n",
       " 'It was found that elementary school students who have strong convictions to actively participate in civic action and believe in the value of civic action have higher academic achievement in “Civics and Citizenship.”',\n",
       " 'Figure 4 shows the average visible light transmittance of this prepared transparent color coated glass based on the pulling speed.',\n",
       " 'In addition, the textbook was developed to be faithful to the principle of consideration for learners, and resource circulation education was provided to elementary school students located in the metropolitan area.',\n",
       " 'The transmission unit 130 may transmit the received converted image information to the circuit unit 220.',\n",
       " 'The return rate for the continuously compounded interest was found using logarithmic distribution, which then was simply added to calculate the rate of cumulative return for the continuously compounded interest.',\n",
       " 'As shown, a vehicle may include a plurality of sensors 82, 84, 92, 94, 96, 98.',\n",
       " 'In the cylinder block 4, four combustion chambers 14 are spaced from the front side to the rear side at a predetermined interval.',\n",
       " 'The accuracy of the plane and vertical position was evaluated by referring to the residual standard of the plane position and elevation of each drawing scale of the aerial photographic survey work regulations in Table 3.',\n",
       " 'FIG. 3 is a diagram illustrating a system capable of performing charging and data communication according to a second embodiment of the present invention.',\n",
       " 'When a person uses the device, that person is optionally referred to as a user of the device.',\n",
       " 'Meanwhile, the OSD generator 340 may generate a menu corresponding to a gesture recognized by the processor 330.',\n",
       " 'As a result, the indicator system consists of 2 major categories, 4 middle categories, and 15 subcategories, as shown in Table 1 below.',\n",
       " 'The polynomial regression models required 151 CCD cases for surrogate model construction and 151 random cases for surrogate model checking.',\n",
       " 'Of course, if the worst-case time to solve the problem is proportional to a high-degree polynomial, the problem can still take a long time to solve.',\n",
       " 'The detection unit 110 includes a rectifier 111, a voltage distributor 112, and a comparator 113.',\n",
       " 'Since the mid-2000s, Russia and China have increased their ability to exert influence on international politics and economy globally and regionally.',\n",
       " 'We assume that the rate of return of policy loan is uniformly 4%.',\n",
       " 'These life experiences have great influence in teaching your subject as a current university professor.',\n",
       " 'The number of R&D investment companies increased from 10,748 in 2000 to 37,823 in 2014, an increase of 3.5 times in 15 years.',\n",
       " 'In the scene that he sets himself up as a poet, we can see that the character AAA is no longer a boy, but is growing into an individual human being.',\n",
       " 'The collected information was found to have the public interest in terms of privacy, connectivity, universal service, and public goods.',\n",
       " 'Virtual positions for a plurality of base stations in the virtual range are set (S30).',\n",
       " 'One more point to consider here is whether financial stability can be accommodated within monetary policy.',\n",
       " 'We analyzed changes in H-beams, heavy-duty plates, and hot-rolled steel plates to Korea as of July 1, 2010, when the export refund tax was canceled.',\n",
       " 'In the case of the specimen to which the LoxM fiber was applied, there was no significant difference compared to the specimen to which the SA fiber was applied.',\n",
       " 'Students develop a better sense of numbers as they learn the function of approximation.',\n",
       " 'For this reason, even if a bank becomes insolvent in any country, it cannot go bankruptcy and end up with a public structure.',\n",
       " 'That is, the maximum overhead occupied by one port in one PRB may be three REs.',\n",
       " 'FIG. 8 is a diagram illustrating an embodiment of a voltage pulse applied to the semiconductor memory device.',\n",
       " 'The image can be processed and an object identifier can be generated from the image.',\n",
       " 'In addition to the tasks and developmental stages of graduate students mentioned above, it will be necessary to study effective teaching methods according to the characteristics of the students, academic motivation, purpose of obtaining a degree, and academic structure characteristics.',\n",
       " 'I would like to suggest that it is necessary to reexamine the gender differences that have been going on for a long time.',\n",
       " 'In September 2019, paper securities disappeared from the capital market, and the era of electronic securities began.',\n",
       " 'We see that dogs can hear sounds at higher frequencies.',\n",
       " 'However, it can be said that human rights education is more value-oriented than democratic citizenship education that emphasizes pluralism.',\n",
       " 'It is also about understanding the historical and international political factors that have influenced the development of Korea.',\n",
       " 'Recently, discussions on the institution as a source of comparative advantage have been actively developed.',\n",
       " 'AAA conducted a study to investigate the relationship of variables related to career decision for first-year student in specialized high school.',\n",
       " 'Additionally, when a touch is detected, the electronic device checks whether the touch coordinates are fixed.',\n",
       " 'A simple model of the perception of the cube is a network with just two nodes.',\n",
       " \"This observed the nurse's coping with the problem situation during clinical practice.\",\n",
       " 'FIG. 9A illustrates an operation method of collecting fingerprint data through the configuration application of OOBE.',\n",
       " 'The problem was pointed out that it was presented without considering the given object or context.',\n",
       " 'Some of the elements included in the electronic device 120 may be omitted or some elements may be added according to an implementation method.',\n",
       " 'The video image is formed by the intention of the producer who creates the sign, but in most cases, it is also formed in the process of interpretation by the audience.',\n",
       " 'Meanwhile, in determining whether the braking system fails, the comparison result of the slip rate for each wheel may be also used.',\n",
       " 'According to an embodiment, in operation 1650, the second electronic device 430 may control the play of the received image.',\n",
       " 'The encapsulation layer may be formed as one layer or may be formed in a form in which organic materials and inorganic materials are repeatedly laminated.',\n",
       " 'The pentagonal shape of the building is for the economic feasibility of building materials and the efficient use of space.',\n",
       " 'In FIG. 2B, communication using the first communication method is indicated by a solid line, and communication using the second communication method is indicated by a dotted line.',\n",
       " 'Table 6 shows both the normal distribution and the results estimated from the contaminated normal distribution.',\n",
       " 'In another embodiment, a method of modifying the curvature of a variable curvature interaction device is provided.',\n",
       " 'After completing their degree program, foreign students can get a job at a Korean company or remain as a professor at a Korean university.',\n",
       " 'This means that you will be positively aware of the class norms about bullying, and as a result, you will be less likely to engage in onlooker behavior.',\n",
       " 'The response from consumers is good enough that about 20,000 units have been sold in two months.',\n",
       " 'It is no exaggeration to say that LIBOR is a symbol of the UK, a financial hub.',\n",
       " 'Prior studies related to career based on a constructivist perspective suggested two meanings of career development.',\n",
       " 'The body part may further include a power part coupled to the rotary shaft part to transmit power to the rotary shaft part.',\n",
       " 'Conversely, in the case of the textile industry or plastics industry, the export deterrent effect of the relief measures was not found.',\n",
       " 'Third, it is possible to systematically and quickly perform large-scale analysis and screen interactions between various physiological regulators.',\n",
       " 'The context information may include general context information, user context information, and device context information.',\n",
       " 'For the same change, the precise road map and the road management register should be selectively investigated and constructed.',\n",
       " 'The information transmitting unit 330 also transmits information regarding reserved resources of its 1-hop node, received from the 1-hop node.',\n",
       " 'Preferably, the bile acid or its derivative and the ionic polymer may be conjugated to each other at a molar ratio of 1:1 to 1:300.',\n",
       " 'It was even made clear that these inner activities cannot function properly without the freedom of physical activity.',\n",
       " 'The processor 870 may determine whether to output an alarm through the output unit 250 further based on the route information.',\n",
       " 'In this case, in operation 330, the electronic device may perform only an operation of activating the selected payment means.',\n",
       " 'In recent years, de-identification has been more active in policy discussion than any other privacy principle.',\n",
       " 'The processor 130 may calculate an increase/decrease rate of the derivative coefficient using Equation 2 below.',\n",
       " 'The shape of the battery tape 1500 may be determined based on the shape of the battery 1100.',\n",
       " 'The first and second plates 160 and 165 may be disposed to be spaced apart from each other.',\n",
       " 'Among them, the colloidal quantum dot refers to a quantum dot having a solvent stage dispersibility because a surfactant is bonded to your area of this quantum dot.',\n",
       " 'Also, when the attachment is excessive, when the relationship in which attachment is formed is severed or broken, the resulting frustration is expected to be considerable.',\n",
       " 'It is also unlikely that the improvement of the domestic economy such as improving corporate governance will be achieved by exercising shareholder rights.',\n",
       " 'Some users tend to recognize number resources as personally owned, so it is difficult to recover or recycle resources.',\n",
       " 'The image sensor 100 and the additional image sensor 150 may be initialized in response to a control signal of the CPU 520.',\n",
       " 'In this study, the keyword network analysis as one of the knowledge network analysis methods was tried.',\n",
       " \"Of course, the two figures clearly show that finding the true self is possible only when the act of self-observation and recording to continuously look inside and find one's inner self is accompanied.\",\n",
       " 'The lens penetrates straight through the sun, only focusing on the gravity.',\n",
       " 'Matching resistors R1 and R2 may be connected between the nodes JN1 and JN2 and the test data line TDa.',\n",
       " 'When it comes to policy evaluation, the most common evaluation method is to see how much the goal has been achieved.',\n",
       " 'In a narrow sense, it integrates supercomputers from all over the world in one place and shares a database.',\n",
       " 'These results are not known through existing empirical analyses.',\n",
       " 'This is a size determined to secure a sufficient power transmission area and distance, assuming a coil model for high-power wireless power transmission and reception.',\n",
       " 'Surface-to-surface contact having normal and tangential properties was defined between the steel plate.',\n",
       " 'The final leaf path reconstruction unit 140 according to this embodiment may determine a final leaf path set through a minimum path cover algorithm.',\n",
       " 'Unlike configuration 1, the flange of the specimen and the simple laminate part of the panel are separated in configuration 2.',\n",
       " 'Some other weird things don’t contradict logic.',\n",
       " 'In some embodiments, the rubber polymer may have an average particle diameter of about 200 nm to about 400 nm.',\n",
       " 'In this case, the control unit 130 may receive the setting information stored in the user terminal apparatus 200.',\n",
       " \"When some enthusiasts give the golden ratio a cosmic meaning, the world's weary mathematicians get angry at their excessive interest in numbers.\",\n",
       " 'Since the people had low confidence in coins, the circulation of coins was not smooth.',\n",
       " 'The first number and the second number may be the same number or different numbers.',\n",
       " 'During the step of displaying the second user interface, the method includes detecting a contact on the home button.',\n",
       " 'Since each XOR logic gate requires four clock intervals, a total of 8 clock intervals was consumed.',\n",
       " 'As a result of the analysis, the stationarity of the difference variable was secured in all tests except for the ADF-Fisher test result.',\n",
       " 'In this case, in hypothesis verification based on traditional inferred statistics, t-test for the difference between the mean values of the two treatment conditions is often attempted.',\n",
       " 'Normally, a missile with a range exceeding 5,440 km is classified as an intercontinental ballistic missile.',\n",
       " 'Here, the ferrite core 40 may be composed of one, or may be composed of two or more sets.']"
      ]
     },
     "execution_count": 42,
     "metadata": {},
     "output_type": "execute_result"
    }
   ],
   "source": [
    "df['text'].values[:1000].tolist()"
   ]
  },
  {
   "cell_type": "code",
   "execution_count": null,
   "id": "13975d44",
   "metadata": {},
   "outputs": [],
   "source": []
  },
  {
   "cell_type": "code",
   "execution_count": null,
   "id": "b1082b64",
   "metadata": {},
   "outputs": [],
   "source": []
  },
  {
   "cell_type": "code",
   "execution_count": null,
   "id": "42f82383",
   "metadata": {},
   "outputs": [],
   "source": []
  },
  {
   "cell_type": "code",
   "execution_count": 7,
   "id": "83bf305c",
   "metadata": {},
   "outputs": [
    {
     "data": {
      "text/plain": [
       "('a', 's', 'a', 'd', 'f', ' ', 'w', 'w', 'w', 'k', 'k')"
      ]
     },
     "execution_count": 7,
     "metadata": {},
     "output_type": "execute_result"
    }
   ],
   "source": [
    "tuple(\"asadf wwwkk\")"
   ]
  },
  {
   "cell_type": "code",
   "execution_count": 2,
   "id": "9732f838",
   "metadata": {},
   "outputs": [],
   "source": [
    "import itertools"
   ]
  },
  {
   "cell_type": "code",
   "execution_count": 3,
   "id": "6ca0856b",
   "metadata": {
    "scrolled": true
   },
   "outputs": [
    {
     "data": {
      "text/plain": [
       "'1.11.0'"
      ]
     },
     "execution_count": 3,
     "metadata": {},
     "output_type": "execute_result"
    }
   ],
   "source": [
    "torch.__version__"
   ]
  },
  {
   "cell_type": "code",
   "execution_count": 4,
   "id": "3c2dd9e4",
   "metadata": {
    "scrolled": true
   },
   "outputs": [
    {
     "name": "stdout",
     "output_type": "stream",
     "text": [
      "# Current cuda device:  1\n"
     ]
    }
   ],
   "source": [
    "GPU_NUM = 1# 원하는 GPU 번호 입력\n",
    "device = torch.device(f'cuda:{GPU_NUM}' if torch.cuda.is_available() else 'cpu')\n",
    "torch.cuda.set_device(device) # change allocation of current GPU\n",
    "\n",
    "print ('# Current cuda device: ', torch.cuda.current_device())"
   ]
  },
  {
   "cell_type": "code",
   "execution_count": 5,
   "id": "1d2e6926",
   "metadata": {},
   "outputs": [
    {
     "name": "stdout",
     "output_type": "stream",
     "text": [
      "# DEVICE 0: NVIDIA GeForce RTX 3090\n",
      "- Memory Usage:\n",
      "  Allocated: 0.0 GB\n",
      "  Cached:    0.0 GB\n",
      "\n",
      "# DEVICE 1: NVIDIA GeForce RTX 3090\n",
      "- Memory Usage:\n",
      "  Allocated: 0.0 GB\n",
      "  Cached:    0.0 GB\n",
      "\n"
     ]
    },
    {
     "name": "stderr",
     "output_type": "stream",
     "text": [
      "/opt/conda/envs/Conda1/lib/python3.9/site-packages/torch/cuda/memory.py:384: FutureWarning: torch.cuda.memory_cached has been renamed to torch.cuda.memory_reserved\n",
      "  warnings.warn(\n"
     ]
    }
   ],
   "source": [
    "def GPUreport():\n",
    "    if torch.cuda.is_available():\n",
    "        for i in range(torch.cuda.device_count()):\n",
    "            print(f\"# DEVICE {i}: {torch.cuda.get_device_name(i)}\")\n",
    "            print(\"- Memory Usage:\")\n",
    "            print(f\"  Allocated: {round(torch.cuda.memory_allocated(i)/1024**3,1)} GB\")\n",
    "            print(f\"  Cached:    {round(torch.cuda.memory_cached(i)/1024**3,1)} GB\\n\")\n",
    "    else:\n",
    "        print(\"# GPU is not available\")\n",
    "GPUreport()"
   ]
  },
  {
   "cell_type": "code",
   "execution_count": 6,
   "id": "1f44dd59",
   "metadata": {},
   "outputs": [],
   "source": [
    "device = (torch.device('cuda:1') if torch.cuda.is_available() else torch.device('cpu'))\n",
    "#device = torch.device('cpu')#CPu로 할떄\n",
    "\n",
    "torch.set_printoptions(sci_mode=True)"
   ]
  },
  {
   "cell_type": "code",
   "execution_count": 7,
   "id": "4ab4ab15",
   "metadata": {},
   "outputs": [
    {
     "data": {
      "text/plain": [
       "'0.12.0'"
      ]
     },
     "execution_count": 7,
     "metadata": {},
     "output_type": "execute_result"
    }
   ],
   "source": [
    "torchtext.__version__"
   ]
  },
  {
   "cell_type": "code",
   "execution_count": 8,
   "id": "dbc79252",
   "metadata": {},
   "outputs": [],
   "source": [
    "#!conda install datasets #기록용. 주석처리 풀지말것\n",
    "#!pip install torch\n",
    "#!pip install ipywidgets\n",
    "#!pip install spacy\n",
    "#!pip install torchtext\n",
    "#!python -m spacy download en_core_web_sm\n"
   ]
  },
  {
   "cell_type": "code",
   "execution_count": 9,
   "id": "00157582",
   "metadata": {
    "scrolled": true
   },
   "outputs": [
    {
     "name": "stderr",
     "output_type": "stream",
     "text": [
      "Reusing dataset wmt16 (/root/.cache/huggingface/datasets/wmt16/de-en/1.0.0/9e0038fe4cc117bd474d2774032cc133e355146ed0a47021b2040ca9db4645c0)\n"
     ]
    },
    {
     "data": {
      "application/vnd.jupyter.widget-view+json": {
       "model_id": "eef56ab17ecb4cf29a11e750dd4b9af3",
       "version_major": 2,
       "version_minor": 0
      },
      "text/plain": [
       "  0%|          | 0/3 [00:00<?, ?it/s]"
      ]
     },
     "metadata": {},
     "output_type": "display_data"
    },
    {
     "data": {
      "text/plain": [
       "{'translation': {'de': 'Sein Auto lief noch in der Einfahrt.',\n",
       "  'en': 'His car was still running in the driveway.'}}"
      ]
     },
     "execution_count": 9,
     "metadata": {},
     "output_type": "execute_result"
    }
   ],
   "source": [
    "#데이터셋 불러오기\n",
    "from datasets import load_dataset\n",
    "wmt16 = load_dataset('wmt16', 'de-en')\n",
    "wmt16['test'][33]"
   ]
  },
  {
   "cell_type": "markdown",
   "id": "12573c97",
   "metadata": {},
   "source": [
    "데이터셋 테스트"
   ]
  },
  {
   "cell_type": "code",
   "execution_count": 10,
   "id": "f603409b",
   "metadata": {
    "scrolled": true
   },
   "outputs": [
    {
     "name": "stdout",
     "output_type": "stream",
     "text": [
      "{'de': 'Obama empfängt Netanyahu', 'en': 'Obama receives Netanyahu'}\n",
      "{'de': 'Das Verhältnis zwischen Obama und Netanyahu ist nicht gerade freundschaftlich.', 'en': 'The relationship between Obama and Netanyahu is not exactly friendly.'}\n",
      "{'de': 'Die beiden wollten über die Umsetzung der internationalen Vereinbarung sowie über Teherans destabilisierende Maßnahmen im Nahen Osten sprechen.', 'en': \"The two wanted to talk about the implementation of the international agreement and about Teheran's destabilising activities in the Middle East.\"}\n",
      "{'de': 'Bei der Begegnung soll es aber auch um den Konflikt mit den Palästinensern und die diskutierte Zwei-Staaten-Lösung gehen.', 'en': 'The meeting was also planned to cover the conflict with the Palestinians and the disputed two state solution.'}\n",
      "{'de': 'Das Verhältnis zwischen Obama und Netanyahu ist seit Jahren gespannt.', 'en': 'Relations between Obama and Netanyahu have been strained for years.'}\n"
     ]
    }
   ],
   "source": [
    "t1= wmt16['test'][:5]\n",
    "for ding in t1['translation']:\n",
    "    print(ding)"
   ]
  },
  {
   "cell_type": "code",
   "execution_count": null,
   "id": "2f64ffc7",
   "metadata": {},
   "outputs": [],
   "source": []
  },
  {
   "cell_type": "code",
   "execution_count": 11,
   "id": "0351abb3",
   "metadata": {
    "scrolled": true
   },
   "outputs": [
    {
     "data": {
      "text/plain": [
       "[{'de': 'Rückbesinnung auf das sehr amerikanische Ideal der Arbeitsrechte als Menschenrechte',\n",
       "  'en': 'Reconnecting With the Very American Ideal That Labor Rights Are Human Rights'},\n",
       " {'de': 'Die Kongressabgeordneten Keith Ellison und John Lewis haben einen Gesetzesvorschlag eingebracht, um die Organisation von Gewerkschaften als Bürgerrecht zu etablieren.',\n",
       "  'en': 'Congressmen Keith Ellison and John Lewis have proposed legislation to protect union organizing as a civil right.'},\n",
       " {'de': '\"So wie Gewerkschaften sterben, sterben auch die Mittelklassejobs,\" sagte Ellison, ein Demokrat aus Minnesota und stellvertretender Vorsitzender des Progressive Caucus im Kongress.',\n",
       "  'en': '\"As go unions, so go middle-class jobs,\" says Ellison, the Minnesota Democrat who serves as a Congressional Progressive Caucus co-chair.'},\n",
       " {'de': 'Daher stelle ich stolz gemeinsam mit der Bürgerrechtsikone John Lewis das Mitarbeiterermächtigungsgesetz vor.',\n",
       "  'en': \"That's why I'm proud to introduce the Employee Empowerment Act with civil rights icon John Lewis.\"},\n",
       " {'de': 'Dieses bahnbrechende Gesetz gibt Arbeitern die gleichen rechtlichen Möglichkeiten bei Diskriminierung wegen der Organisation von Gewerkschaften wie bei anderen Formen der Diskriminierung - und stoppt so antigewerkschaftlich eingestellte Kräfte.',\n",
       "  'en': 'This ground-breaking legislation will give workers the same legal options for union organizing discrimination as for other forms of discrimination - stopping anti-union forces in their tracks'},\n",
       " {'de': 'Die Ergänzung des nationalen Arbeitsrechtsgesetzes, um eine Möglichkeit für einer Diskriminierung ausgesetzte Arbeitern zur Organisation einer Gewerkschaftsvertretung zu schaffen, um vor einem Zivilgericht um Gerechtigkeit zu klagen - und um Schadensersatz oder Strafgelder zu erhalten - ist eine sinnvolle und notwendige Initiative.',\n",
       "  'en': 'Amending the National Labor Relations Act to allow workers who face discrimination for engaging in union organizing to sue for justice in the civil courts - and to collect compensatory and punitive damages - is a sound and necessary initiative.'},\n",
       " {'de': 'Aber es ist mit Sicherheit keine radikale Initiative - jedenfalls nicht nach amerikanischen Standards.',\n",
       "  'en': 'But it in certainly not a radical initiative - at least by American standards.'},\n",
       " {'de': 'Tatsächlich ist die beste Art und Weise zum Verständnis dessen, was Ellison, Lewis und die weiteren Sponsoren ihrer Gesetzesvorlage vorschlagen, die Verbindung zurück zu einer sehr amerikanischen Idee.',\n",
       "  'en': 'Indeed, the best way to understand what Ellison, Lewis and the cosponsors of their legislation are proposing is as a reconnection with a very American idea.'},\n",
       " {'de': 'Trotz der Rückschläge, denen die Gewerkschaften in den vergangenen Jahren ausgesetzt waren - in Wisconsin, Michigan und anderen Staaten im ganzen Land - haben Amerikaner einst Länder in aller Welt dazu ermutigt, Arbeitsrechte anzuerkennen, auszuweiten und einzuhalten.',\n",
       "  'en': 'Despite the battering that unions have taken in recent years - in Wisconsin, Michigan and states across the country - Americans once encouraged countries around the world to embrace, extend and respect labor rights.'},\n",
       " {'de': 'Es gab eine Zeit, an die sich Millionen von Amerikanern noch erinnern, als dieses Land Demokratie, Redefreiheit, Pressefreiheit und das Vereinigungsrecht in einem Atemzug nannte.',\n",
       "  'en': 'There was a time, within the living memory of millions of Americans, when this country championed democracy, freedom of speech, freedom of the press and the right to organize in the same breath.'}]"
      ]
     },
     "execution_count": 11,
     "metadata": {},
     "output_type": "execute_result"
    }
   ],
   "source": [
    "wmt16['validation'][:]['translation'][20:30]"
   ]
  },
  {
   "cell_type": "code",
   "execution_count": 12,
   "id": "08166a67",
   "metadata": {
    "scrolled": true
   },
   "outputs": [
    {
     "data": {
      "text/plain": [
       "(4548885,\n",
       " Dataset({\n",
       "     features: ['translation'],\n",
       "     num_rows: 2169\n",
       " }),\n",
       " Dataset({\n",
       "     features: ['translation'],\n",
       "     num_rows: 2999\n",
       " }))"
      ]
     },
     "execution_count": 12,
     "metadata": {},
     "output_type": "execute_result"
    }
   ],
   "source": [
    "len(wmt16['train']), wmt16['validation'], wmt16['test'],"
   ]
  },
  {
   "cell_type": "code",
   "execution_count": 13,
   "id": "dd65153d",
   "metadata": {},
   "outputs": [
    {
     "data": {
      "text/plain": [
       "'\\nDATA_PERCENTAGE = 0.005\\nimport spacy\\nfrom collections import Counter, OrderedDict\\nfrom torchtext.vocab import vocab\\n\\nspacy_en = spacy.load(\\'en_core_web_sm\\')\\nspacy_de = spacy.load(\\'de_core_news_sm\\')\\n\\ndef build_vocab(dataset, tokenizer, languege, percentage):\\n    wordCounter = Counter()\\n    with tqdm(total = math.trunc(len(dataset[\\'train\\'])*percentage/100)\\n              + math.trunc(len(dataset[\\'validation\\'])*percentage/100)\\n              + math.trunc(len(\\'test\\')*percentage/100)) as progressBar:\\n        for setNames in [\\'validation\\', \\'test\\', \\'train\\']:\\n            setSize = math.trunc(len(dataset[setNames])*percentage/100)\\n            totalsetSize = len(dataset[setNames])\\n            print(setNames, \"set\", setSize, totalsetSize, setSize*100/totalsetSize)\\n            proCounter = 0\\n            if setSize > 0: \\n                for translation in dataset[setNames]:#Each 문장 pair\\n                    wordCounter.update([token.text for token in tokenizer(translation[\\'translation\\'][languege])])\\n                    progressBar.update(1)\\n                    proCounter += 1\\n                    if proCounter==setSize:\\n                        print(setNames, proCounter, \"next set\")\\n                        break\\n    sorted_by_freq_tuples = sorted(wordCounter.items(), key=lambda x:x[1], reverse=True)\\n    ordered_Dict = OrderedDict(sorted_by_freq_tuples)\\n    return vocab(ordered_Dict, specials= [\\'<sos>\\', \"<eos>\",\"<pad>\"])\\nen_vocab = build_vocab(wmt16, spacy_en, \\'en\\', DATA_PERCENTAGE)\\nde_vocab = build_vocab(wmt16, spacy_de, \\'de\\', DATA_PERCENTAGE)\\ntorch.save(en_vocab, \"en_vocab dp = \"+str(DATA_PERCENTAGE)+\"percent.pt\")\\ntorch.save(de_vocab, \"de_vocab dp = \"+str(DATA_PERCENTAGE)+\"percent.pt\")\\n'"
      ]
     },
     "execution_count": 13,
     "metadata": {},
     "output_type": "execute_result"
    }
   ],
   "source": [
    "#문장 토큰화\n",
    "#데이터셋이 너무 커서, 코드짜는 도중에는 1퍼센트만 사용하겠다.\n",
    "\"\"\"\n",
    "DATA_PERCENTAGE = 0.005\n",
    "import spacy\n",
    "from collections import Counter, OrderedDict\n",
    "from torchtext.vocab import vocab\n",
    "\n",
    "spacy_en = spacy.load('en_core_web_sm')\n",
    "spacy_de = spacy.load('de_core_news_sm')\n",
    "\n",
    "def build_vocab(dataset, tokenizer, languege, percentage):\n",
    "    wordCounter = Counter()\n",
    "    with tqdm(total = math.trunc(len(dataset['train'])*percentage/100)\n",
    "              + math.trunc(len(dataset['validation'])*percentage/100)\n",
    "              + math.trunc(len('test')*percentage/100)) as progressBar:\n",
    "        for setNames in ['validation', 'test', 'train']:\n",
    "            setSize = math.trunc(len(dataset[setNames])*percentage/100)\n",
    "            totalsetSize = len(dataset[setNames])\n",
    "            print(setNames, \"set\", setSize, totalsetSize, setSize*100/totalsetSize)\n",
    "            proCounter = 0\n",
    "            if setSize > 0: \n",
    "                for translation in dataset[setNames]:#Each 문장 pair\n",
    "                    wordCounter.update([token.text for token in tokenizer(translation['translation'][languege])])\n",
    "                    progressBar.update(1)\n",
    "                    proCounter += 1\n",
    "                    if proCounter==setSize:\n",
    "                        print(setNames, proCounter, \"next set\")\n",
    "                        break\n",
    "    sorted_by_freq_tuples = sorted(wordCounter.items(), key=lambda x:x[1], reverse=True)\n",
    "    ordered_Dict = OrderedDict(sorted_by_freq_tuples)\n",
    "    return vocab(ordered_Dict, specials= ['<sos>', \"<eos>\",\"<pad>\"])\n",
    "en_vocab = build_vocab(wmt16, spacy_en, 'en', DATA_PERCENTAGE)\n",
    "de_vocab = build_vocab(wmt16, spacy_de, 'de', DATA_PERCENTAGE)\n",
    "torch.save(en_vocab, \"en_vocab dp = \"+str(DATA_PERCENTAGE)+\"percent.pt\")\n",
    "torch.save(de_vocab, \"de_vocab dp = \"+str(DATA_PERCENTAGE)+\"percent.pt\")\n",
    "\"\"\""
   ]
  },
  {
   "cell_type": "code",
   "execution_count": 14,
   "id": "ad6f48ea",
   "metadata": {
    "scrolled": true
   },
   "outputs": [],
   "source": [
    "import spacy\n",
    "spacy_en = spacy.load('en_core_web_sm')\n",
    "spacy_de = spacy.load('de_core_news_sm')\n",
    "en_vocab = torch.load(\"./en_vocab dp = 10percent.pt\")\n",
    "de_vocab = torch.load(\"./de_vocab dp = 10percent.pt\")"
   ]
  },
  {
   "cell_type": "code",
   "execution_count": 15,
   "id": "ec800270",
   "metadata": {
    "scrolled": true
   },
   "outputs": [],
   "source": [
    "temp = []\n",
    "for sentence_pair in t1['translation']:\n",
    "    ttemp = [token.text for token in spacy_en(sentence_pair['en'])]\n",
    "    temp.append(ttemp)"
   ]
  },
  {
   "cell_type": "code",
   "execution_count": 16,
   "id": "92b20558",
   "metadata": {},
   "outputs": [
    {
     "data": {
      "text/plain": [
       "[['Obama', 'receives', 'Netanyahu'],\n",
       " ['The',\n",
       "  'relationship',\n",
       "  'between',\n",
       "  'Obama',\n",
       "  'and',\n",
       "  'Netanyahu',\n",
       "  'is',\n",
       "  'not',\n",
       "  'exactly',\n",
       "  'friendly',\n",
       "  '.'],\n",
       " ['The',\n",
       "  'two',\n",
       "  'wanted',\n",
       "  'to',\n",
       "  'talk',\n",
       "  'about',\n",
       "  'the',\n",
       "  'implementation',\n",
       "  'of',\n",
       "  'the',\n",
       "  'international',\n",
       "  'agreement',\n",
       "  'and',\n",
       "  'about',\n",
       "  'Teheran',\n",
       "  \"'s\",\n",
       "  'destabilising',\n",
       "  'activities',\n",
       "  'in',\n",
       "  'the',\n",
       "  'Middle',\n",
       "  'East',\n",
       "  '.'],\n",
       " ['The',\n",
       "  'meeting',\n",
       "  'was',\n",
       "  'also',\n",
       "  'planned',\n",
       "  'to',\n",
       "  'cover',\n",
       "  'the',\n",
       "  'conflict',\n",
       "  'with',\n",
       "  'the',\n",
       "  'Palestinians',\n",
       "  'and',\n",
       "  'the',\n",
       "  'disputed',\n",
       "  'two',\n",
       "  'state',\n",
       "  'solution',\n",
       "  '.'],\n",
       " ['Relations',\n",
       "  'between',\n",
       "  'Obama',\n",
       "  'and',\n",
       "  'Netanyahu',\n",
       "  'have',\n",
       "  'been',\n",
       "  'strained',\n",
       "  'for',\n",
       "  'years',\n",
       "  '.']]"
      ]
     },
     "execution_count": 16,
     "metadata": {},
     "output_type": "execute_result"
    }
   ],
   "source": [
    "temp#Not wordpiece"
   ]
  },
  {
   "cell_type": "code",
   "execution_count": 17,
   "id": "f5e1c17d",
   "metadata": {},
   "outputs": [
    {
     "name": "stdout",
     "output_type": "stream",
     "text": [
      "data.pt exists\n"
     ]
    }
   ],
   "source": [
    "#실제 데이터 생성. 데이터: 사전인 en_vocab 과 de_vocab\n",
    "#pad\n",
    "FILENAME_DATA = \"data.pt\"\n",
    "\n",
    "SOS_IDX = en_vocab[\"<sos>\"]\n",
    "EOS_IDX = en_vocab[\"<eos>\"]\n",
    "PAD_IDX_EN = en_vocab[\"<pad>\"]\n",
    "PAD_IDX_DE = de_vocab[\"<pad>\"]\n",
    "\n",
    "def data_process(dataset):\n",
    "    tokenized_data = []\n",
    "    for sentence_pair in dataset['translation']:\n",
    "        de_tensor_ = torch.tensor(de_vocab([token.text for token in spacy_de(sentence_pair['de'])]), dtype=torch.long)\n",
    "        en_tensor_ = torch.tensor(en_vocab(['<sos>',]+[token.text for token in spacy_en(sentence_pair['en'])]+['<eos>']), dtype=torch.long)\n",
    "        tokenized_data.append((de_tensor_, en_tensor_))\n",
    "    return tokenized_data\n",
    "\n",
    "\n",
    "if exists(FILENAME_DATA):\n",
    "    print(FILENAME_DATA, \"exists\")\n",
    "    sample_data = torch.load(\"./\"+FILENAME_DATA)\n",
    "else:\n",
    "    sample_data = data_process(wmt16['train'][:math.trunc(len(wmt16['train'])*9.99/100)])\n",
    "    #sample_data = data_process(wmt16['train'][:10000])\n",
    "    torch.save(sample_data, \"data.pt\")"
   ]
  },
  {
   "cell_type": "code",
   "execution_count": 18,
   "id": "6184a689",
   "metadata": {},
   "outputs": [],
   "source": [
    "def gpusize(tensor):\n",
    "    return tensor.element_size() * tensor.nelement()/1e+6"
   ]
  },
  {
   "cell_type": "code",
   "execution_count": 19,
   "id": "3fe17c87",
   "metadata": {},
   "outputs": [],
   "source": [
    "from torch.utils.data import DataLoader\n",
    "from torch.nn.utils.rnn import pad_sequence\n",
    "def generate_batch(data_batch):\n",
    "    de_batch, en_batch = [], []\n",
    "    for (de_item, en_item) in data_batch:\n",
    "        en_batch.append(en_item)\n",
    "        de_batch.append(de_item)\n",
    "    de_batch = pad_sequence(de_batch, padding_value=PAD_IDX_DE).transpose(0,1)\n",
    "    en_batch = pad_sequence(en_batch, padding_value=PAD_IDX_EN).transpose(0,1)\n",
    "    return de_batch, en_batch"
   ]
  },
  {
   "cell_type": "code",
   "execution_count": 20,
   "id": "1b714a3d",
   "metadata": {
    "scrolled": true
   },
   "outputs": [
    {
     "data": {
      "text/plain": [
       "tensor([[  910,     3,   151,     5,   416,    12,    20,  2486, 14229,  1952,\n",
       "           149,     3,   407,    24,    23,    12,   215,     3,    47,   356,\n",
       "         47814,     4,     2,     2,     2,     2,     2,     2,     2,     2,\n",
       "             2],\n",
       "        [ 5223,  2826,    45,   279,     3,    20, 20996,  8292,  2242,     3,\n",
       "           627,   636,     6,  2560,   102, 16628,   284,   412, 55457,  6836,\n",
       "             4,     2,     2,     2,     2,     2,     2,     2,     2,     2,\n",
       "             2],\n",
       "        [   34,   157,  2580,     3,    75,    24,     5,   557, 16629,     3,\n",
       "            63,    10,   984,     6,   527,     3,    87, 11084,     3,   175,\n",
       "         21000,  1251,     9,   191,     4,     2,     2,     2,     2,     2,\n",
       "             2],\n",
       "        [   39,    58,     3,    24,   616,   103,    73,     3,  3571,   661,\n",
       "            59,    98,  5264,    13,     4,     2,     2,     2,     2,     2,\n",
       "             2,     2,     2,     2,     2,     2,     2,     2,     2,     2,\n",
       "             2],\n",
       "        [  804,   219,    63,   146,    94,   187,   342,    41,    16, 91408,\n",
       "          2729,     3,    16, 10039,    21,   290,     3,    72,    94,    20,\n",
       "           377,  6257, 20252,   517,  2616,     4,     2,     2,     2,     2,\n",
       "             2],\n",
       "        [  451,    32,   142,   219,    63,    96,  1792,     3,     5,    16,\n",
       "         15008,    17,   192,   762,     6,   601,    42,   596,   381,     3,\n",
       "             5,  1174,  1792,    41,     5,  3355,    17,   192,    43, 42653,\n",
       "             4],\n",
       "        [13758,    59,     3,  2136,   290,     5,  7231,     3,    72,    23,\n",
       "            38,    78,  1341,  3770,   136,     3,    81,  5120,  9136, 47870,\n",
       "            19, 92052, 12069,    21,     4,     2,     2,     2,     2,     2,\n",
       "             2],\n",
       "        [ 2264,    51,   145,     3,   299,   352,     5,  4211,   173,   483,\n",
       "             3, 91611,     3,     9,  2178,     3,     5,     8,  6922,   914,\n",
       "         13967,   149,     4,     2,     2,     2,     2,     2,     2,     2,\n",
       "             2],\n",
       "        [  323,     6,   403,   678,     5,  2388,     4,     2,     2,     2,\n",
       "             2,     2,     2,     2,     2,     2,     2,     2,     2,     2,\n",
       "             2,     2,     2,     2,     2,     2,     2,     2,     2,     2,\n",
       "             2],\n",
       "        [  685,   613,     6,  2256,   109,   521,    98,    74,    43,     5,\n",
       "          2819,    84,     6,    55,    50,     4,     2,     2,     2,     2,\n",
       "             2,     2,     2,     2,     2,     2,     2,     2,     2,     2,\n",
       "             2]])"
      ]
     },
     "execution_count": 20,
     "metadata": {},
     "output_type": "execute_result"
    }
   ],
   "source": [
    "sample_dataloader = DataLoader(sample_data, batch_size=10, shuffle=True, collate_fn=generate_batch)\n",
    "sample_batch=None\n",
    "for batch in sample_dataloader:\n",
    "    \n",
    "    sample_batch=batch\n",
    "    break\n",
    "sample_batch[0]#독일어"
   ]
  },
  {
   "cell_type": "code",
   "execution_count": 21,
   "id": "3d5560d1",
   "metadata": {},
   "outputs": [
    {
     "data": {
      "text/plain": [
       "tensor([[    0,    66,  1106,   189,     7,     3,  3449,   219,     8,     7,\n",
       "             3, 12403,     8, 22656,  6088,     5,  2101,     3,   407,    15,\n",
       "             3,   556,   392,  2683,    22,  3089,     4,    13,   153,    24,\n",
       "            11,    92,     7,   783,     3,   139,  1962,  2023,     5,     1,\n",
       "             2,     2,     2,     2,     2,     2,     2,     2,     2,     2,\n",
       "             2,     2],\n",
       "        [    0,   443,    10,    88,     4,   712,    55,   810,    77,     3,\n",
       "          1299,    14,    12,  7785,  1739,     6,  2130,     5,    70,    75,\n",
       "           400,     4,    12,  1121,    36,    97,  5828,    11,     7,  1768,\n",
       "           258,    54,    20,     3,  1121,    11,  3466,     5,     1,     2,\n",
       "             2,     2,     2,     2,     2,     2,     2,     2,     2,     2,\n",
       "             2,     2],\n",
       "        [    0,   103,  2887,    85,    32,    43,     4,    13,    98,   727,\n",
       "            13,    22,    48,   237,     3,   380,     7,   100,    12,   303,\n",
       "          7527,  2155,    34,     3,   239,     6,   212,   148,  8406,    36,\n",
       "            97,  1092,     4,   308,    23,    13,    30,     4,     6,   176,\n",
       "             4,  2417,    26,    39,   567,   436,     7,     3,   283,  1351,\n",
       "             5,     1],\n",
       "        [    0,    32,    43,     4,    16,    58,    11,   432,    47,     4,\n",
       "           502,     4,    18,    83,    56,   119,    16,     5,     1,     2,\n",
       "             2,     2,     2,     2,     2,     2,     2,     2,     2,     2,\n",
       "             2,     2,     2,     2,     2,     2,     2,     2,     2,     2,\n",
       "             2,     2,     2,     2,     2,     2,     2,     2,     2,     2,\n",
       "             2,     2],\n",
       "        [    0,    13,   101,   454,    18,    44,  1562,   438,     3,   675,\n",
       "             6,   533,    10,    18,    21,     9,  1379,     6, 11935,    81,\n",
       "            18,   229,   329,    16,   908,     6,   391,     4,    23,  1424,\n",
       "             7,    17,   315,   309,     5,     1,     2,     2,     2,     2,\n",
       "             2,     2,     2,     2,     2,     2,     2,     2,     2,     2,\n",
       "             2,     2],\n",
       "        [    0,    41,   101,   438,    10,     3,   925,  6526,     6,     3,\n",
       "            53,    11,    34,   262,   289,   491,     7,     3,   141,    39,\n",
       "           422,   211,   669,     3,    53,    36,    97,  3197,    25,    12,\n",
       "           573,  1272,     5,     1,     2,     2,     2,     2,     2,     2,\n",
       "             2,     2,     2,     2,     2,     2,     2,     2,     2,     2,\n",
       "             2,     2],\n",
       "        [    0, 13785,    56,  1536,     4,     9,     3,   244,   396,    24,\n",
       "            11,   156,    10,    14,   414,  2479,     6,   520,     4,     3,\n",
       "          5024,   732,    30,    17, 14832,    27,  6935,   660,  1371,  1046,\n",
       "          3458,     7,   593,    19,  8402,   732,  7217,     5,     1,     2,\n",
       "             2,     2,     2,     2,     2,     2,     2,     2,     2,     2,\n",
       "             2,     2],\n",
       "        [    0,    13,   187,    52,    57,    20,   691,    81,    13,   100,\n",
       "           203,   775,     6,     3,  3049,     9,    80,   515,     4, 16212,\n",
       "             4,    23,    22,  2365,  1320,  1657,     5,     1,     2,     2,\n",
       "             2,     2,     2,     2,     2,     2,     2,     2,     2,     2,\n",
       "             2,     2,     2,     2,     2,     2,     2,     2,     2,     2,\n",
       "             2,     2],\n",
       "        [    0,    29,   283,   647,    11,  1050,  2650,   103,  1114,    19,\n",
       "         27332,    85,     5,     1,     2,     2,     2,     2,     2,     2,\n",
       "             2,     2,     2,     2,     2,     2,     2,     2,     2,     2,\n",
       "             2,     2,     2,     2,     2,     2,     2,     2,     2,     2,\n",
       "             2,     2,     2,     2,     2,     2,     2,     2,     2,     2,\n",
       "             2,     2],\n",
       "        [    0,  1255,     4,    76,    25,    12,  1883,    11,    12,   226,\n",
       "           363,    56,   119,   133,     3,  2422,   106,    67,    62,     5,\n",
       "             1,     2,     2,     2,     2,     2,     2,     2,     2,     2,\n",
       "             2,     2,     2,     2,     2,     2,     2,     2,     2,     2,\n",
       "             2,     2,     2,     2,     2,     2,     2,     2,     2,     2,\n",
       "             2,     2]])"
      ]
     },
     "execution_count": 21,
     "metadata": {},
     "output_type": "execute_result"
    }
   ],
   "source": [
    "sample_batch[1]"
   ]
  },
  {
   "cell_type": "code",
   "execution_count": 22,
   "id": "8e2f01cd",
   "metadata": {},
   "outputs": [],
   "source": [
    "#HYPERPARAMETERS\n",
    "embed_size = 50\n",
    "hidden_size_ex = 25"
   ]
  },
  {
   "cell_type": "code",
   "execution_count": 23,
   "id": "40beda34",
   "metadata": {},
   "outputs": [],
   "source": [
    "de_word_size = len(de_vocab)\n",
    "en_word_size = len(en_vocab)\n",
    "class Encoder(nn.Module):\n",
    "    def __init__(self):\n",
    "        super().__init__()\n",
    "        self.embed = torch.nn.Embedding(de_word_size, embed_size).to(device = device)#word_sizexembed size matrix. 정수->벡터 함수\n",
    "        self.LSTM = torch.nn.LSTM(input_size = embed_size , hidden_size= hidden_size_ex, batch_first=True).to(device = device)\n",
    " \n",
    "    def forward(self, x):\n",
    "        x = x.to(device = device)#x shape: batch*sentence_size\n",
    "        #print(\"Encoder input:\", x)#debug\n",
    "        x = self.embed(x).to(device = device)#x.shape = batchxsentence size(문장의 토큰 개수)x embed_size\n",
    "        #print(token.unsqueeze(0).unsqueeze(0))#1x1x4\n",
    "        output, final_status = self.LSTM(x)\n",
    "        #print(\"Encoder output:\", final_status)#debug\n",
    "        return output, final_status# shape: batch x sentence_size(LSTM이 돈 횟수) x hidden_size_sx"
   ]
  },
  {
   "cell_type": "code",
   "execution_count": 24,
   "id": "d959b70d",
   "metadata": {},
   "outputs": [],
   "source": [
    "class Decoder(nn.Module):\n",
    "    def __init__(self):\n",
    "        super().__init__()\n",
    "        self.embed = torch.nn.Embedding(en_word_size, embed_size).to(device = device)#word_sizexembed size matrix. 정수->벡터 함수\n",
    "        self.LSTM = torch.nn.LSTM(input_size = embed_size , hidden_size= hidden_size_ex, batch_first=True).to(device = device)\n",
    "    def forward(self, x, final_encoder_state):\n",
    "        x = x.to(device = device)#x shape: batch*sentence_size\n",
    "        #print(\"Decoder input:\", x)#debug\n",
    "        x = self.embed(x)#x.shape = batchxsentence size(문장의 토큰 개수)x embed_size\n",
    "        output, final_decoder_status = self.LSTM(x, final_encoder_state)\n",
    "        #print(\"Decoder output:\", final_decoder_status)#debug\n",
    "        return output, final_decoder_status# shape: batch x sentence_size(LSTM이 돈 횟수) x hidden_size_sx"
   ]
  },
  {
   "cell_type": "code",
   "execution_count": 25,
   "id": "2c8f370f",
   "metadata": {},
   "outputs": [],
   "source": [
    "class Attention_LSTM(nn.Module):\n",
    "    def __init__(self):\n",
    "        super().__init__()\n",
    "        self.decoder=Decoder()\n",
    "        self.encoder=Encoder()\n",
    "        self.hiddenstate = nn.Sequential(nn.Linear(hidden_size_ex*2, hidden_size_ex), nn.BatchNorm1d(hidden_size_ex)).to(device = device)\n",
    "        self.outputLayer = nn.Linear(hidden_size_ex, en_word_size).to(device = device)\n",
    "        \n",
    "    def forward(self, x):#x=(de,en) sentence imbedding\n",
    "        tf = random.randrange(2)\n",
    "        ground_truth = x[1].to(device = device)\n",
    "        #print(\"ALSTM en ground_truth:\", ground_truth)#debug\n",
    "        en_sentence_size = x[1].shape[1]\n",
    "        #print(\"ALSTM en ground_truth sentence size:\", en_sentence_size)#debug\n",
    "        en_generated = torch.zeros((ground_truth.shape[0],1),requires_grad = False, dtype=torch.int64).to(device=device)\n",
    "        output= None\n",
    "        de_batch = x[0].to(device = device)\n",
    "        #print(\"ALSTM de input:\", de_batch)#debug\n",
    "        encoder_result, final_encoder_status = self.encoder(de_batch)#batch*sentence size*embedding\n",
    "        final_status = final_encoder_status #state for decoder...     \n",
    "        for iteration in range(1, en_sentence_size):\n",
    "            decoder_result, final_status = self.decoder(en_generated[:,-1].unsqueeze(1), final_status)#decoder result: batch*1*hidden_status\n",
    "            attention_score = torch.matmul(encoder_result,decoder_result.transpose(1,2))#decoder_result를 column vector로 바꿔주었다. final shape = batch*encoder sentence size* 1(디코더에는 한 번에 한 token만 넣어주므로..)\n",
    "            attention_distribution = softmax(attention_score, dim=1)\n",
    "            #print(\"ALSTM attention_distribution:\", attention_distribution)#debug\n",
    "            attention_value = torch.sum(encoder_result * attention_distribution, dim=1).unsqueeze(1)#아다마르 곱 후 unsqueeze 로 batch*1*hidden_size 로 바꿔준다\n",
    "            #print(\"ALSTM attention_value:\", attention_value)#debug\n",
    "            att_dec_concat = torch.cat((attention_value, decoder_result), dim = 2).squeeze(1)#batch*hidden_sie*2\n",
    "            #print(\"ALSTM input for final Linear layer:\", att_dec_concat)#debug\n",
    "            final_vector = torch.tanh(self.hiddenstate(att_dec_concat))#batch*hidden_s\n",
    "            a_output = self.outputLayer(final_vector)#batch*en_word_size\n",
    "            #print(\"ALSTM output of final Linear layer:\", output)#debug\n",
    "            #output_softmax = softmax(output, dim=1)\n",
    "            #output_lsm = logsoftmax(output,dim=1)\n",
    "            #print(\"ALSTM Logsoftmax:\", output_lsm)#debug\n",
    "            \n",
    "            a_output_argmax = a_output.argmax(dim=1).view(-1,1)\n",
    "            current_truth = ground_truth[:,iteration]\n",
    "            \n",
    "            #print(iteration, output_softmax[:,current_truth].shape)\n",
    "            #print(current_truth)\n",
    "\n",
    "            if self.training == True:#what to do in training mode -> model.train()...\n",
    "                if  tf == 1:\n",
    "                    en_generated = torch.cat((en_generated, current_truth.unsqueeze(1)), dim=1)#teacher forcing\n",
    "                else:\n",
    "                    en_generated = torch.cat((en_generated, a_output_argmax), dim=1)#Non_teacher_forcing\n",
    "            else:\n",
    "                en_generated = torch.cat((en_generated, a_output_argmax), dim=1)\n",
    "            #prob_truth = output_lsm[[idx for idx in range(output_lsm.shape[0])],current_truth].unsqueeze(1)\n",
    "            if output is None:#shape = batch*sentence_size2\n",
    "                output = a_output.unsqueeze(1)#batch*1*en 사전크기\n",
    "                #print(output.shape)\n",
    "            else:\n",
    "                output = torch.cat((output, a_output.unsqueeze(1)),dim=1)\n",
    "                #print(output.shape)\n",
    "            #print(en_generated)\n",
    "        #print(\"tensor size of output: \", gpusize(output))# debug\n",
    "        return en_generated, output\n",
    "sample_LSTM = Attention_LSTM()\n",
    "sample_LSTM.eval()\n",
    "sample_generated, sample_output = sample_LSTM(sample_batch)\n",
    "sample_LSTM.train()\n",
    "sample_LSTM = None"
   ]
  },
  {
   "cell_type": "code",
   "execution_count": 26,
   "id": "68e61098",
   "metadata": {
    "scrolled": true
   },
   "outputs": [
    {
     "data": {
      "text/plain": [
       "torch.Size([380])"
      ]
     },
     "execution_count": 26,
     "metadata": {},
     "output_type": "execute_result"
    }
   ],
   "source": [
    "sample_generated.reshape(-1).shape"
   ]
  },
  {
   "cell_type": "code",
   "execution_count": 27,
   "id": "e329debf",
   "metadata": {},
   "outputs": [
    {
     "data": {
      "text/plain": [
       "torch.Size([370, 59564])"
      ]
     },
     "execution_count": 27,
     "metadata": {},
     "output_type": "execute_result"
    }
   ],
   "source": [
    "sample_output.reshape(-1,en_word_size).shape"
   ]
  },
  {
   "cell_type": "code",
   "execution_count": 26,
   "id": "8b5a0dc5",
   "metadata": {},
   "outputs": [],
   "source": [
    "def training_loop(optimizer, model, loss_fn, train_loader):\n",
    "    model.train()\n",
    "    loss_train = 0.0\n",
    "    for batch in train_loader:\n",
    "        generated_sentence, logit = model(batch)\n",
    "        ground_truth = batch[1].to(device = device)\n",
    "        ground_truth = torch.split(ground_truth, [1,ground_truth.shape[1]-1], dim=1)[1]#train 이라서 ground truth. 제일 처음의 0을 제거함.\n",
    "        ground_truth = ground_truth.reshape(-1)\n",
    "        logit = logit.reshape(-1,en_word_size)\n",
    "        mask = ground_truth != 2# 2인경우에는 0\n",
    "        #print(generated_sentence.dtype)\n",
    "        #print(prob_output)#debug\n",
    "        #logsoftmax_stack = logsoftmax_stack.to(device=device)\n",
    "        #loss = loss_fn(logsoftmax_stack.reshape(-1,logsoftmax_stack.shape[-1]), generated_sentence.reshape(-1))\n",
    "        loss = loss_fn(logit, ground_truth)*mask\n",
    "        #print(loss, mask)\n",
    "        loss = loss.mean()\n",
    "        optimizer.zero_grad()\n",
    "        loss.backward()\n",
    "        optimizer.step()\n",
    "        loss_train += loss\n",
    "        #print(\"loss:\",loss)\n",
    "        #break\n",
    "    loss_train = loss_train/len(train_loader)\n",
    "    torch.save(model.state_dict(), FILENAME_PARAMETERS)\n",
    "    #print(\"batchloss\",loss_train)\n",
    "    return loss_train"
   ]
  },
  {
   "cell_type": "code",
   "execution_count": 27,
   "id": "c3823901",
   "metadata": {
    "scrolled": true
   },
   "outputs": [
    {
     "name": "stdout",
     "output_type": "stream",
     "text": [
      "cuda:1\n",
      "param exists\n"
     ]
    },
    {
     "name": "stderr",
     "output_type": "stream",
     "text": [
      "/opt/conda/envs/Conda1/lib/python3.9/site-packages/torch/nn/_reduction.py:42: UserWarning: size_average and reduce args will be deprecated, please use reduction='none' instead.\n",
      "  warnings.warn(warning.format(ret))\n"
     ]
    }
   ],
   "source": [
    "FILENAME_PARAMETERS = \"seq2seq_param.pt\"\n",
    "LR = 0.004\n",
    "EPOCH = 0\n",
    "print(device)\n",
    "#train----------------------------------\n",
    "model = Attention_LSTM()\n",
    "if exists(FILENAME_PARAMETERS):\n",
    "    model.load_state_dict(torch.load(\"./\" + FILENAME_PARAMETERS))\n",
    "    print(\"param exists\")\n",
    "optimizer = torch.optim.AdamW(model.parameters(), lr=LR, weight_decay = 0.004)\n",
    "loss_fn = nn.CrossEntropyLoss(reduce = False, reduction = 'none')\n",
    "#train this fold\n",
    "train_loader = DataLoader(sample_data, batch_size=80, shuffle=True, collate_fn=generate_batch)\n",
    "for epoch in range(EPOCH):\n",
    "    result = training_loop(optimizer, model, loss_fn, train_loader)\n",
    "    print(\"epoch\", epoch, \" loss:\", result)"
   ]
  },
  {
   "cell_type": "code",
   "execution_count": null,
   "id": "26a63e21",
   "metadata": {
    "scrolled": true
   },
   "outputs": [],
   "source": [
    "GPUreport()"
   ]
  },
  {
   "cell_type": "code",
   "execution_count": null,
   "id": "aef0b011",
   "metadata": {},
   "outputs": [],
   "source": [
    "torch.save(model.state_dict(), FILENAME_PARAMETERS)"
   ]
  },
  {
   "cell_type": "code",
   "execution_count": 28,
   "id": "b0276bd1",
   "metadata": {
    "scrolled": true
   },
   "outputs": [
    {
     "data": {
      "text/plain": [
       "Attention_LSTM(\n",
       "  (decoder): Decoder(\n",
       "    (embed): Embedding(59564, 50)\n",
       "    (LSTM): LSTM(50, 25, batch_first=True)\n",
       "  )\n",
       "  (encoder): Encoder(\n",
       "    (embed): Embedding(175559, 50)\n",
       "    (LSTM): LSTM(50, 25, batch_first=True)\n",
       "  )\n",
       "  (hiddenstate): Sequential(\n",
       "    (0): Linear(in_features=50, out_features=25, bias=True)\n",
       "    (1): BatchNorm1d(25, eps=1e-05, momentum=0.1, affine=True, track_running_stats=True)\n",
       "  )\n",
       "  (outputLayer): Linear(in_features=25, out_features=59564, bias=True)\n",
       ")"
      ]
     },
     "execution_count": 28,
     "metadata": {},
     "output_type": "execute_result"
    }
   ],
   "source": [
    "model.eval()"
   ]
  },
  {
   "cell_type": "code",
   "execution_count": 29,
   "id": "3a7fea65",
   "metadata": {
    "scrolled": true
   },
   "outputs": [],
   "source": [
    "sample_eval = model(sample_batch)[0].to(device = 'cpu')"
   ]
  },
  {
   "cell_type": "code",
   "execution_count": 30,
   "id": "38a3b068",
   "metadata": {},
   "outputs": [],
   "source": [
    "torch.cuda.empty_cache()"
   ]
  },
  {
   "cell_type": "code",
   "execution_count": 31,
   "id": "f6ee9349",
   "metadata": {},
   "outputs": [],
   "source": [
    "dic = en_vocab.get_itos()"
   ]
  },
  {
   "cell_type": "code",
   "execution_count": 32,
   "id": "ffd572d4",
   "metadata": {},
   "outputs": [],
   "source": [
    "def batch_to_string(tensor):\n",
    "    tensorlist = tensor.tolist()\n",
    "    strings = []\n",
    "    for string in tensorlist:\n",
    "        temp1 = ''\n",
    "        for letter in string:\n",
    "            if letter:\n",
    "                temp1 += ' ' + dic[letter]\n",
    "        strings.append(temp1)\n",
    "    return strings"
   ]
  },
  {
   "cell_type": "code",
   "execution_count": 33,
   "id": "b3ec3880",
   "metadata": {},
   "outputs": [
    {
     "data": {
      "text/plain": [
       "[' Obnova is to the negotiations negotiations in the negotiations negotiations in the negotiations negotiations in the negotiations negotiations in the negotiations in the negotiations in the negotiations and the negotiations negotiations in the negotiations and the negotiations negotiations in the negotiations and the negotiations negotiations in the negotiations and the negotiations',\n",
       " ' publication are to the reversed of the the of the the of the of the of the of the of the of the of the the of the of the of the of the of the of the of the of the of the of the of the of the of',\n",
       " ' rapporteurs agree with Mrs Mrs Mrs Mrs Mrs Mrs Mrs Mrs Mrs Mrs Mrs Mrs Mrs Mrs Mrs Mrs Mrs Mrs Mrs Mrs Mrs Mrs Mrs Mrs Mrs Mrs Mrs Mrs Mrs Mrs Mrs Mrs Mrs Mrs Mrs Mrs Mrs Mrs Mrs Mrs Mrs Mrs Mrs Mrs Mrs Mrs Mrs Mrs',\n",
       " ' President Mr President , I - that , that is , , that , that , that , that , that , that , that , that , that , that , that , that , that , that , that , that , that , that , that , that',\n",
       " ' assurance of we therefore therefore to the that is is is is that that that that that that that that that that that that that that that that that that that that that that that that that that that that that that that that that that that that that that that',\n",
       " ' Experts the the the the Secretariat of the the the the the Secretariat of the the the the the Secretariat of the the the the the Secretariat of the the the the the Secretariat of the the the the the Secretariat of the the the the the Secretariat of the the',\n",
       " ' vessel , is . , , , , is . . <eos> , , - - , , - - , , - - , , - - , , - - , , - - , , - - , , - - , , - - , , -',\n",
       " ' forgive the region , , Lorraine , Lorraine , have suffered , , Lorraine , Lorraine , have have suffered , , Lorraine , have suffered , , Lorraine , have have suffered , in suffered , , Lorraine , have suffered , , , have have Portugal , Lorraine ,',\n",
       " ' plant on Time Question Time Question Time Question Time Question Time Question Time Question Time Question Time Question Time Question Time Question Time Question Time Question Time Question Time Question Time Question Time Question Time Question Time Question Time Question Time Question Time Question Time Question Time Question Time Question Time',\n",
       " ' appalling Europe is a a a a a a a the the the the the the the the the the the the the the the the the the the the the the the the the the the the the the the the the the the the the the the the the']"
      ]
     },
     "execution_count": 33,
     "metadata": {},
     "output_type": "execute_result"
    }
   ],
   "source": [
    "batch_to_string(sample_eval)"
   ]
  },
  {
   "cell_type": "code",
   "execution_count": 34,
   "id": "9abb6314",
   "metadata": {},
   "outputs": [
    {
     "data": {
      "text/plain": [
       "[' This applies both to the interim agreement and to the Hebron and Wye Agreements . While the negotiations on the final peace settlement have begun , I think it is important to keep the two processes apart . <eos> <pad> <pad> <pad> <pad> <pad> <pad> <pad> <pad> <pad> <pad> <pad> <pad>',\n",
       " \" At that time , she was talking about the desire for a reversed burden of proof . In other words , a product ' s manufacturer is to demonstrate whether or not the product is hazardous . <eos> <pad> <pad> <pad> <pad> <pad> <pad> <pad> <pad> <pad> <pad> <pad> <pad> <pad>\",\n",
       " \" ( NL ) Mr President , I am pleased I have been given the opportunity to make a few introductory remarks at the end of rapporteur Mrs Berger ' s speech , after which I will , of course , listen with all due attention to the next speakers . <eos>\",\n",
       " ' Mr President , this report is positive but , actually , we need more than this . <eos> <pad> <pad> <pad> <pad> <pad> <pad> <pad> <pad> <pad> <pad> <pad> <pad> <pad> <pad> <pad> <pad> <pad> <pad> <pad> <pad> <pad> <pad> <pad> <pad> <pad> <pad> <pad> <pad> <pad> <pad> <pad> <pad> <pad>',\n",
       " ' I therefore feel we must carefully consider the balance of power that we are in danger of upsetting if we put forward this type of reform , which appears to be quite specific . <eos> <pad> <pad> <pad> <pad> <pad> <pad> <pad> <pad> <pad> <pad> <pad> <pad> <pad> <pad> <pad> <pad>',\n",
       " \" We therefore consider that the General Secretariat of the Council is at present making available to the public all essential information regarding the Council ' s functions as a legislative body . <eos> <pad> <pad> <pad> <pad> <pad> <pad> <pad> <pad> <pad> <pad> <pad> <pad> <pad> <pad> <pad> <pad> <pad> <pad>\",\n",
       " ' Put more strongly , in the long term it is possible that for large numbers of funds , the Tobin tax will be evaded by shifting foreign exchange rate transactions to off - shore tax havens . <eos> <pad> <pad> <pad> <pad> <pad> <pad> <pad> <pad> <pad> <pad> <pad> <pad> <pad>',\n",
       " ' I hope you do not mind if I make particular mention of the forests in my region , Lorraine , which have suffered enormous destruction . <eos> <pad> <pad> <pad> <pad> <pad> <pad> <pad> <pad> <pad> <pad> <pad> <pad> <pad> <pad> <pad> <pad> <pad> <pad> <pad> <pad> <pad> <pad> <pad> <pad>',\n",
       " ' The next item is Question Time ( B5 - 0003/2000 ) . <eos> <pad> <pad> <pad> <pad> <pad> <pad> <pad> <pad> <pad> <pad> <pad> <pad> <pad> <pad> <pad> <pad> <pad> <pad> <pad> <pad> <pad> <pad> <pad> <pad> <pad> <pad> <pad> <pad> <pad> <pad> <pad> <pad> <pad> <pad> <pad> <pad> <pad> <pad>',\n",
       " ' Moreover , Europe as a continent is a great deal more than just the fifteen EU Member States . <eos> <pad> <pad> <pad> <pad> <pad> <pad> <pad> <pad> <pad> <pad> <pad> <pad> <pad> <pad> <pad> <pad> <pad> <pad> <pad> <pad> <pad> <pad> <pad> <pad> <pad> <pad> <pad> <pad> <pad> <pad> <pad>']"
      ]
     },
     "execution_count": 34,
     "metadata": {},
     "output_type": "execute_result"
    }
   ],
   "source": [
    "batch_to_string(sample_batch[1])"
   ]
  },
  {
   "cell_type": "code",
   "execution_count": null,
   "id": "7fa59ca6",
   "metadata": {},
   "outputs": [],
   "source": [
    "emb = next(model.decoder.embed.parameters())"
   ]
  },
  {
   "cell_type": "code",
   "execution_count": null,
   "id": "aa5f6fed",
   "metadata": {},
   "outputs": [],
   "source": [
    "torch.set_printoptions(sci_mode=False)\n",
    "emb[17]"
   ]
  },
  {
   "cell_type": "code",
   "execution_count": null,
   "id": "f77f6574",
   "metadata": {},
   "outputs": [],
   "source": [
    "dic[17]"
   ]
  },
  {
   "cell_type": "code",
   "execution_count": null,
   "id": "90eb8316",
   "metadata": {
    "scrolled": true
   },
   "outputs": [],
   "source": [
    "sample_eval"
   ]
  },
  {
   "cell_type": "code",
   "execution_count": null,
   "id": "3145abe0",
   "metadata": {},
   "outputs": [],
   "source": []
  }
 ],
 "metadata": {
  "interpreter": {
   "hash": "3e000a0b163b15ef2769f375070feff4b061ecffb0bc4d87a79ed9c118d84ce3"
  },
  "kernelspec": {
   "display_name": "Python 3.7.0 ('base')",
   "language": "python",
   "name": "python3"
  },
  "language_info": {
   "codemirror_mode": {
    "name": "ipython",
    "version": 3
   },
   "file_extension": ".py",
   "mimetype": "text/x-python",
   "name": "python",
   "nbconvert_exporter": "python",
   "pygments_lexer": "ipython3",
   "version": "3.7.0"
  }
 },
 "nbformat": 4,
 "nbformat_minor": 5
}
