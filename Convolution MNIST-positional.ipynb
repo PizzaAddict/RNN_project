{
 "cells": [
  {
   "cell_type": "markdown",
   "id": "630c5947",
   "metadata": {},
   "source": [
    "adamW\n",
    "convolution\n",
    "residual\n",
    "bath normalization, dropout\n",
    "data augmentation\n",
    "    elastic deform\n",
    "    gaussian noise\n",
    "    rotation\n",
    "    crop\n",
    "    dynamic zoom\n",
    "    blur\n",
    "    가리기\n",
    "    3d rotation\n",
    "    +여러가지 mnist data\n",
    "    \n",
    "learning late sceduling#to learn\n"
   ]
  },
  {
   "cell_type": "markdown",
   "id": "bfb9ee2d",
   "metadata": {},
   "source": [
    "구조\n",
    "    eval() mod 일 때에는 기존 convolutional network+positional embedding 처럼 동작.\n",
    "    즉, 4채널짜리 Convolution이 되는 것.\n",
    "    그러나 train mod 일 때에는, 사진이라고 하는 데이터의 특성을 극한으로 활용\n",
    "    Pre-augmented dataset(digit-five 등등"
   ]
  },
  {
   "cell_type": "markdown",
   "id": "af34b91d",
   "metadata": {},
   "source": [
    "구조 자세히\n",
    "    "
   ]
  },
  {
   "cell_type": "code",
   "execution_count": 1,
   "id": "529084f2",
   "metadata": {
    "scrolled": true
   },
   "outputs": [],
   "source": [
    "#data 관련 임포트\n",
    "import torch\n",
    "import numpy as np\n",
    "from torch.utils.data import DataLoader\n",
    "from torch.utils.data import Dataset\n",
    "from torchvision import datasets\n",
    "from torchvision import transforms\n",
    "from scipy import io"
   ]
  },
  {
   "cell_type": "code",
   "execution_count": 2,
   "id": "036135ec",
   "metadata": {},
   "outputs": [],
   "source": [
    "#모델 임포트\n",
    "import torch\n",
    "import torch.nn as nn\n",
    "\n",
    "#유틸 임포트\n",
    "import pprint\n",
    "from os.path import exists\n",
    "from matplotlib import pyplot as plt\n",
    "import numpy as np"
   ]
  },
  {
   "cell_type": "code",
   "execution_count": 3,
   "id": "e3a8ad96",
   "metadata": {},
   "outputs": [],
   "source": [
    "PATH_FOLDER = '../datasets/DIGIT_FIVE/'\n",
    "files = ['mnistm_with_label.mat','svhn_train_32x32.mat','syn_number.mat','usps_28x28.mat']"
   ]
  },
  {
   "cell_type": "code",
   "execution_count": 4,
   "id": "5cc72634",
   "metadata": {},
   "outputs": [],
   "source": [
    "class mnistAm(Dataset):\n",
    "    def __init__(self, train = True):\n",
    "        #transforms.Compose([transforms.ToTensor(),lambda x: x.repeat(1,3,1,1), lambda x: torch.mul(x,torch.rand(3,28,28))])\n",
    "        self.train = train\n",
    "        \n",
    "        mat_file = io.loadmat(PATH_FOLDER+files[3])\n",
    "        if self.train == True:\n",
    "            mnist = datasets.MNIST('./datasets',train=True , download = True)\n",
    "            data1 = mnist.train_data.unsqueeze(1)\n",
    "            data2 = torch.tensor(mat_file['dataset'][0][0],dtype=torch.float32)*255\n",
    "            self.data = torch.cat((data1, data2), dim=0)\n",
    "            label1 = mnist.train_labels\n",
    "            label2 = torch.tensor(mat_file['dataset'][0][1].reshape(-1))#vector\n",
    "            self.label = torch.cat((label1, label2), dim=0)\n",
    "        else:\n",
    "            mnist = datasets.MNIST('./datasets',train=False , download = True)\n",
    "            data1 = mnist.test_data.unsqueeze(1)\n",
    "            data2 = torch.tensor(mat_file['dataset'][1][0],dtype=torch.float32)*255\n",
    "            self.data = torch.cat((data1, data2), dim=0)\n",
    "            label1 = mnist.test_labels\n",
    "            label2 = torch.tensor(mat_file['dataset'][1][1].reshape(-1))#vector\n",
    "            self.label = torch.cat((label1, label2), dim=0)\n",
    "        self.data = self.data.repeat(1,3,1,1)/255\n",
    "        self.rtransform = transforms.RandomApply(transforms = [lambda x: torch.mul(x,torch.rand(3,28,28))], p=1)\n",
    "    def __len__(self):\n",
    "        return len(self.data)\n",
    "    def __getitem__(self, index):\n",
    "        return self.rtransform(self.data[index]) , self.label[index]"
   ]
  },
  {
   "cell_type": "code",
   "execution_count": 5,
   "id": "06f68f9c",
   "metadata": {},
   "outputs": [],
   "source": [
    "class mnistm(Dataset):\n",
    "    def __init__(self, train = True):\n",
    "        self.train = train\n",
    "        mat_file = io.loadmat(PATH_FOLDER+files[0])\n",
    "        if self.train == True:\n",
    "            self.data = torch.tensor(mat_file['train'].transpose(0,3,1,2)/255,dtype=torch.float32)\n",
    "            self.label = torch.tensor(mat_file['label_train'].argmax(axis = 1))\n",
    "        else:\n",
    "            self.data = torch.tensor(mat_file['test'].transpose(0,3,1,2)/255,dtype=torch.float32)\n",
    "            self.label = torch.tensor(mat_file['label_test'].argmax(axis = 1))\n",
    "    def __len__(self):\n",
    "        return len(self.data)\n",
    "    def __getitem__(self, index):\n",
    "        return self.data[index], self.label[index]"
   ]
  },
  {
   "cell_type": "code",
   "execution_count": 6,
   "id": "91722e07",
   "metadata": {},
   "outputs": [],
   "source": [
    "class svhn(Dataset):\n",
    "    def __init__(self, train = True):\n",
    "        tn = 60000#max:73257\n",
    "        self.train = train\n",
    "        mat_file = io.loadmat(PATH_FOLDER+files[1])\n",
    "        if self.train == True:\n",
    "            self.data = torch.tensor(mat_file['X'].transpose(3,2,0,1)[:tn]/255,dtype=torch.float32)\n",
    "            self.label = torch.tensor(mat_file['y'][:tn].reshape(-1)-1)\n",
    "        else:\n",
    "            self.data = torch.tensor(mat_file['X'].transpose(3,2,0,1)[tn:]/255,dtype=torch.float32)\n",
    "            self.label = torch.tensor(mat_file['y'][tn:].reshape(-1)-1)\n",
    "        resize = transforms.Resize((28,28))\n",
    "        self.data = resize(self.data)\n",
    "    def __len__(self):\n",
    "        return len(self.data)\n",
    "    def __getitem__(self, index):\n",
    "        return self.data[index], self.label[index]"
   ]
  },
  {
   "cell_type": "code",
   "execution_count": 7,
   "id": "549b2904",
   "metadata": {},
   "outputs": [],
   "source": [
    "class svn(Dataset):\n",
    "    def __init__(self, train = True):\n",
    "        self.train = train\n",
    "        mat_file = io.loadmat(PATH_FOLDER+files[2])\n",
    "        if self.train == True:\n",
    "            self.data = torch.tensor(mat_file['train_data'].transpose(0,3,1,2)/255,dtype=torch.float32)\n",
    "            self.label = torch.tensor(mat_file['train_label'].reshape(-1))\n",
    "        else:\n",
    "            self.data = torch.tensor(mat_file['test_data'].transpose(0,3,1,2)/255,dtype=torch.float32)\n",
    "            self.label = torch.tensor(mat_file['test_label'].reshape(-1))\n",
    "        resize = transforms.Resize((28,28))\n",
    "        self.data = resize(self.data)\n",
    "    def __len__(self):\n",
    "        return len(self.data)\n",
    "    def __getitem__(self, index):\n",
    "        return self.data[index], self.label[index]"
   ]
  },
  {
   "cell_type": "code",
   "execution_count": 8,
   "id": "20cd3835",
   "metadata": {},
   "outputs": [],
   "source": [
    "class comdata(Dataset):\n",
    "    def __init__(self, train = True):\n",
    "        self.datasets = [\n",
    "            mnistAm(train=train),\n",
    "            mnistm(train=train),\n",
    "            svhn(train=train),\n",
    "            svn(train=train)\n",
    "        ]\n",
    "        self.lengthsegment = []\n",
    "        for dataset in self.datasets:\n",
    "            if len(self.lengthsegment) == 0:\n",
    "                last_len = 0\n",
    "            else:\n",
    "                last_len = self.lengthsegment[-1]\n",
    "            self.lengthsegment.append(len(dataset)+last_len)\n",
    "        self.lengthsegment = torch.tensor(self.lengthsegment)\n",
    "    def __len__(self):\n",
    "        return self.lengthsegment[-1]\n",
    "    def __getitem__(self, index):\n",
    "        cansize = self.lengthsegment[self.lengthsegment >= index+1][0]\n",
    "        canindex = (self.lengthsegment == cansize).int().argmax()\n",
    "        return self.datasets[canindex][-(cansize-(index+1)+1)]\n",
    "        \n",
    "        "
   ]
  },
  {
   "cell_type": "code",
   "execution_count": 9,
   "id": "b32788aa",
   "metadata": {},
   "outputs": [],
   "source": [
    "#사진 뒤집고, 노이즈 적용하고,회전시키고, random perspective.\n",
    "t_noise = transforms.Compose([lambda x: x+torch.randn(x.size()).to(device=device)*np.random.randint(5)*0.01, lambda x: torch.clamp(x, min=0, max=1) ])\n",
    "ut = transforms.Compose([\n",
    "    transforms.RandomInvert(),\n",
    "    t_noise,\n",
    "    transforms.RandomRotation(degrees = (-90,90)),\n",
    "    transforms.RandomPerspective(distortion_scale=0.3, p = 0.5)\n",
    "])\n"
   ]
  },
  {
   "cell_type": "code",
   "execution_count": 10,
   "id": "aa9557ff",
   "metadata": {
    "scrolled": true
   },
   "outputs": [
    {
     "data": {
      "text/plain": [
       "'\\ntdf = comdata(train=False)\\n\\n\\n\\nt = torch.tensor([-2,3,1])\\n\\ntorch.clamp(t,min=-1)\\n\\nt_noise = transforms.Compose([lambda x: x+torch.randn(x.size())*np.random.randint(5)*0.01, lambda x: torch.clamp(x, min=0, max=1) ])\\nut = transforms.Compose([\\n    transforms.RandomInvert(),\\n    t_noise,\\n    transforms.RandomRotation(degrees = (-90,90)),\\n    transforms.RandomPerspective(distortion_scale=0.3, p = 0.5)\\n])\\n\\nn = 23043\\nplt.imshow(ut(tdf[n][0]).permute(1,2,0))\\n'"
      ]
     },
     "execution_count": 10,
     "metadata": {},
     "output_type": "execute_result"
    }
   ],
   "source": [
    "\"\"\"\n",
    "tdf = comdata(train=False)\n",
    "\n",
    "\n",
    "\n",
    "t = torch.tensor([-2,3,1])\n",
    "\n",
    "torch.clamp(t,min=-1)\n",
    "\n",
    "t_noise = transforms.Compose([lambda x: x+torch.randn(x.size())*np.random.randint(5)*0.01, lambda x: torch.clamp(x, min=0, max=1) ])\n",
    "ut = transforms.Compose([\n",
    "    transforms.RandomInvert(),\n",
    "    t_noise,\n",
    "    transforms.RandomRotation(degrees = (-90,90)),\n",
    "    transforms.RandomPerspective(distortion_scale=0.3, p = 0.5)\n",
    "])\n",
    "\n",
    "n = 23043\n",
    "plt.imshow(ut(tdf[n][0]).permute(1,2,0))\n",
    "\"\"\""
   ]
  },
  {
   "cell_type": "code",
   "execution_count": 11,
   "id": "62f8d93a",
   "metadata": {
    "scrolled": true
   },
   "outputs": [
    {
     "name": "stdout",
     "output_type": "stream",
     "text": [
      "# DEVICE 0: NVIDIA GeForce RTX 3090\n",
      "- Memory Usage:\n",
      "  Allocated: 0.0 GB\n",
      "  Cached:    0.0 GB\n",
      "\n",
      "# DEVICE 1: NVIDIA GeForce RTX 3090\n",
      "- Memory Usage:\n",
      "  Allocated: 0.0 GB\n",
      "  Cached:    0.0 GB\n",
      "\n"
     ]
    },
    {
     "name": "stderr",
     "output_type": "stream",
     "text": [
      "/opt/conda/envs/Conda1/lib/python3.9/site-packages/torch/cuda/memory.py:384: FutureWarning: torch.cuda.memory_cached has been renamed to torch.cuda.memory_reserved\n",
      "  warnings.warn(\n"
     ]
    }
   ],
   "source": [
    "def GPUreport():\n",
    "    if torch.cuda.is_available():\n",
    "        for i in range(torch.cuda.device_count()):\n",
    "            print(f\"# DEVICE {i}: {torch.cuda.get_device_name(i)}\")\n",
    "            print(\"- Memory Usage:\")\n",
    "            print(f\"  Allocated: {round(torch.cuda.memory_allocated(i)/1024**3,1)} GB\")\n",
    "            print(f\"  Cached:    {round(torch.cuda.memory_cached(i)/1024**3,1)} GB\\n\")\n",
    "    else:\n",
    "        print(\"# GPU is not available\")\n",
    "GPUreport()"
   ]
  },
  {
   "cell_type": "code",
   "execution_count": 12,
   "id": "8951ca31",
   "metadata": {},
   "outputs": [
    {
     "name": "stdout",
     "output_type": "stream",
     "text": [
      "Current Device is:  cuda:1\n"
     ]
    }
   ],
   "source": [
    "GPU_NUM = 1#\n",
    "\n",
    "device = (torch.device(f'cuda:{GPU_NUM}') if torch.cuda.is_available() else torch.device('cpu'))\n",
    "torch.cuda.set_device(device)\n",
    "#device = torch.device('cpu')#cpu\n",
    "\n",
    "print(\"Current Device is: \", device)"
   ]
  },
  {
   "cell_type": "code",
   "execution_count": 13,
   "id": "eb3800fb",
   "metadata": {},
   "outputs": [],
   "source": [
    "def conv1x1(in_cha, out_cha, stride = 1):\n",
    "    #downsampling 할때 쓰는 conv\n",
    "    return nn.Conv2d(in_cha, out_cha, kernel_size=1, stride=stride, bias=False).to(device = device)\n",
    "\n",
    "class res_block(nn.Module):#shortcut 없는 그냥 Block\n",
    "    #positional_dimension = 3\n",
    "    def __init__(self, dropp, out_cha, stride=1, dilation=1):# Input channel 에 adaptive 하게 작동.\n",
    "        self.outlist = []#debug\n",
    "        self.pd = 6 #positional_dimension\n",
    "        super(res_block, self).__init__()\n",
    "        self.param_dict = nn.ParameterDict()\n",
    "        self.hyper = {'out_cha':out_cha, 'stride':stride, 'dilation':dilation}\n",
    "        self.downsample = None\n",
    "        self.relu = nn.ReLU()\n",
    "        \n",
    "        self.posi1 = None#positional embedding\n",
    "        self.conv1 = None\n",
    "        self.dropout1 = nn.Dropout(dropp)\n",
    "        self.bn1 = nn.BatchNorm2d(out_cha).to(device = device)\n",
    "        \n",
    "        self.posi2 = None#positional embedding\n",
    "        self.conv2 = nn.Conv2d(self.hyper['out_cha']+self.pd , self.hyper['out_cha'], kernel_size = 3, stride = 1, padding = self.hyper['dilation'], dilation=self.hyper['dilation']).to(device = device)\n",
    "        self.dropout2 = nn.Dropout(dropp)\n",
    "        self.bn2 = nn.BatchNorm2d(out_cha).to(device = device)\n",
    "    def backup(self, tensor):\n",
    "        self.outlist.append(tensor)\n",
    "    def clearbackup(self):\n",
    "        self.outlist = []\n",
    "    def forward(self, x):#x=N,C,H,W\n",
    "        identity = x\n",
    "        batch_size = x.shape[0]\n",
    "        if self.posi1 is None:\n",
    "            square_h_1 = x.shape[2]#Input 사진이 정사각형임을 가정.\n",
    "            self.posi1 = nn.Parameter(torch.randn(self.pd, square_h_1, square_h_1).unsqueeze(0).to(device = device), requires_grad = True)\n",
    "            #self.param_dict[\"posi_embed1\"] = self.posi1\n",
    "            #self.posi1 = self.posi1.to(device = device)\n",
    "        duplicated_1 = self.posi1.repeat(batch_size,1,1,1)#입력의 batch size만큼 반복\n",
    "        out = torch.cat((x,duplicated_1), dim = 1)\n",
    "        if self.conv1 is None:\n",
    "            self.conv1 = nn.Conv2d(x.shape[1]+self.pd , self.hyper['out_cha'], kernel_size = 3, stride = self.hyper['stride'], padding=self.hyper['dilation'], dilation=self.hyper['dilation']).to(device = device)\n",
    "            \n",
    "        out = self.conv1(out)\n",
    "        #self.backup(out)\n",
    "        out = self.dropout1(out)\n",
    "        out = self.bn1(out)\n",
    "        #self.backup(out)\n",
    "        out = self.relu(out)\n",
    "        #self.backup(out)\n",
    "        #layer 2\n",
    "        if self.posi2 is None:\n",
    "            if self.hyper['stride'] == 1:\n",
    "                self.posi2 = self.posi1#input-output shape를 그대로 쓰면 됨\n",
    "            else:\n",
    "                square_h_2 = out.shape[2]\n",
    "                self.posi2 = nn.Parameter(torch.randn(self.pd,square_h_2, square_h_2).unsqueeze(0).to(device = device), requires_grad = True)\n",
    "            #self.param_dict[\"posi_embed2\"] = self.posi2\n",
    "            #self.posi2 = self.posi2.to(device = device)\n",
    "        duplicated_2 = self.posi2.repeat(batch_size,1,1,1)\n",
    "        out = torch.cat((out,duplicated_2), dim = 1)\n",
    "        out = self.conv2(out)\n",
    "        out = self.dropout2(out)\n",
    "        out = self.bn2(out)\n",
    "\n",
    "        if self.downsample == None:\n",
    "            if self.hyper['stride'] > 1 or x.shape[1] != out.shape[1]: #downsample 이거나 또는 channel size가 일치하지 않을 시\n",
    "                self.downsample = conv1x1(identity.shape[1], self.hyper['out_cha'], stride = self.hyper['stride'])\n",
    "        if self.downsample is not None:\n",
    "            identity = self.downsample(x)\n",
    "        \n",
    "        out = out + identity\n",
    "        out = self.relu(out)\n",
    "        return out\n",
    "\n"
   ]
  },
  {
   "cell_type": "code",
   "execution_count": 14,
   "id": "1d9e7285",
   "metadata": {},
   "outputs": [],
   "source": [
    "class adaptiveLinear(nn.Module):\n",
    "    def __init__(self,output_size):\n",
    "        super(adaptiveLinear, self).__init__()\n",
    "        self.output_size = output_size\n",
    "        self.linear = None\n",
    "    def forward(self,x):#x:batch size ~~blabla\n",
    "        data = x.view(x.shape[0], -1)\n",
    "        if self.linear is None:\n",
    "            self.linear = nn.Linear(data.shape[1],self.output_size).to(device = device)\n",
    "            #self.generated = None\n",
    "        return self.linear(data)"
   ]
  },
  {
   "cell_type": "code",
   "execution_count": 15,
   "id": "618def78",
   "metadata": {},
   "outputs": [],
   "source": [
    "class posiresNN(nn.Module):\n",
    "    def __init__(self):\n",
    "        super(posiresNN, self).__init__()\n",
    "        self.modelname = \"posires\"\n",
    "        self.residual = nn.Sequential(\n",
    "            res_block(0, 64),\n",
    "            res_block(0, 64),\n",
    "            res_block(0, 64),\n",
    "            res_block(0, 64),\n",
    "            res_block(0, 64),\n",
    "            res_block(0, 128, stride=2),#14*14\n",
    "            res_block(0, 128),\n",
    "            adaptiveLinear(10))\n",
    "    def forward(self, x):\n",
    "        return self.residual(x)"
   ]
  },
  {
   "cell_type": "code",
   "execution_count": 16,
   "id": "89a252d1",
   "metadata": {},
   "outputs": [],
   "source": [
    "def training_loop(optimizer, model, loss_fn, train_loader, test_loader, epochs, train_loss_list, val_loss_list, accuracy_list):\n",
    "    AGUMENT = 1\n",
    "    for epoch in range(1,epochs+1):\n",
    "        model.train()\n",
    "        loss_train = 0.0\n",
    "        #model specific code\n",
    "        if epoch == 1:\n",
    "            print('epoch 1')\n",
    "            previous = model.residual[0].posi1[0][0].detach().to(device='cpu').numpy()\n",
    "        current = model.residual[0].posi1[0][0].detach().to(device='cpu').numpy()\n",
    "        plt.imshow(current-previous, cmap='gray')\n",
    "        plt.show()\n",
    "        previous = model.residual[0].posi1[0][0].detach().to(device='cpu').numpy()\n",
    "        #model specific code\n",
    "        batchiter = 0#batchiter: 배치의 개수. batchiter*batch_size 해야 대략적인 총 데이터 개수.\n",
    "        for images, labels, in train_loader:\n",
    "            labels = labels.to(device=device)\n",
    "            outputs = None\n",
    "            labels_a = None\n",
    "            for i in range(AGUMENT):\n",
    "                images_a = ut(images.to(device=device))\n",
    "                if outputs is not None:\n",
    "                    outputs = torch.cat((outputs, model(images_a)),dim=0)#batchsize*10\n",
    "                    labels_a = torch.cat((labels_a,labels),dim=0)\n",
    "                else:\n",
    "                    outputs = model(images_a)\n",
    "                    labels_a = labels\n",
    "            loss = loss_fn(outputs, labels_a)\n",
    "            optimizer.zero_grad()\n",
    "            loss.backward()\n",
    "            optimizer.step()\n",
    "            loss_train += loss.item()\n",
    "        loss_train = loss_train/len(train_loader)\n",
    "        loss_validation, accuracy = evaluate_model(model, test_loader, loss_fn)\n",
    "        train_loss_list += [loss_train]\n",
    "        val_loss_list += [loss_validation]\n",
    "        accuracy_list += [accuracy]\n",
    "        torch.save(model.state_dict(), model.modelname+'.pt')#debug\n",
    "        print(\"epoch:\",epoch, \" train_loss: \", loss_train, \" val_loss: \", loss_validation, \" val_accuracy: \", accuracy)\n",
    "        \n",
    "\n",
    "        \n",
    "def evaluate_model(model, data_loader, loss_fn):\n",
    "    model.eval()\n",
    "    total_size = 0\n",
    "    loss_test = 0.0\n",
    "    accuracy = 0\n",
    "    with torch.no_grad():\n",
    "        for images, labels, in data_loader:\n",
    "            images = images.to(device=device)#batchsize*1*28*28\n",
    "            labels = labels.to(device=device)#batchsize\n",
    "            outputs = model(images)#batchsize*10\n",
    "            output_labels = outputs.argmax(dim=1)\n",
    "            accuracy += torch.sum(output_labels == labels).item()\n",
    "            total_size += len(labels)\n",
    "            loss = loss_fn(outputs, labels)\n",
    "            loss_test += loss.item()\n",
    "    loss_test = loss_test/len(data_loader)\n",
    "    accuracy = accuracy/total_size\n",
    "    model.train()\n",
    "    return loss_test, accuracy\n"
   ]
  },
  {
   "cell_type": "code",
   "execution_count": 17,
   "id": "1f022289",
   "metadata": {
    "scrolled": false
   },
   "outputs": [
    {
     "name": "stderr",
     "output_type": "stream",
     "text": [
      "/opt/conda/envs/Conda1/lib/python3.9/site-packages/torchvision/datasets/mnist.py:75: UserWarning: train_data has been renamed data\n",
      "  warnings.warn(\"train_data has been renamed data\")\n",
      "/opt/conda/envs/Conda1/lib/python3.9/site-packages/torchvision/datasets/mnist.py:65: UserWarning: train_labels has been renamed targets\n",
      "  warnings.warn(\"train_labels has been renamed targets\")\n",
      "/opt/conda/envs/Conda1/lib/python3.9/site-packages/torchvision/datasets/mnist.py:80: UserWarning: test_data has been renamed data\n",
      "  warnings.warn(\"test_data has been renamed data\")\n",
      "/opt/conda/envs/Conda1/lib/python3.9/site-packages/torchvision/datasets/mnist.py:70: UserWarning: test_labels has been renamed targets\n",
      "  warnings.warn(\"test_labels has been renamed targets\")\n"
     ]
    }
   ],
   "source": [
    "BATCHSIZE_TRAIN = 2000\n",
    "DROPOUT_PERCENT = 0\n",
    "LR = 4e-3\n",
    "EPOCHES = 0\n",
    "train_loader = DataLoader(comdata(train=True), batch_size = BATCHSIZE_TRAIN, shuffle = True) #20만개 넘음\n",
    "test_loader = DataLoader(comdata(train=False), batch_size = 2000, shuffle =True) #7만개?\n",
    "loss_fn = nn.CrossEntropyLoss()"
   ]
  },
  {
   "cell_type": "code",
   "execution_count": 18,
   "id": "3229cd98",
   "metadata": {
    "scrolled": true
   },
   "outputs": [
    {
     "name": "stdout",
     "output_type": "stream",
     "text": [
      "posiresNN(\n",
      "  (residual): Sequential(\n",
      "    (0): res_block(\n",
      "      (param_dict): ParameterDict()\n",
      "      (relu): ReLU()\n",
      "      (dropout1): Dropout(p=0, inplace=False)\n",
      "      (bn1): BatchNorm2d(64, eps=1e-05, momentum=0.1, affine=True, track_running_stats=True)\n",
      "      (conv2): Conv2d(70, 64, kernel_size=(3, 3), stride=(1, 1), padding=(1, 1))\n",
      "      (dropout2): Dropout(p=0, inplace=False)\n",
      "      (bn2): BatchNorm2d(64, eps=1e-05, momentum=0.1, affine=True, track_running_stats=True)\n",
      "    )\n",
      "    (1): res_block(\n",
      "      (param_dict): ParameterDict()\n",
      "      (relu): ReLU()\n",
      "      (dropout1): Dropout(p=0, inplace=False)\n",
      "      (bn1): BatchNorm2d(64, eps=1e-05, momentum=0.1, affine=True, track_running_stats=True)\n",
      "      (conv2): Conv2d(70, 64, kernel_size=(3, 3), stride=(1, 1), padding=(1, 1))\n",
      "      (dropout2): Dropout(p=0, inplace=False)\n",
      "      (bn2): BatchNorm2d(64, eps=1e-05, momentum=0.1, affine=True, track_running_stats=True)\n",
      "    )\n",
      "    (2): res_block(\n",
      "      (param_dict): ParameterDict()\n",
      "      (relu): ReLU()\n",
      "      (dropout1): Dropout(p=0, inplace=False)\n",
      "      (bn1): BatchNorm2d(64, eps=1e-05, momentum=0.1, affine=True, track_running_stats=True)\n",
      "      (conv2): Conv2d(70, 64, kernel_size=(3, 3), stride=(1, 1), padding=(1, 1))\n",
      "      (dropout2): Dropout(p=0, inplace=False)\n",
      "      (bn2): BatchNorm2d(64, eps=1e-05, momentum=0.1, affine=True, track_running_stats=True)\n",
      "    )\n",
      "    (3): res_block(\n",
      "      (param_dict): ParameterDict()\n",
      "      (relu): ReLU()\n",
      "      (dropout1): Dropout(p=0, inplace=False)\n",
      "      (bn1): BatchNorm2d(64, eps=1e-05, momentum=0.1, affine=True, track_running_stats=True)\n",
      "      (conv2): Conv2d(70, 64, kernel_size=(3, 3), stride=(1, 1), padding=(1, 1))\n",
      "      (dropout2): Dropout(p=0, inplace=False)\n",
      "      (bn2): BatchNorm2d(64, eps=1e-05, momentum=0.1, affine=True, track_running_stats=True)\n",
      "    )\n",
      "    (4): res_block(\n",
      "      (param_dict): ParameterDict()\n",
      "      (relu): ReLU()\n",
      "      (dropout1): Dropout(p=0, inplace=False)\n",
      "      (bn1): BatchNorm2d(64, eps=1e-05, momentum=0.1, affine=True, track_running_stats=True)\n",
      "      (conv2): Conv2d(70, 64, kernel_size=(3, 3), stride=(1, 1), padding=(1, 1))\n",
      "      (dropout2): Dropout(p=0, inplace=False)\n",
      "      (bn2): BatchNorm2d(64, eps=1e-05, momentum=0.1, affine=True, track_running_stats=True)\n",
      "    )\n",
      "    (5): res_block(\n",
      "      (param_dict): ParameterDict()\n",
      "      (relu): ReLU()\n",
      "      (dropout1): Dropout(p=0, inplace=False)\n",
      "      (bn1): BatchNorm2d(128, eps=1e-05, momentum=0.1, affine=True, track_running_stats=True)\n",
      "      (conv2): Conv2d(134, 128, kernel_size=(3, 3), stride=(1, 1), padding=(1, 1))\n",
      "      (dropout2): Dropout(p=0, inplace=False)\n",
      "      (bn2): BatchNorm2d(128, eps=1e-05, momentum=0.1, affine=True, track_running_stats=True)\n",
      "    )\n",
      "    (6): res_block(\n",
      "      (param_dict): ParameterDict()\n",
      "      (relu): ReLU()\n",
      "      (dropout1): Dropout(p=0, inplace=False)\n",
      "      (bn1): BatchNorm2d(128, eps=1e-05, momentum=0.1, affine=True, track_running_stats=True)\n",
      "      (conv2): Conv2d(134, 128, kernel_size=(3, 3), stride=(1, 1), padding=(1, 1))\n",
      "      (dropout2): Dropout(p=0, inplace=False)\n",
      "      (bn2): BatchNorm2d(128, eps=1e-05, momentum=0.1, affine=True, track_running_stats=True)\n",
      "    )\n",
      "    (7): adaptiveLinear()\n",
      "  )\n",
      ")\n",
      "posires.pt exists.\n",
      "epoch 1\n"
     ]
    },
    {
     "data": {
      "image/png": "[encoded data removed]",
      "text/plain": [
       "<Figure size 432x288 with 1 Axes>"
      ]
     },
     "metadata": {
      "needs_background": "light"
     },
     "output_type": "display_data"
    },
    {
     "name": "stdout",
     "output_type": "stream",
     "text": [
      "epoch: 1  train_loss:  0.1840391788774958  val_loss:  0.253755219604658  val_accuracy:  0.9205748350975814\n"
     ]
    },
    {
     "data": {
      "image/png": "[encoded data removed]",
      "text/plain": [
       "<Figure size 432x288 with 1 Axes>"
      ]
     },
     "metadata": {
      "needs_background": "light"
     },
     "output_type": "display_data"
    },
    {
     "name": "stdout",
     "output_type": "stream",
     "text": [
      "epoch: 2  train_loss:  0.17193622715198076  val_loss:  0.4968288787033247  val_accuracy:  0.8382482943083165\n"
     ]
    },
    {
     "data": {
      "image/png": "[encoded data removed]",
      "text/plain": [
       "<Figure size 432x288 with 1 Axes>"
      ]
     },
     "metadata": {
      "needs_background": "light"
     },
     "output_type": "display_data"
    },
    {
     "ename": "KeyboardInterrupt",
     "evalue": "",
     "output_type": "error",
     "traceback": [
      "\u001b[0;31m---------------------------------------------------------------------------\u001b[0m",
      "\u001b[0;31mKeyboardInterrupt\u001b[0m                         Traceback (most recent call last)",
      "Input \u001b[0;32mIn [18]\u001b[0m, in \u001b[0;36m<cell line: 16>\u001b[0;34m()\u001b[0m\n\u001b[1;32m     14\u001b[0m val_loss_list \u001b[38;5;241m=\u001b[39m []\n\u001b[1;32m     15\u001b[0m accuracy_list \u001b[38;5;241m=\u001b[39m []\n\u001b[0;32m---> 16\u001b[0m \u001b[43mtraining_loop\u001b[49m\u001b[43m(\u001b[49m\u001b[43moptimizer\u001b[49m\u001b[43m,\u001b[49m\u001b[43m \u001b[49m\u001b[43mmodel\u001b[49m\u001b[43m,\u001b[49m\u001b[43m \u001b[49m\u001b[43mloss_fn\u001b[49m\u001b[43m,\u001b[49m\u001b[43m \u001b[49m\u001b[43mtrain_loader\u001b[49m\u001b[43m,\u001b[49m\u001b[43m \u001b[49m\u001b[43mtest_loader\u001b[49m\u001b[43m,\u001b[49m\u001b[43m \u001b[49m\u001b[43mEPOCHES\u001b[49m\u001b[43m,\u001b[49m\u001b[43m \u001b[49m\u001b[43mtrain_loss_list\u001b[49m\u001b[43m,\u001b[49m\u001b[43m \u001b[49m\u001b[43mval_loss_list\u001b[49m\u001b[43m,\u001b[49m\u001b[43m \u001b[49m\u001b[43maccuracy_list\u001b[49m\u001b[43m)\u001b[49m\n",
      "Input \u001b[0;32mIn [16]\u001b[0m, in \u001b[0;36mtraining_loop\u001b[0;34m(optimizer, model, loss_fn, train_loader, test_loader, epochs, train_loss_list, val_loss_list, accuracy_list)\u001b[0m\n\u001b[1;32m     30\u001b[0m     loss\u001b[38;5;241m.\u001b[39mbackward()\n\u001b[1;32m     31\u001b[0m     optimizer\u001b[38;5;241m.\u001b[39mstep()\n\u001b[0;32m---> 32\u001b[0m     loss_train \u001b[38;5;241m+\u001b[39m\u001b[38;5;241m=\u001b[39m \u001b[43mloss\u001b[49m\u001b[38;5;241;43m.\u001b[39;49m\u001b[43mitem\u001b[49m\u001b[43m(\u001b[49m\u001b[43m)\u001b[49m\n\u001b[1;32m     33\u001b[0m loss_train \u001b[38;5;241m=\u001b[39m loss_train\u001b[38;5;241m/\u001b[39m\u001b[38;5;28mlen\u001b[39m(train_loader)\n\u001b[1;32m     34\u001b[0m loss_validation, accuracy \u001b[38;5;241m=\u001b[39m evaluate_model(model, test_loader, loss_fn)\n",
      "\u001b[0;31mKeyboardInterrupt\u001b[0m: "
     ]
    }
   ],
   "source": [
    "model = posiresNN()\n",
    "print(model)\n",
    "filename_parameters = model.modelname+'.pt'\n",
    "dummy_tensor = torch.rand((1,3,28,28), requires_grad = False).to(device = device)\n",
    "model(dummy_tensor)\n",
    "if exists(filename_parameters):\n",
    "    print(filename_parameters, \"exists.\")\n",
    "\n",
    "    model.load_state_dict(torch.load(\"./\" + filename_parameters))\n",
    "else:\n",
    "    print(filename_parameters, \"does not exists.\")\n",
    "optimizer = torch.optim.AdamW(model.parameters(), lr=LR, weight_decay = 0.004)\n",
    "train_loss_list =[]\n",
    "val_loss_list = []\n",
    "accuracy_list = []\n",
    "training_loop(optimizer, model, loss_fn, train_loader, test_loader, EPOCHES, train_loss_list, val_loss_list, accuracy_list)"
   ]
  },
  {
   "cell_type": "code",
   "execution_count": null,
   "id": "6834c012",
   "metadata": {},
   "outputs": [],
   "source": [
    "\n",
    "print(evaluate_model(model, test_loader, loss_fn))"
   ]
  },
  {
   "cell_type": "code",
   "execution_count": null,
   "id": "209e5a97",
   "metadata": {},
   "outputs": [],
   "source": [
    "sample = None\n",
    "for items in train_loader:\n",
    "    sample = items\n",
    "    break"
   ]
  },
  {
   "cell_type": "code",
   "execution_count": null,
   "id": "46adfd4d",
   "metadata": {},
   "outputs": [],
   "source": [
    "sample[0][4].shape"
   ]
  },
  {
   "cell_type": "code",
   "execution_count": null,
   "id": "118181ac",
   "metadata": {
    "scrolled": true
   },
   "outputs": [],
   "source": [
    "model"
   ]
  },
  {
   "cell_type": "code",
   "execution_count": null,
   "id": "6c47394f",
   "metadata": {},
   "outputs": [],
   "source": []
  },
  {
   "cell_type": "code",
   "execution_count": null,
   "id": "13bc34c3",
   "metadata": {
    "scrolled": false
   },
   "outputs": [],
   "source": [
    "num =1430\n",
    "sample_image = ut(sample[0][num].unsqueeze(0)).squeeze(0)\n",
    "plt.imshow(sample_image.permute(1,2,0))"
   ]
  },
  {
   "cell_type": "code",
   "execution_count": null,
   "id": "58bcc29f",
   "metadata": {},
   "outputs": [],
   "source": [
    "layer = 6\n",
    "model.residual[layer].clearbackup()\n",
    "print(model(sample_image.unsqueeze(0)))\n",
    "insight = model.residual[layer].outlist"
   ]
  },
  {
   "cell_type": "code",
   "execution_count": null,
   "id": "5093b2c3",
   "metadata": {
    "scrolled": true
   },
   "outputs": [],
   "source": [
    "insight[0].permute(0,2,3,1).shape"
   ]
  },
  {
   "cell_type": "code",
   "execution_count": null,
   "id": "e6984d68",
   "metadata": {},
   "outputs": [],
   "source": [
    "def detach(tensor):\n",
    "    return tensor.to(device='cpu').detach().numpy()"
   ]
  },
  {
   "cell_type": "code",
   "execution_count": null,
   "id": "8a424eda",
   "metadata": {},
   "outputs": [],
   "source": [
    "for image in insight[2][0]:\n",
    "    plt.imshow(detach(image),cmap='gray')\n",
    "    plt.show()\n",
    "    "
   ]
  },
  {
   "cell_type": "code",
   "execution_count": null,
   "id": "cf35fc9a",
   "metadata": {
    "scrolled": true
   },
   "outputs": [],
   "source": [
    "plt.imshow(p1[0][2].to(device='cpu').detach().numpy(), cmap='gray')"
   ]
  },
  {
   "cell_type": "code",
   "execution_count": null,
   "id": "3a60ff5f",
   "metadata": {},
   "outputs": [],
   "source": []
  }
 ],
 "metadata": {
  "kernelspec": {
   "display_name": "Python 3",
   "language": "python",
   "name": "python3"
  },
  "language_info": {
   "codemirror_mode": {
    "name": "ipython",
    "version": 3
   },
   "file_extension": ".py",
   "mimetype": "text/x-python",
   "name": "python",
   "nbconvert_exporter": "python",
   "pygments_lexer": "ipython3",
   "version": "3.7.0"
  }
 },
 "nbformat": 4,
 "nbformat_minor": 5
}
