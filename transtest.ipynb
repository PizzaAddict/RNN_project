{
 "cells": [
  {
   "cell_type": "code",
   "execution_count": 1,
   "metadata": {},
   "outputs": [],
   "source": [
    "import torch\n",
    "import torch.nn as nn\n",
    "device = torch.device('cuda' if torch.cuda.is_available() else 'cpu')"
   ]
  },
  {
   "cell_type": "code",
   "execution_count": 2,
   "metadata": {},
   "outputs": [
    {
     "data": {
      "text/plain": [
       "'1.8.0'"
      ]
     },
     "execution_count": 2,
     "metadata": {},
     "output_type": "execute_result"
    }
   ],
   "source": [
    "torch.__version__"
   ]
  },
  {
   "cell_type": "code",
   "execution_count": 3,
   "metadata": {},
   "outputs": [
    {
     "name": "stdout",
     "output_type": "stream",
     "text": [
      "[411, 2, 41, 364, 357, 45, 2, 55, 46, 2, 993, 761, 59, 2, 264, 2, 411, 2, 925, 41, 2, 56, 267, 307, 2, 63, 302, 2, 1053, 26, 17, 25, 22, 2, 441, 15, 2, 267, 44, 2, 280, 2, 1167, 22, 17, 21, 25, 2, 441, 2, 411, 2, 559, 60, 59, 2, 55, 46, 2, 411, 2, 344, 833, 1065, 2, 590, 440, 65, 2, 346, 718, 576, 44, 2, 727, 15, 2, 262, 280, 2, 49, 41, 15, 2, 411, 2, 28, 24, 17, 19, 19, 8, 2, 58, 281, 55, 2, 55, 46, 2, 993, 54, 60, 59, 2, 264, 2, 411, 2, 925, 41, 2, 56, 267, 307, 2, 63, 302, 2, 727, 269, 2, 262, 267, 2, 411, 2, 28, 19, 17, 27, 27, 8, 2, 55, 46, 2, 411, 2, 993, 761, 59, 2, 264, 2, 411, 2, 344, 833, 1065, 2, 590, 440, 65, 17, 2]\n",
      "the</w>average</w>of</w>participants</w>in</w>the</w>media</w>panel</w>was</w>127.63</w>min,</w>and</w>at</w>153.26</w>min</w>the</w>results</w>of</w>the</w>lifetime</w>survey</w>appeared</w>high,</w>that</w>ia,</w>the</w>95.00%</w>ratio</w>of</w>participnts</w>in</w>the</w>media</w>panel</w>was</w>higher</w>than</w>the</w>90.88%</w>of</w>the</w>participants</w>in</w>the</w>lifetime</w>survey.</w>\n",
      "[411, 2, 532, 364, 2, 27, 465, 2, 322, 348, 286, 60, 59, 2, 137, 53, 138, 2, 277, 443, 59, 15, 2, 313, 400, 2, 411, 2, 277, 443, 56, 400, 16, 287, 528, 330, 2, 576, 41, 17, 2]\n",
      "the</w>server</w>810</w>extracts</w>‘m’</w>stops,</w>using</w>the</w>stopping-allowed</w>area.</w>\n",
      "[411, 2, 277, 443, 56, 400, 2, 785, 45, 2, 472, 347, 2, 294, 65, 2, 431, 2, 472, 347, 2, 262, 280, 2, 264, 827, 280, 293, 2, 41, 2, 445, 16, 264, 56, 447, 2, 688, 369, 330, 2, 277, 443, 56, 400, 2, 1065, 2, 55, 46, 2, 411, 2, 1038, 341, 2, 465, 19, 17, 2]\n",
      "the</w>stopping</w>type</w>information</w>may</w>be</w>information</w>that</w>indicates</w>a</w>pre-input</w>expected</w>stopping</w>time</w>of</w>the</w>vehicle</w>100.</w>\n",
      "[424, 44, 400, 2, 435, 2, 463, 337, 2, 962, 300, 347, 59, 15, 2, 411, 2, 540, 44, 2, 48, 346, 417, 2, 672, 56, 447, 2, 420, 2, 604, 60, 2, 421, 53, 2, 267, 44, 2, 48, 302, 2, 267, 2, 419, 520, 290, 65, 2, 1099, 280, 269, 2, 262, 267, 2, 411, 2, 418, 277, 2, 48, 346, 417, 2, 672, 56, 447, 17, 2]\n",
      "according</w>to</w>some</w>configurations,</w>the</w>second</w>haptic</w>output</w>is</w>different</w>from</w>and</w>has</w>an</w>intensity</w>greater</w>than</w>the</w>first</w>haptic</w>output.</w>\n",
      "[338, 328, 45, 2, 411, 2, 313, 269, 2, 323, 285, 51, 59, 2, 411, 2, 59, 270, 298, 572, 290, 65, 2, 1207, 290, 767, 268, 15, 2, 411, 2, 59, 270, 298, 572, 290, 65, 2, 374, 50, 61, 277, 521, 2, 552, 1211, 2, 23, 474, 2, 294, 65, 2, 431, 2, 343, 62, 330, 17, 2]\n",
      "while</w>the</w>user</w>checks</w>the</w>sensitivity</w>criterion,</w>the</w>sensitivity</w>adjustment</w>object</w>420</w>may</w>be</w>moved.</w>\n",
      "[42, 65, 2, 1189, 869, 15, 2, 495, 2, 509, 607, 65, 2, 294, 301, 2, 381, 286, 60, 2, 886, 2, 411, 2, 1099, 280, 269, 2, 454, 52, 44, 2, 55, 46, 2, 683, 42, 269, 2, 411, 274, 65, 17, 2]\n",
      "by</w>1913,</w>he</w>finally</w>made</w>contact</w>with</w>the</w>greater</w>world</w>of</w>number</w>theory.</w>\n",
      "[43, 54, 54, 2, 420, 2, 374, 44, 400, 2, 470, 54, 411, 417, 2, 980, 2, 435, 2, 1144, 400, 2, 442, 300, 287, 2, 1249, 980, 2, 537, 298, 59, 17, 2]\n",
      "cnn</w>is</w>adding</w>synthetic</w>work</w>to</w>existing</w>neural</w>network</w>analysis.</w>\n",
      "[264, 473, 374, 2, 55, 46, 2, 411, 2, 1162, 266, 44, 2, 21, 21, 15, 22, 19, 19, 2, 51, 49, 325, 543, 358, 59, 2, 55, 46, 2, 1170, 307, 15, 2, 411, 2, 41, 567, 310, 267, 45, 2, 435, 55, 51, 2, 55, 360, 2, 886, 2, 52, 601, 2, 262, 267, 2, 48, 287, 46, 2, 262, 280, 2, 1121, 60, 17, 2]\n",
      "instead</w>of</w>the</w>required</w>22,300</w>kilograms</w>of</w>fuel,</w>the</w>airplane</w>took</w>off</w>with</w>less</w>than</w>half</w>that</w>amount.</w>\n",
      "[425, 675, 2, 23, 2, 600, 59, 2, 411, 2, 559, 60, 59, 2, 616, 335, 2, 22, 2, 353, 300, 59, 2, 55, 46, 2, 683, 269, 289, 287, 2, 744, 52, 400, 2, 537, 298, 59, 17, 2]\n",
      "figure</w>4</w>shows</w>the</w>results</w>after</w>3</w>hours</w>of</w>numerical</w>modeling</w>analysis.</w>\n",
      "[262, 420, 2, 420, 2, 477, 45, 2, 435, 2, 411, 2, 817, 2, 262, 280, 2, 290, 2, 43, 267, 355, 60, 2, 431, 2, 322, 997, 330, 2, 302, 2, 41, 2, 1200, 286, 350, 2, 267, 44, 2, 287, 463, 2, 43, 267, 355, 60, 2, 431, 2, 322, 997, 330, 2, 264, 301, 509, 290, 307, 65, 2, 313, 400, 2, 686, 389, 287, 59, 17, 2]\n",
      "this</w>is</w>due</w>to</w>the</w>fact</w>that</w>it</w>cannot</w>be</w>expressed</w>as</w>a</w>fraction</w>and</w>also</w>cannot</w>be</w>expressed</w>indefinitely</w>using</w>decimals.</w>\n",
      "[425, 17, 2, 21, 26, 2, 898, 280, 293, 2, 411, 2, 531, 347, 2, 311, 43, 330, 675, 2, 55, 46, 2, 41, 2, 409, 45, 56, 350, 2, 1028, 313, 2, 424, 44, 400, 2, 435, 2, 267, 55, 1057, 2, 906, 2, 55, 46, 2, 411, 2, 919, 2, 605, 350, 17, 2]\n",
      "fig.</w>27</w>illustrates</w>the</w>operation</w>procedure</w>of</w>a</w>reception</w>apparatus</w>according</w>to</w>another</w>embodiment</w>of</w>the</w>present</w>invention.</w>\n",
      "[264, 2, 411, 2, 475, 52, 65, 2, 44, 504, 59, 2, 55, 46, 2, 411, 2, 474, 19, 27, 2, 1013, 519, 55, 300, 2, 386, 65, 295, 60, 60, 15, 2, 411, 2, 1250, 293, 45, 2, 990, 521, 2, 43, 607, 330, 2, 290, 2, 1006, 268, 334, 341, 2, 267, 44, 2, 341, 47, 287, 2, 42, 447, 2, 431, 890, 2, 43, 607, 400, 2, 339, 2, 5, 1006, 268, 334, 341, 2, 927, 333, 55, 265, 1027, 5, 2, 302, 2, 411, 2, 59, 268, 16, 264, 16, 1011, 63, 2, 398, 266, 374, 2, 58, 346, 556, 52, 65, 2, 286, 278, 59, 59, 2, 411, 2, 681, 348, 65, 17, 2]\n",
      "in</w>the</w>early</w>days</w>of</w>the</w>2008</w>carrefour</w>boycott,</w>the</w>chinese</w>government</w>called</w>it</w>reasonable</w>and</w>legal</w>but</w>began</w>calling</w>for</w>\"reasonable</w>patriotism\"</w>as</w>the</w>son-in-law</w>spread</w>rapidly</w>across</w>the</w>country.</w>\n",
      "[343, 277, 2, 55, 46, 2, 411, 2, 749, 323, 2, 420, 2, 592, 43, 313, 330, 2, 268, 2, 1014, 274, 400, 2, 411, 2, 602, 485, 266, 2, 55, 46, 2, 1208, 521, 2, 772, 45, 17, 2]\n",
      "most</w>of</w>the</w>research</w>is</w>focused</w>on</w>exploring</w>the</w>structure</w>of</w>employment</w>change.</w>\n",
      "[304, 1222, 277, 2, 956, 335, 59, 2, 343, 292, 315, 330, 2, 886, 2, 56, 62, 51, 15, 2, 606, 15, 2, 267, 44, 2, 309, 343, 292, 315, 330, 2, 956, 335, 59, 2, 287, 463, 2, 956, 335, 2, 411, 2, 42, 286, 335, 49, 287, 2, 773, 61, 350, 17, 2]\n",
      "contrast</w>filters</w>modified</w>with</w>pvk,</w>go,</w>and</w>unmodified</w>filters</w>also</w>filter</w>the</w>bacterial</w>solution.</w>\n",
      "[438, 2, 43, 267, 2, 294, 1059, 2, 592, 300, 16, 760, 59, 2, 327, 277, 357, 45, 2, 42, 65, 2, 313, 400, 2, 747, 55, 2, 21, 16, 760, 2, 277, 358, 56, 59, 17, 2]\n",
      "we</w>can</w>make</w>four-cents</w>postage</w>by</w>using</w>two</w>2-cent</w>stamps.</w>\n",
      "[411, 2, 558, 327, 412, 2, 55, 46, 2, 411, 2, 792, 2, 55, 46, 2, 747, 55, 2, 650, 58, 289, 293, 2, 845, 287, 59, 2, 411, 2, 792, 2, 55, 46, 2, 411, 567, 2, 558, 471, 293, 17, 2]\n",
      "the</w>transpose</w>of</w>the</w>sum</w>of</w>two</w>matrices</w>equals</w>the</w>sum</w>of</w>their</w>transposes.</w>\n",
      "[495, 266, 264, 616, 335, 15, 2, 411, 2, 702, 542, 2, 381, 316, 59, 2, 55, 46, 2, 411, 2, 919, 2, 605, 350, 2, 632, 52, 2, 431, 2, 957, 330, 2, 264, 2, 301, 464, 328, 2, 886, 2, 519, 489, 623, 2, 435, 2, 752, 293, 2, 267, 44, 2, 493, 61, 429, 698, 400, 2, 752, 293, 17, 2]\n",
      "hereinafter,</w>the</w>specific</w>contents</w>of</w>the</w>present</w>invention</w>will</w>be</w>described</w>in</w>detail</w>with</w>reference</w>to</w>examples</w>and</w>manufacturing</w>examples.</w>\n",
      "[264, 2, 907, 350, 15, 2, 355, 2, 987, 761, 2, 370, 1063, 2, 295, 314, 44, 2, 431, 2, 552, 641, 330, 2, 264, 2, 411, 2, 334, 59, 574, 45, 2, 55, 46, 2, 61, 265, 52, 290, 450, 267, 2, 431, 394, 336, 274, 17, 2]\n",
      "in</w>addition,</w>no</w>significant</w>correlation</w>could</w>be</w>observed</w>in</w>the</w>absence</w>of</w>utilitarian</w>behavior.</w>\n",
      "[670, 41, 313, 45, 2, 607, 2, 55, 46, 2, 411, 2, 993, 761, 59, 2, 264, 2, 262, 420, 2, 430, 65, 2, 438, 266, 2, 445, 344, 441, 276, 65, 2, 564, 287, 2, 645, 269, 59, 15, 2, 411, 65, 2, 438, 266, 2, 266, 441, 301, 44, 2, 55, 46, 2, 411, 567, 2, 718, 269, 16, 435, 16, 718, 269, 2, 348, 639, 400, 2, 953, 270, 436, 2, 267, 44, 2, 948, 313, 59, 330, 2, 411, 2, 278, 341, 2, 55, 46, 2, 411, 2, 353, 53, 269, 55, 399, 2, 645, 269, 2, 264, 2, 1173, 276, 17, 2]\n",
      "because</w>all</w>of</w>the</w>participants</w>in</w>this</w>study</w>were</w>preliminary</w>general</w>teachers,</w>they</w>were</w>reminded</w>of</w>their</w>peer-to-peer</w>training</w>experiences</w>and</w>discussed</w>the</w>role</w>of</w>the</w>homeroom</w>teacher</w>in</w>particular.</w>\n",
      "[411, 2, 1094, 16, 744, 53, 2, 549, 287, 2, 465, 19, 2, 294, 65, 2, 640, 689, 2, 313, 269, 2, 811, 350, 59, 2, 55, 1057, 2, 262, 267, 2, 411, 2, 43, 607, 2, 811, 350, 17, 2]\n",
      "the</w>non-modem</w>terminal</w>100</w>may</w>support</w>user</w>functions</w>other</w>than</w>the</w>call</w>function.</w>\n",
      "[411, 2, 565, 44, 2, 55, 46, 2, 293, 486, 280, 400, 2, 411, 2, 370, 1063, 2, 295, 1137, 316, 2, 264, 2, 411, 2, 46, 679, 574, 65, 2, 578, 294, 264, 2, 420, 2, 42, 333, 45, 1164, 65, 2, 957, 330, 2, 264, 2, 346, 757, 292, 64, 2, 21, 17, 2]\n",
      "the</w>method</w>of</w>estimating</w>the</w>correlation</w>coefficient</w>in</w>the</w>frequency</w>domain</w>is</w>briefly</w>described</w>in</w>appendix</w>2.</w>\n",
      "[411, 2, 580, 269, 2, 294, 51, 293, 2, 580, 400, 2, 48, 346, 757, 2, 488, 407, 2, 1201, 16, 668, 60, 330, 2, 983, 440, 2, 993, 347, 17, 2]\n",
      "the</w>learner</w>makes</w>learning</w>happen</w>through</w>self-directed</w>active</w>participation.</w>\n",
      "[290, 2, 420, 2, 262, 345, 407, 60, 2, 262, 280, 2, 411, 2, 903, 330, 2, 782, 266, 277, 2, 264, 2, 60, 983, 52, 270, 601, 2, 63, 302, 2, 343, 266, 2, 262, 267, 2, 411, 2, 264, 48, 489, 60, 2, 280, 60, 622, 447, 293, 2, 55, 46, 2, 411, 2, 60, 983, 341, 15, 2, 267, 44, 2, 411, 2, 707, 521, 2, 55, 46, 2, 925, 41, 2, 42, 65, 2, 292, 47, 290, 287, 2, 881, 65, 2, 267, 44, 2, 411, 2, 559, 60, 400, 2, 772, 45, 2, 264, 2, 411, 2, 344, 62, 400, 2, 1097, 521, 2, 438, 266, 2, 686, 49, 298, 440, 17, 2]\n",
      "it</w>is</w>thought</w>that</w>the</w>increased</w>interest</w>in</w>tactileness</w>was</w>more</w>than</w>the</w>inherent</w>attributes</w>of</w>the</w>tactile,</w>and</w>the</w>development</w>of</w>media</w>by</w>digital</w>technology</w>and</w>the</w>resulting</w>change</w>in</w>the</w>living</w>environment</w>were</w>decisive.</w>\n",
      "[719, 290, 65, 2, 519, 269, 59, 2, 435, 2, 719, 289, 347, 2, 267, 44, 2, 511, 286, 350, 2, 591, 270, 2, 580, 269, 59, 2, 274, 2, 591, 270, 2, 264, 602, 60, 274, 59, 2, 267, 44, 2, 580, 269, 59, 2, 267, 44, 2, 462, 293, 2, 411, 2, 580, 269, 2, 929, 709, 2, 1100, 2, 671, 334, 344, 562, 521, 15, 2, 59, 320, 48, 2, 302, 2, 617, 264, 2, 267, 44, 2, 580, 400, 2, 741, 2, 323, 285, 51, 15, 2, 41, 2, 57, 9, 41, 2, 42, 314, 341, 60, 264, 2, 386, 276, 44, 2, 886, 2, 41, 2, 373, 293, 350, 2, 267, 44, 2, 267, 59, 63, 269, 2, 811, 350, 15, 2, 267, 44, 2, 267, 355, 309, 43, 709, 59, 17, 2]\n",
      "community</w>refers</w>to</w>communication</w>and</w>interaction</w>between</w>learners</w>or</w>between</w>instructors</w>and</w>learners</w>and</w>includes</w>the</w>learner</w>management</w>system</w>establishment,</w>such</w>as</w>login</w>and</w>learning</w>process</w>check,</w>a</w>q&a</w>bulletin</w>board</w>with</w>a</w>question</w>and</w>answer</w>function,</w>and</w>announcements.</w>\n",
      "[262, 420, 2, 286, 41, 1141, 289, 2, 942, 601, 521, 2, 1100, 2, 457, 314, 44, 2, 431, 2, 558, 366, 330, 2, 419, 55, 2, 41, 2, 295, 1077, 400, 2, 1100, 2, 262, 280, 2, 270, 295, 300, 357, 293, 2, 1221, 334, 274, 347, 2, 267, 44, 2, 443, 486, 468, 293, 2, 1155, 287, 2, 327, 60, 657, 287, 17, 2]\n",
      "this</w>academic</w>assessment</w>system</w>should</w>be</w>transformed</w>into</w>a</w>coaching</w>system</w>that</w>encourages</w>collaboration</w>and</w>optimizes</w>individual</w>potential.</w>\n",
      "[425, 17, 2, 1132, 2, 420, 2, 41, 2, 972, 58, 358, 2, 898, 280, 400, 2, 267, 2, 906, 2, 55, 46, 2, 411, 2, 744, 2, 847, 277, 269, 2, 59, 368, 2, 1132, 22, 19, 2, 600, 54, 2, 264, 2, 425, 17, 2, 869, 17, 2]\n",
      "fig.</w>14</w>is</w>a</w>diagram</w>illustrating</w>an</w>embodiment</w>of</w>the</w>mode</w>register</w>set</w>1430</w>shown</w>in</w>fig.</w>13.</w>\n",
      "[358, 1007, 2, 753, 45, 15, 2, 43, 65, 43, 325, 311, 56, 65, 52, 15, 2, 43, 65, 43, 325, 56, 316, 65, 52, 15, 2, 43, 65, 43, 325, 48, 322, 65, 52, 2, 267, 44, 2, 43, 65, 43, 325, 755, 60, 65, 52, 2, 576, 2, 445, 46, 269, 266, 44, 17, 2]\n",
      "among</w>these,</w>cyclopropyl,</w>cyclopentyl,</w>cyclohexyl</w>and</w>cyclooctyl</w>are</w>preferred.</w>\n",
      "[302, 2, 1180, 350, 330, 2, 475, 344, 269, 15, 2, 411, 2, 466, 550, 2, 63, 357, 45, 2, 47, 346, 2, 787, 626, 2, 1144, 59, 2, 45, 480, 2, 264, 2, 44, 270, 804, 15, 2, 338, 289, 48, 2, 48, 302, 2, 411, 2, 454, 52, 44, 10, 59, 2, 431, 277, 2, 1100, 17, 2]\n",
      "as</w>mentioned</w>earlier,</w>the</w>gender</w>wage</w>gap</w>still</w>exists</w>even</w>in</w>denmark,</w>which</w>has</w>the</w>world's</w>best</w>system.</w>\n",
      "[411, 2, 473, 307, 2, 1174, 65, 2, 48, 302, 2, 431, 270, 2, 600, 400, 2, 513, 59, 2, 55, 46, 2, 968, 364, 65, 2, 264, 2, 676, 350, 2, 1080, 262, 2, 1047, 623, 2, 411, 2, 262, 567, 44, 2, 373, 276, 335, 2, 55, 46, 2, 995, 27, 17, 2]\n",
      "the</w>steel</w>industry</w>has</w>been</w>showing</w>signs</w>of</w>recovery</w>in</w>production</w>growth</w>since</w>the</w>third</w>quarter</w>of</w>2018.</w>\n",
      "[831, 328, 276, 52, 65, 15, 2, 411, 2, 733, 62, 400, 2, 270, 44, 2, 20, 465, 2, 294, 65, 2, 1133, 1057, 2, 452, 61, 301, 2, 280, 2, 341, 41, 277, 2, 268, 45, 2, 1017, 45, 2, 339, 2, 1127, 60, 400, 2, 411, 2, 733, 62, 330, 2, 513, 287, 2, 419, 55, 2, 41, 2, 292, 47, 290, 287, 2, 42, 302, 45, 42, 267, 44, 2, 513, 287, 17, 2]\n",
      "similarly,</w>the</w>receiving</w>end</w>110</w>may</w>further</w>include</w>at</w>least</w>one</w>module</w>for</w>converting</w>the</w>received</w>signal</w>into</w>a</w>digital</w>baseband</w>signal.</w>\n",
      "[45, 480, 2, 49, 46, 2, 411, 65, 2, 322, 772, 45, 2, 266, 804, 59, 2, 262, 280, 2, 412, 308, 2, 435, 2, 277, 276, 60, 2, 442, 606, 265, 347, 59, 2, 280, 2, 267, 65, 2, 343, 521, 15, 2, 411, 65, 2, 698, 54, 2, 419, 55, 2, 267, 2, 55, 360, 270, 298, 440, 2, 302, 2, 49, 46, 2, 411, 65, 2, 45, 364, 2, 292, 44, 17, 2]\n",
      "even</w>if</w>they</w>exchange</w>remarks</w>that</w>seem</w>to</w>start</w>negotiations</w>at</w>any</w>moment,</w>they</w>turn</w>into</w>an</w>offensive</w>as</w>if</w>they</w>ever</w>did.</w>\n",
      "[749, 323, 2, 48, 302, 2, 287, 463, 2, 431, 270, 2, 891, 60, 330, 2, 268, 2, 475, 52, 65, 2, 323, 328, 44, 353, 55, 44, 2, 481, 347, 2, 267, 44, 2, 411, 2, 528, 269, 2, 543, 374, 293, 2, 55, 46, 2, 307, 709, 276, 65, 2, 1192, 17, 2]\n",
      "research</w>has</w>also</w>been</w>conducted</w>on</w>early</w>childhood</w>education</w>and</w>the</w>lower</w>grades</w>of</w>elementary</w>school.</w>\n",
      "[411, 519, 478, 15, 2, 411, 2, 540, 44, 276, 65, 2, 516, 369, 2, 688, 369, 330, 2, 42, 65, 2, 411, 2, 990, 521, 15, 2, 262, 280, 2, 420, 15, 2, 411, 2, 389, 56, 286, 60, 2, 268, 2, 721, 62, 280, 45, 2, 1158, 56, 350, 2, 267, 44, 2, 1048, 521, 2, 43, 267, 2, 431, 2, 688, 369, 330, 2, 435, 2, 431, 2, 965, 290, 330, 17, 2]\n",
      "therefore,</w>the</w>secondary</w>effect</w>expected</w>by</w>the</w>government,</w>that</w>is,</w>the</w>impact</w>on</w>private</w>consumption</w>and</w>investment</w>can</w>be</w>expected</w>to</w>be</w>limited.</w>\n",
      "[264, 2, 411, 2, 42, 447, 60, 268, 2, 1189, 23, 15, 2, 500, 1261, 2, 785, 293, 2, 55, 46, 2, 42, 447, 60, 268, 59, 2, 59, 320, 48, 2, 302, 2, 41, 2, 353, 337, 2, 42, 447, 60, 268, 15, 2, 41, 2, 720, 61, 337, 2, 517, 52, 2, 42, 447, 60, 268, 15, 2, 267, 44, 2, 41, 2, 779, 269, 2, 42, 447, 60, 268, 2, 294, 65, 2, 431, 2, 452, 61, 301, 44, 17, 2]\n",
      "in</w>the</w>button</w>194,</w>various</w>types</w>of</w>buttons</w>such</w>as</w>a</w>home</w>button,</w>a</w>volume</w>control</w>button,</w>and</w>a</w>power</w>button</w>may</w>be</w>included.</w>\n",
      "[309, 344, 1059, 2, 55, 1057, 2, 365, 265, 293, 15, 2, 412, 55, 314, 2, 48, 302, 2, 41, 2, 59, 270, 412, 2, 55, 46, 2, 43, 333, 298, 59, 2, 264, 2, 411, 2, 1054, 307, 1007, 2, 481, 347, 2, 264, 2, 1192, 2, 311, 1211, 2, 302, 2, 411, 2, 412, 55, 314, 16, 785, 45, 2, 264, 355, 62, 347, 2, 481, 347, 2, 292, 383, 289, 60, 2, 311, 1211, 2, 431, 890, 17, 2]\n",
      "unlike</w>other</w>cities,</w>seoul</w>has</w>a</w>sense</w>of</w>crisis</w>in</w>the</w>lifelong</w>education</w>in</w>school</w>project</w>as</w>the</w>seoul-type</w>innovation</w>education</w>district</w>project</w>began.</w>\n",
      "[509, 607, 65, 15, 2, 411, 2, 697, 267, 623, 2, 55, 46, 2, 411, 2, 266, 44, 309, 44, 761, 2, 47, 280, 45, 63, 504, 2, 1100, 2, 63, 302, 2, 911, 280, 330, 2, 42, 65, 2, 754, 300, 400, 2, 411, 2, 1106, 328, 675, 2, 931, 329, 400, 2, 1065, 2, 264, 2, 637, 2, 1106, 328, 675, 2, 943, 61, 347, 17, 2]\n",
      "finally,</w>the</w>performance</w>of</w>the</w>redundant</w>gateway</w>system</w>was</w>evaluated</w>by</w>measuring</w>the</w>failure</w>overcoming</w>time</w>in</w>each</w>failure</w>situation.</w>\n",
      "[302, 2, 41, 2, 559, 60, 2, 55, 46, 2, 411, 2, 537, 298, 59, 15, 2, 418, 277, 15, 2, 41, 2, 775, 46, 60, 2, 264, 2, 411, 2, 332, 786, 350, 2, 55, 46, 2, 929, 269, 59, 2, 267, 44, 2, 645, 269, 59, 2, 420, 2, 1162, 266, 44, 17, 2]\n",
      "as</w>a</w>result</w>of</w>the</w>analysis,</w>first,</w>a</w>shift</w>in</w>the</w>perception</w>of</w>managers</w>and</w>teachers</w>is</w>required.</w>\n",
      "[344, 1059, 2, 344, 833, 2, 264, 590, 267, 623, 2, 732, 49, 293, 15, 2, 411, 2, 264, 590, 267, 623, 2, 266, 480, 61, 45, 2, 55, 46, 2, 1094, 16, 344, 833, 2, 264, 590, 267, 623, 2, 732, 49, 293, 2, 48, 302, 2, 431, 270, 2, 268, 2, 411, 2, 333, 412, 15, 2, 267, 44, 2, 267, 2, 973, 63, 276, 44, 2, 60, 382, 44, 2, 264, 2, 264, 590, 267, 623, 2, 56, 504, 521, 2, 341, 955, 59, 2, 42, 65, 2, 1094, 16, 344, 833, 2, 264, 590, 267, 623, 2, 732, 49, 293, 2, 420, 2, 600, 54, 17, 2]\n",
      "like</w>life</w>insurance</w>companies,</w>the</w>insurance</w>revenue</w>of</w>non-life</w>insurance</w>companies</w>has</w>been</w>on</w>the</w>rise,</w>and</w>an</w>upward</w>trend</w>in</w>insurance</w>payment</w>levels</w>by</w>non-life</w>insurance</w>companies</w>is</w>shown.</w>\n",
      "[315, 42, 268, 286, 365, 2, 63, 302, 2, 286, 373, 41, 419, 330, 2, 886, 2, 411, 2, 442, 63, 52, 65, 2, 264, 62, 316, 330, 2, 48, 788, 2, 276, 334, 289, 2, 683, 269, 347, 2, 1100, 15, 2, 886, 2, 411, 2, 683, 269, 287, 59, 2, 19, 2, 488, 407, 2, 28, 2, 302, 2, 290, 59, 2, 760, 269, 1072, 285, 45, 17, 2]\n",
      "fibonacci</w>was</w>acquainted</w>with</w>the</w>newly</w>invented</w>hindu</w>arabic</w>numeration</w>system,</w>with</w>the</w>numerals</w>0</w>through</w>9</w>as</w>its</w>centerpiece.</w>\n",
      "[262, 420, 2, 1036, 313, 293, 2, 41, 2, 833, 307, 400, 2, 55, 46, 2, 266, 50, 285, 350, 2, 435, 2, 411, 2, 63, 504, 2, 55, 46, 2, 262, 264, 51, 400, 2, 262, 280, 2, 420, 2, 356, 661, 274, 2, 435, 2, 411, 2, 308, 55, 350, 59, 15, 2, 559, 60, 400, 2, 264, 2, 1006, 268, 16, 760, 45, 266, 44, 2, 262, 264, 51, 400, 17, 2]\n",
      "this</w>causes</w>a</w>feeling</w>of</w>rejection</w>to</w>the</w>way</w>of</w>thinking</w>that</w>is</w>superior</w>to</w>the</w>emotions,</w>resulting</w>in</w>reason-centered</w>thinking.</w>\n",
      "[421, 53, 2, 41, 2, 744, 52, 2, 327, 419, 2, 55, 46, 2, 1237, 15, 2, 411, 2, 1006, 268, 2, 445, 16, 641, 289, 45, 2, 645, 269, 59, 2, 394, 440, 2, 435, 2, 568, 49, 404, 2, 664, 59, 293, 2, 1175, 1261, 52, 65, 2, 420, 2, 435, 2, 266, 1077, 2, 411, 2, 341, 955, 2, 55, 46, 2, 264, 602, 350, 287, 2, 568, 49, 404, 2, 744, 52, 17, 2]\n",
      "from</w>a</w>model</w>point</w>of</w>view,</w>the</w>reason</w>pre-service</w>teachers</w>have</w>to</w>design</w>classes</w>continuously</w>is</w>to</w>reach</w>the</w>level</w>of</w>instructional</w>design</w>model.</w>\n",
      "[264, 2, 55, 1057, 2, 454, 44, 59, 15, 2, 290, 2, 294, 65, 2, 431, 2, 302, 792, 330, 2, 262, 280, 2, 411, 2, 635, 1191, 2, 55, 46, 2, 411, 2, 294, 47, 41, 66, 264, 45, 2, 266, 919, 59, 2, 411, 2, 59, 51, 264, 2, 935, 274, 2, 445, 46, 269, 266, 44, 2, 42, 65, 2, 411, 2, 1177, 310, 45, 2, 55, 46, 2, 262, 280, 2, 681, 348, 65, 17, 2]\n",
      "in</w>other</w>words,</w>it</w>may</w>be</w>assumed</w>that</w>the</w>image</w>of</w>the</w>magazine</w>represents</w>the</w>skin</w>color</w>preferred</w>by</w>the</w>people</w>of</w>that</w>country.</w>\n",
      "[264, 2, 1173, 276, 15, 2, 290, 2, 63, 302, 2, 304, 418, 53, 330, 2, 262, 280, 2, 971, 293, 2, 268, 2, 411, 2, 278, 341, 2, 267, 44, 2, 422, 368, 574, 45, 2, 55, 46, 2, 681, 548, 400, 2, 645, 269, 59, 2, 286, 681, 60, 330, 2, 339, 2, 343, 266, 2, 262, 267, 2, 26, 19, 2, 435, 2, 27, 19, 8, 2, 55, 46, 2, 607, 2, 971, 293, 17, 2]\n",
      "in</w>particular,</w>it</w>was</w>confirmed</w>that</w>studies</w>on</w>the</w>role</w>and</w>competence</w>of</w>counseling</w>teachers</w>accounted</w>for</w>more</w>than</w>70</w>to</w>80%</w>of</w>all</w>studies.</w>\n",
      "[339, 2, 752, 45, 15, 2, 411, 2, 708, 262, 2, 11, 1222, 1211, 274, 65, 12, 2, 264, 2, 338, 289, 48, 2, 411, 2, 295, 47, 2, 479, 45, 2, 11, 43, 47, 64, 2, 267, 44, 2, 43, 47, 65, 12, 2, 772, 293, 2, 294, 65, 2, 431, 2, 669, 504, 330, 2, 886, 2, 41, 2, 702, 542, 2, 935, 274, 17, 2]\n",
      "for</w>example,</w>the</w>path</w>(trajectory)</w>in</w>which</w>the</w>cog</w>value</w>(cgx</w>and</w>cgy)</w>changes</w>may</w>be</w>displayed</w>with</w>a</w>specific</w>color.</w>\n",
      "[54, 347, 287, 2, 267, 44, 2, 1138, 52, 289, 2, 44, 504, 43, 576, 2, 760, 269, 59, 2, 576, 2, 787, 626, 2, 52, 601, 2, 262, 267, 2, 465, 8, 2, 280, 2, 334, 672, 2, 28, 8, 2, 264, 2, 995, 27, 17, 2]\n",
      "national</w>and</w>public</w>daycare</w>centers</w>are</w>still</w>less</w>than</w>10%</w>at</w>about</w>9%</w>in</w>2018.</w>\n",
      "[411, 2, 495, 374, 269, 2, 929, 709, 2, 1017, 45, 2, 21, 21, 869, 2, 294, 65, 2, 703, 45, 2, 41, 2, 479, 45, 2, 55, 46, 2, 1059, 65, 2, 357, 45, 2, 487, 41, 15, 2, 42, 302, 330, 2, 268, 2, 411, 2, 683, 42, 269, 2, 55, 46, 2, 486, 293, 2, 262, 280, 2, 41, 2, 56, 357, 45, 2, 420, 2, 269, 302, 330, 17, 2]\n",
      "the</w>header</w>management</w>module</w>2213</w>may</w>determine</w>a</w>value</w>of</w>key</w>age</w>data,</w>based</w>on</w>the</w>number</w>of</w>times</w>that</w>a</w>page</w>is</w>erased.</w>\n",
      "[411, 2, 1031, 267, 2, 847, 268, 59, 2, 394, 440, 2, 1080, 54, 2, 58, 346, 556, 52, 65, 2, 419, 55, 2, 267, 2, 931, 412, 302, 2, 676, 350, 2, 576, 41, 2, 339, 2, 47, 325, 42, 287, 2, 732, 49, 293, 2, 886, 2, 334, 309, 44, 761, 2, 528, 16, 63, 357, 45, 2, 52, 334, 274, 17, 2]\n",
      "the</w>asian</w>regions</w>have</w>grown</w>rapidly</w>into</w>an</w>overseas</w>production</w>area</w>for</w>global</w>companies</w>with</w>abundant</w>low-wage</w>labor.</w>\n",
      "[411, 2, 517, 52, 2, 386, 64, 2, 474, 19, 2, 294, 65, 2, 431, 2, 401, 471, 330, 2, 268, 2, 267, 2, 973, 332, 2, 395, 350, 2, 55, 46, 2, 411, 2, 672, 578, 274, 2, 41, 567, 2, 56, 942, 357, 45, 2, 1189, 24, 17, 2]\n",
      "the</w>control</w>box</w>200</w>may</w>be</w>disposed</w>on</w>an</w>upper</w>portion</w>of</w>the</w>outdoor</w>air</w>passage</w>195.</w>\n",
      "[339, 2, 464, 64, 56, 504, 269, 59, 15, 2, 266, 287, 2, 671, 280, 45, 2, 464, 64, 2, 266, 366, 2, 43, 267, 2, 431, 2, 412, 270, 2, 302, 2, 41, 2, 740, 59, 2, 55, 46, 2, 464, 64, 2, 903, 45, 17, 2]\n",
      "for</w>taxpayers,</w>real</w>estate</w>tax</w>reform</w>can</w>be</w>seen</w>as</w>a</w>means</w>of</w>tax</w>increase.</w>\n",
      "[435, 2, 792, 2, 973, 15, 2, 262, 420, 2, 430, 65, 2, 280, 832, 56, 60, 330, 2, 435, 2, 891, 60, 2, 267, 2, 322, 332, 389, 316, 2, 42, 65, 2, 950, 709, 400, 2, 41, 2, 936, 323, 302, 45, 2, 943, 61, 347, 2, 488, 407, 2, 41, 2, 60, 334, 341, 60, 2, 1087, 45, 2, 313, 400, 2, 41, 2, 435, 320, 48, 1225, 270, 17, 2]\n",
      "to</w>sum</w>up,</w>this</w>study</w>attempted</w>to</w>conduct</w>an</w>experiment</w>by</w>implementing</w>a</w>purchase</w>situation</w>through</w>a</w>tablet</w>device</w>using</w>a</w>touchscreen.</w>\n",
      "[41, 2, 506, 398, 41, 382, 60, 2, 56, 267, 307, 2, 942, 308, 42, 52, 65, 2, 25, 19, 2, 294, 65, 2, 431, 2, 583, 301, 44, 2, 268, 2, 411, 2, 333, 407, 60, 2, 519, 333, 47, 269, 280, 400, 2, 323, 358, 42, 269, 2, 578, 274, 2, 474, 2, 358, 1007, 2, 411, 2, 708, 567, 2, 55, 46, 2, 519, 333, 47, 269, 280, 400, 2, 323, 358, 42, 269, 2, 578, 274, 59, 2, 474, 17, 2]\n",
      "a</w>transparent</w>panel</w>assembly</w>60</w>may</w>be</w>provided</w>on</w>the</w>right</w>refrigerating</w>chamber</w>door</w>20</w>among</w>the</w>pair</w>of</w>refrigerating</w>chamber</w>doors</w>20.</w>\n",
      "[411, 2, 655, 449, 601, 2, 511, 1249, 2, 1017, 45, 2, 23, 922, 2, 294, 65, 2, 809, 290, 2, 267, 44, 18, 274, 2, 733, 440, 2, 655, 449, 601, 2, 513, 287, 59, 2, 336, 41, 2, 719, 289, 347, 2, 1249, 980, 59, 2, 424, 44, 400, 2, 435, 2, 655, 449, 601, 2, 511, 1249, 2, 881, 49, 293, 17, 2]\n",
      "the</w>wireless</w>internet</w>module</w>411</w>may</w>transmit</w>and/or</w>receive</w>wireless</w>signals</w>via</w>communication</w>networks</w>according</w>to</w>wireless</w>internet</w>technologies.</w>\n",
      "[290, 2, 50, 61, 277, 2, 264, 827, 280, 293, 2, 262, 280, 2, 833, 63, 269, 2, 580, 269, 59, 2, 445, 46, 269, 2, 411, 2, 276, 60, 59, 2, 267, 44, 2, 59, 689, 59, 2, 1033, 44, 17, 2]\n",
      "it</w>just</w>indicates</w>that</w>fewer</w>learners</w>prefer</w>the</w>arts</w>and</w>sports</w>field.</w>\n",
      "[411, 2, 495, 280, 2, 401, 298, 56, 347, 2, 642, 42, 269, 2, 21, 23, 19, 2, 294, 65, 2, 431, 2, 401, 471, 330, 2, 435, 2, 381, 286, 60, 2, 411, 2, 635, 1191, 2, 666, 274, 2, 21, 1132, 2, 267, 44, 2, 411, 2, 262, 567, 44, 2, 353, 313, 400, 2, 21, 24, 22, 17, 2]\n",
      "the</w>heat</w>dissipation</w>member</w>240</w>may</w>be</w>disposed</w>to</w>contact</w>the</w>image</w>sensor</w>214</w>and</w>the</w>third</w>housing</w>253.</w>\n",
      "[264, 2, 274, 550, 2, 435, 2, 364, 49, 46, 65, 2, 411, 2, 311, 471, 330, 2, 749, 323, 2, 744, 52, 15, 2, 264, 2, 262, 420, 2, 430, 65, 15, 2, 487, 41, 2, 438, 266, 2, 1221, 369, 330, 2, 488, 407, 2, 41, 2, 590, 440, 65, 2, 60, 840, 368, 400, 2, 313, 269, 59, 2, 55, 46, 2, 411, 2, 268, 597, 45, 2, 948, 313, 716, 2, 719, 290, 65, 17, 2]\n",
      "in</w>order</w>to</w>verify</w>the</w>proposed</w>research</w>model,</w>in</w>this</w>study,</w>data</w>were</w>collected</w>through</w>a</w>survey</w>targeting</w>users</w>of</w>the</w>online</w>discussion</w>community.</w>\n",
      "[290, 2, 420, 2, 43, 535, 2, 262, 280, 2, 411, 2, 325, 267, 2, 833, 45, 2, 708, 556, 2, 42, 65, 2, 411, 2, 42, 274, 278, 63, 269, 2, 435, 2, 411, 2, 732, 65, 2, 420, 2, 411, 2, 732, 65, 10, 59, 2, 736, 289, 2, 311, 46, 290, 17, 2]\n",
      "it</w>is</w>clear</w>that</w>the</w>loan</w>fee</w>paid</w>by</w>the</w>borrower</w>to</w>the</w>company</w>is</w>the</w>company's</w>economic</w>profit.</w>\n",
      "[292, 723, 623, 2, 42, 302, 330, 2, 268, 2, 411, 2, 493, 60, 341, 2, 21, 22, 2, 420, 2, 754, 675, 44, 2, 42, 302, 330, 2, 268, 2, 411, 2, 472, 347, 2, 55, 46, 2, 411, 2, 292, 723, 623, 2, 666, 274, 17, 2]\n",
      "distance</w>based</w>on</w>the</w>mantle</w>23</w>is</w>measured</w>based</w>on</w>the</w>information</w>of</w>the</w>distance</w>sensor.</w>\n",
      "[264, 2, 907, 350, 2, 435, 2, 688, 267, 44, 400, 2, 411, 2, 464, 64, 2, 42, 302, 45, 15, 2, 264, 1258, 350, 287, 2, 772, 293, 2, 59, 320, 48, 2, 302, 2, 267, 2, 903, 45, 2, 264, 2, 411, 2, 355, 441, 287, 2, 464, 64, 2, 58, 280, 45, 2, 287, 463, 2, 903, 45, 2, 411, 2, 264, 329, 45, 2, 464, 64, 17, 2]\n",
      "in</w>addition</w>to</w>expanding</w>the</w>tax</w>base,</w>institutional</w>changes</w>such</w>as</w>an</w>increase</w>in</w>the</w>nominal</w>tax</w>rate</w>also</w>increase</w>the</w>income</w>tax.</w>\n",
      "[286, 373, 49, 298, 350, 2, 1017, 45, 2, 24, 22, 19, 2, 420, 2, 962, 675, 44, 2, 435, 2, 286, 373, 49, 266, 2, 41, 2, 1108, 267, 54, 400, 2, 559, 60, 2, 55, 46, 2, 411, 2, 418, 277, 2, 1108, 267, 54, 400, 17, 2]\n",
      "acquisition</w>module</w>530</w>is</w>configured</w>to</w>acquire</w>a</w>scanning</w>result</w>of</w>the</w>first</w>scanning.</w>\n",
      "[301, 55, 44, 274, 761, 59, 15, 2, 401, 930, 369, 761, 59, 15, 2, 267, 44, 2, 396, 269, 62, 1187, 293, 2, 576, 2, 287, 463, 2, 452, 61, 301, 44, 2, 886, 264, 2, 411, 2, 311, 59, 753, 420, 2, 327, 320, 48, 2, 264, 532, 60, 17, 2]\n",
      "deodorants,</w>disinfectants,</w>and</w>preservatives</w>are</w>also</w>included</w>within</w>the</w>prosthesis</w>pouch</w>insert.</w>\n",
      "[753, 45, 2, 438, 266, 2, 607, 2, 262, 400, 59, 2, 580, 330, 2, 488, 407, 2, 59, 293, 716, 59, 2, 449, 280, 330, 2, 435, 2, 323, 328, 44, 382, 10, 59, 2, 1192, 2, 344, 833, 2, 640, 689, 15, 2, 43, 576, 269, 2, 714, 556, 267, 623, 15, 2, 341, 49, 356, 266, 2, 344, 833, 2, 714, 556, 267, 623, 2, 891, 60, 330, 2, 264, 2, 411, 2, 311, 543, 358, 17, 2]\n",
      "these</w>were</w>all</w>things</w>learned</w>through</w>sessions</w>related</w>to</w>children's</w>school</w>life</w>support,</w>career</w>guidance,</w>leisure</w>life</w>guidance</w>conducted</w>in</w>the</w>program.</w>\n",
      "[338, 280, 10, 59, 2, 923, 761, 2, 420, 2, 262, 420, 2, 341, 1077, 400, 2, 60, 671, 2, 703, 293, 2, 975, 1057, 2, 411, 2, 304, 760, 58, 347, 2, 55, 46, 2, 949, 330, 2, 892, 287, 59, 2, 322, 623, 330, 59, 2, 411, 2, 517, 52, 2, 1233, 276, 44, 17, 2]\n",
      "what's</w>important</w>is</w>this</w>leaching</w>test</w>determines</w>whether</w>the</w>concentration</w>of</w>controlled</w>materials</w>exceeds</w>the</w>control</w>standard.</w>\n",
      "[287, 262, 345, 407, 2, 42, 300, 49, 330, 2, 896, 269, 59, 15, 2, 438, 41, 411, 266, 44, 2, 463, 328, 59, 15, 2, 267, 44, 2, 438, 41, 411, 266, 44, 2, 278, 43, 51, 59, 2, 267, 44, 2, 463, 46, 60, 2, 278, 43, 51, 59, 2, 1144, 15, 2, 267, 2, 41, 448, 267, 323, 45, 2, 55, 46, 2, 475, 262, 2, 267, 44, 2, 278, 43, 51, 59, 2, 420, 2, 313, 61, 607, 65, 2, 564, 280, 330, 2, 42, 65, 2, 269, 55, 716, 2, 55, 46, 2, 42, 300, 49, 330, 2, 896, 269, 59, 2, 267, 44, 2, 438, 41, 411, 266, 44, 2, 463, 328, 59, 17, 2]\n",
      "although</w>buried</w>layers,</w>weathered</w>soils,</w>and</w>weathered</w>rocks</w>and</w>soft</w>rocks</w>exist,</w>an</w>avalanche</w>of</w>earth</w>and</w>rocks</w>is</w>usually</w>generated</w>by</w>erosion</w>of</w>buried</w>layers</w>and</w>weathered</w>soils.</w>\n",
      "[49, 2, 323, 285, 51, 330, 2, 411, 2, 280, 60, 1077, 521, 59, 2, 268, 45, 2, 42, 65, 2, 268, 45, 2, 267, 44, 2, 295, 314, 44, 54, 10, 60, 2, 562, 447, 2, 973, 2, 264, 2, 590, 721, 412, 17, 2]\n",
      "i</w>checked</w>the</w>attachments</w>one</w>by</w>one</w>and</w>couldn't</w>shut</w>up</w>in</w>surprise.</w>\n",
      "[411, 2, 62, 290, 287, 290, 65, 2, 55, 46, 2, 411, 2, 470, 53, 42, 380, 2, 420, 2, 44, 434, 264, 330, 2, 264, 2, 411, 2, 287, 341, 47, 274, 65, 17, 2]\n",
      "the</w>vitality</w>of</w>the</w>symbol</w>is</w>drained</w>in</w>the</w>allegory.</w>\n",
      "[42, 42, 42, 2, 20, 2, 48, 302, 2, 58, 346, 556, 52, 65, 2, 1080, 54, 2, 42, 302, 330, 2, 268, 2, 411, 2, 671, 334, 344, 562, 521, 2, 55, 46, 2, 41, 2, 708, 556, 2, 642, 42, 269, 775, 56, 2, 1100, 2, 267, 44, 2, 277, 382, 47, 1190, 400, 2, 290, 59, 2, 1245, 54, 2, 381, 316, 2, 707, 521, 2, 784, 644, 1259, 293, 2, 267, 44, 2, 48, 302, 2, 308, 1223, 330, 2, 302, 2, 41, 2, 341, 374, 400, 2, 732, 65, 2, 264, 2, 411, 2, 1174, 65, 2, 886, 264, 2, 41, 2, 562, 274, 60, 2, 661, 55, 44, 2, 55, 46, 2, 1065, 15, 2, 294, 51, 400, 2, 290, 2, 43, 607, 330, 2, 411, 2, 5, 1250, 293, 45, 2, 364, 716, 2, 55, 46, 2, 42, 42, 42, 2, 21, 17, 5, 2]\n",
      "bbb</w>1</w>has</w>rapidly</w>grown</w>based</w>on</w>the</w>establishment</w>of</w>a</w>paid</w>membership</w>system</w>and</w>strengthening</w>its</w>own</w>content</w>development</w>capabilities</w>and</w>has</w>emerged</w>as</w>a</w>leading</w>company</w>in</w>the</w>industry</w>within</w>a</w>short</w>period</w>of</w>time,</w>making</w>it</w>called</w>the</w>\"chinese</w>version</w>of</w>bbb</w>2.\"</w>\n",
      "[290, 2, 441, 389, 468, 293, 2, 727, 2, 1066, 280, 675, 2, 944, 366, 290, 65, 2, 267, 44, 2, 53, 447, 61, 287, 2, 678, 620, 350, 2, 591, 270, 2, 59, 614, 293, 2, 42, 65, 2, 294, 51, 400, 2, 41, 567, 2, 46, 528, 2, 302, 2, 364, 417, 287, 2, 302, 2, 868, 341, 2, 42, 65, 2, 264, 277, 607, 400, 2, 339, 43, 330, 2, 870, 712, 347, 2, 565, 44, 17, 2]\n",
      "it</w>minimizes</w>high</w>temperature</w>uniformity</w>and</w>mutual</w>pollution</w>between</w>samples</w>by</w>making</w>air</w>flow</w>as</w>vertical</w>as</w>possible</w>by</w>installing</w>forced</w>circulation</w>method.</w>\n",
      "[411, 2, 295, 266, 2, 343, 52, 44, 2, 28, 2, 420, 2, 401, 471, 330, 2, 280, 2, 41, 2, 648, 350, 2, 41, 63, 504, 2, 421, 53, 2, 411, 2, 343, 62, 400, 2, 343, 52, 44, 2, 26, 2, 42, 65, 2, 41, 2, 445, 703, 330, 2, 292, 723, 623, 17, 2]\n",
      "the</w>core</w>mold</w>9</w>is</w>disposed</w>at</w>a</w>position</w>away</w>from</w>the</w>moving</w>mold</w>7</w>by</w>a</w>predetermined</w>distance.</w>\n",
      "[411, 2, 1080, 262, 2, 55, 46, 2, 267, 2, 1174, 65, 2, 267, 44, 2, 411, 2, 42, 270, 45, 46, 290, 2, 55, 46, 2, 1155, 287, 2, 732, 49, 293, 2, 576, 2, 747, 55, 2, 958, 368, 307, 65, 2, 604, 60, 2, 262, 400, 59, 17, 2]\n",
      "the</w>growth</w>of</w>an</w>industry</w>and</w>the</w>benefit</w>of</w>individual</w>companies</w>are</w>two</w>completely</w>different</w>things.</w>\n",
      "[411, 2, 538, 2, 1212, 52, 16, 973, 2, 1140, 290, 2, 24, 22, 20, 2, 294, 65, 2, 452, 61, 301, 2, 41, 2, 1056, 287, 290, 65, 2, 55, 46, 2, 56, 343, 59, 2, 506, 298, 1061, 59, 2, 56, 20, 2, 435, 2, 56, 51, 2, 11, 975, 266, 2, 51, 2, 420, 2, 41, 2, 648, 265, 440, 2, 782, 47, 269, 12, 17, 2]\n",
      "the</w>sub</w>pull-up</w>circuit</w>531</w>may</w>include</w>a</w>plurality</w>of</w>pmos</w>transistors</w>p1</w>to</w>pk</w>(where</w>k</w>is</w>a</w>positive</w>integer).</w>\n",
      "[616, 335, 2, 411, 2, 927, 883, 400, 2, 741, 15, 2, 411, 2, 309, 44, 443, 330, 16, 890, 2, 896, 269, 2, 63, 302, 2, 266, 16, 1080, 54, 2, 886, 2, 343, 43, 62, 44, 2, 845, 49, 56, 521, 2, 42, 65, 2, 628, 65, 400, 2, 41, 2, 1050, 350, 2, 264, 2, 338, 289, 48, 2, 52, 280, 269, 287, 2, 1080, 262, 2, 420, 2, 445, 46, 269, 266, 44, 17, 2]\n",
      "after</w>the</w>patterning</w>process,</w>the</w>undoped-gan</w>layer</w>was</w>re-grown</w>with</w>mocvd</w>equipment</w>by</w>applying</w>a</w>condition</w>in</w>which</w>lateral</w>growth</w>is</w>preferred.</w>\n",
      "[280, 2, 411, 2, 52, 334, 274, 280, 274, 65, 2, 341, 955, 2, 313, 400, 2, 411, 2, 1207, 320, 49, 42, 341, 15, 2, 411, 2, 516, 369, 2, 48, 302, 2, 431, 270, 2, 364, 49, 315, 330, 15, 2, 267, 44, 2, 411, 2, 628, 289, 347, 2, 435, 2, 1175, 1261, 2, 1036, 277, 400, 2, 845, 49, 56, 521, 2, 420, 2, 431, 400, 2, 311, 343, 60, 330, 2, 264, 2, 411, 2, 46, 447, 675, 17, 2]\n",
      "at</w>the</w>laboratory</w>level</w>using</w>the</w>crucible,</w>the</w>effect</w>has</w>been</w>verified,</w>and</w>the</w>application</w>to</w>continuous</w>casting</w>equipment</w>is</w>being</w>promoted</w>in</w>the</w>future.</w>\n",
      "[931, 607, 15, 2, 411, 2, 1137, 574, 65, 2, 55, 46, 2, 411, 2, 1078, 988, 1245, 54, 330, 2, 784, 290, 287, 2, 310, 280, 366, 2, 420, 2, 592, 309, 44, 2, 435, 2, 431, 2, 411, 2, 325, 438, 277, 2, 264, 2, 637, 2, 785, 45, 2, 55, 46, 2, 310, 280, 366, 17, 2]\n",
      "overall,</w>the</w>efficiency</w>of</w>the</w>state-owned</w>capital</w>platform</w>is</w>found</w>to</w>be</w>the</w>lowest</w>in</w>each</w>type</w>of</w>platform.</w>\n",
      "[411, 2, 396, 356, 266, 2, 62, 293, 548, 2, 424, 44, 400, 2, 435, 2, 411, 2, 919, 2, 605, 350, 2, 462, 293, 2, 41, 2, 1168, 65, 2, 395, 350, 2, 465, 19, 15, 2, 41, 2, 708, 567, 2, 55, 46, 2, 784, 59, 2, 474, 19, 15, 2, 267, 44, 2, 41, 2, 655, 266, 2, 22, 19, 19, 17, 2]\n",
      "the</w>pressure</w>vessel</w>according</w>to</w>the</w>present</w>invention</w>includes</w>a</w>body</w>portion</w>100,</w>a</w>pair</w>of</w>caps</w>200,</w>and</w>a</w>wire</w>300.</w>\n",
      "[411, 2, 63, 556, 262, 2, 55, 46, 2, 411, 2, 576, 41, 2, 435, 2, 431, 2, 625, 419, 330, 2, 420, 2, 703, 330, 2, 42, 65, 2, 697, 400, 2, 268, 45, 2, 625, 419, 400, 2, 294, 264, 2, 1108, 267, 2, 42, 65, 2, 411, 2, 276, 824, 47, 709, 2, 44, 520, 290, 65, 2, 267, 44, 2, 683, 42, 269, 2, 55, 46, 2, 625, 419, 400, 2, 307, 709, 59, 2, 264, 2, 411, 2, 625, 264, 411, 374, 17, 2]\n",
      "the</w>width</w>of</w>the</w>area</w>to</w>be</w>printed</w>is</w>determined</w>by</w>performing</w>one</w>printing</w>main</w>scan</w>by</w>the</w>arrangement</w>density</w>and</w>number</w>of</w>printing</w>elements</w>in</w>the</w>printhead.</w>\n",
      "[55, 46, 2, 411, 2, 24, 25, 2, 788, 1107, 287, 2, 664, 298, 542, 347, 59, 15, 2, 268, 52, 65, 2, 411, 2, 441, 400, 2, 267, 44, 2, 493, 61, 429, 698, 400, 2, 788, 1107, 293, 2, 438, 266, 2, 60, 840, 368, 330, 15, 2, 464, 51, 400, 2, 419, 55, 2, 286, 681, 60, 2, 411, 2, 947, 417, 59, 2, 55, 46, 2, 411, 2, 1222, 301, 2, 602, 485, 266, 2, 591, 270, 2, 1161, 262, 2, 267, 44, 2, 59, 345, 262, 2, 651, 41, 17, 2]\n",
      "of</w>the</w>56</w>industrial</w>classifications,</w>only</w>the</w>mining</w>and</w>manufacturing</w>industries</w>were</w>targeted,</w>taking</w>into</w>account</w>the</w>characteristics</w>of</w>the</w>trade</w>structure</w>between</w>north</w>and</w>south</w>korea.</w>\n",
      "[56, 2, 457, 314, 44, 2, 355, 60, 2, 394, 440, 2, 277, 1052, 417, 287, 2, 1032, 302, 293, 2, 267, 44, 2, 1058, 281, 820, 2, 602, 485, 318, 2, 262, 280, 2, 267, 2, 280, 60, 1086, 269, 2, 43, 267, 2, 341, 364, 357, 45, 2, 435, 2, 445, 827, 60, 2, 672, 56, 447, 17, 2]\n",
      "p</w>should</w>not</w>have</w>statistical</w>biases</w>and</w>mathematical</w>structures</w>that</w>an</w>attacker</w>can</w>leverage</w>to</w>predict</w>output.</w>\n",
      "[1173, 276, 52, 65, 15, 2, 290, 2, 294, 65, 2, 431, 2, 914, 277, 55, 55, 44, 2, 262, 280, 2, 752, 45, 2, 21, 2, 322, 388, 42, 290, 330, 2, 41, 2, 528, 269, 2, 266, 341, 302, 45, 2, 339, 623, 2, 479, 45, 2, 262, 267, 2, 262, 280, 2, 55, 46, 2, 752, 45, 2, 20, 17, 2]\n",
      "particularly,</w>it</w>may</w>be</w>understood</w>that</w>example</w>2</w>exhibited</w>a</w>lower</w>release</w>force</w>value</w>than</w>that</w>of</w>example</w>1.</w>\n",
      "[425, 17, 2, 23, 2, 420, 2, 41, 2, 46, 528, 571, 60, 2, 898, 280, 400, 2, 41, 2, 311, 43, 330, 675, 2, 55, 46, 2, 703, 400, 2, 41, 2, 984, 62, 400, 2, 708, 262, 2, 267, 44, 2, 41, 2, 984, 62, 400, 2, 287, 265, 485, 301, 2, 424, 44, 400, 2, 435, 2, 267, 2, 906, 2, 55, 46, 2, 411, 2, 919, 2, 605, 350, 17, 2]\n",
      "fig.</w>4</w>is</w>a</w>flowchart</w>illustrating</w>a</w>procedure</w>of</w>determining</w>a</w>driving</w>path</w>and</w>a</w>driving</w>altitude</w>according</w>to</w>an</w>embodiment</w>of</w>the</w>present</w>invention.</w>\n",
      "[418, 277, 2, 55, 46, 2, 607, 15, 2, 411, 2, 313, 269, 10, 59, 2, 63, 420, 48, 293, 2, 267, 44, 2, 55, 1057, 2, 1025, 268, 287, 2, 344, 62, 293, 2, 576, 2, 322, 471, 330, 2, 42, 65, 2, 62, 55, 289, 45, 17, 2]\n",
      "first</w>of</w>all,</w>the</w>user's</w>wishes</w>and</w>other</w>personal</w>lives</w>are</w>exposed</w>by</w>voice.</w>\n",
      "[290, 2, 43, 267, 2, 431, 2, 511, 445, 60, 330, 2, 264, 2, 411, 2, 1005, 337, 2, 63, 504, 2, 302, 2, 60, 334, 341, 2, 27, 17, 2]\n",
      "it</w>can</w>be</w>interpreted</w>in</w>the</w>same</w>way</w>as</w>table</w>8.</w>\n",
      "[411, 2, 445, 703, 330, 2, 635, 1191, 2, 487, 41, 2, 294, 65, 2, 431, 2, 411, 2, 1161, 53, 287, 2, 635, 1191, 2, 487, 41, 2, 886, 672, 2, 411, 2, 301, 46, 369, 2, 267, 44, 2, 294, 65, 2, 355, 60, 2, 431, 2, 411, 2, 1005, 337, 2, 487, 41, 17, 2]\n",
      "the</w>predetermined</w>image</w>data</w>may</w>be</w>the</w>normal</w>image</w>data</w>without</w>the</w>defect</w>and</w>may</w>not</w>be</w>the</w>same</w>data.</w>\n",
      "[424, 44, 400, 2, 435, 2, 267, 2, 55, 285, 44, 2, 266, 689, 2, 264, 2, 633, 323, 2, 474, 19, 28, 15, 2, 651, 41, 2, 373, 289, 51, 52, 65, 2, 968, 440, 266, 44, 2, 421, 53, 2, 411, 2, 43, 333, 298, 59, 2, 262, 267, 51, 59, 2, 435, 2, 411, 2, 688, 267, 716, 2, 55, 46, 2, 322, 689, 59, 2, 267, 44, 2, 315, 59, 820, 2, 398, 270, 44, 400, 17, 2]\n",
      "according</w>to</w>an</w>oecd</w>report</w>in</w>march</w>2009,</w>korea</w>quickly</w>recovered</w>from</w>the</w>crisis</w>thanks</w>to</w>the</w>expansion</w>of</w>exports</w>and</w>fiscal</w>spending.</w>\n",
      "[302, 2, 438, 2, 1080, 2, 380, 550, 15, 2, 411, 2, 270, 44, 52, 601, 2, 792, 53, 269, 59, 2, 55, 46, 2, 65, 345, 262, 2, 1106, 301, 2, 264, 2, 642, 274, 65, 2, 302, 2, 338, 55, 341, 2, 1070, 59, 2, 62, 267, 420, 48, 2, 264, 2, 41, 2, 333, 55, 60, 2, 55, 46, 2, 48, 346, 757, 400, 59, 17, 2]\n",
      "as</w>we</w>grow</w>older,</w>the</w>endless</w>summers</w>of</w>youth</w>fade</w>in</w>memory</w>as</w>whole</w>years</w>vanish</w>in</w>a</w>riot</w>of</w>happenings.</w>\n",
      "[264, 2, 411, 2, 381, 852, 2, 55, 46, 2, 294, 262, 2, 664, 59, 15, 2, 411, 2, 343, 277, 2, 311, 441, 316, 2, 550, 49, 62, 347, 2, 55, 46, 2, 411, 2, 454, 44, 2, 683, 42, 269, 2, 420, 2, 41, 2, 54, 280, 300, 287, 2, 559, 60, 17, 2]\n",
      "in</w>the</w>context</w>of</w>math</w>class,</w>the</w>most</w>prominent</w>derivation</w>of</w>the</w>word</w>number</w>is</w>a</w>natural</w>result.</w>\n",
      "[377, 51, 10, 59, 2, 430, 65, 2, 356, 47, 47, 671, 330, 2, 267, 2, 1088, 721, 280, 45, 2, 935, 274, 2, 1066, 280, 675, 2, 339, 2, 637, 2, 266, 277, 15, 2, 266, 374, 400, 15, 2, 267, 44, 2, 810, 292, 55, 16, 336, 356, 287, 2, 1037, 290, 65, 2, 264, 2, 41, 2, 1038, 341, 17, 2]\n",
      "park's</w>study</w>suggested</w>an</w>appropriate</w>color</w>temperature</w>for</w>each</w>rest,</w>reading,</w>and</w>audio-visual</w>activity</w>in</w>a</w>vehicle.</w>\n",
      "[55, 1057, 2, 749, 323, 269, 59, 2, 55, 46, 1062, 2, 47, 368, 2, 48, 307, 56, 2, 421, 53, 2, 422, 61, 335, 59, 2, 338, 270, 2, 891, 60, 400, 2, 971, 293, 2, 262, 280, 2, 606, 2, 973, 2, 421, 53, 2, 1027, 607, 2, 683, 42, 269, 59, 17, 2]\n",
      "other</w>researchers</w>often</w>get</w>help</w>from</w>computers</w>when</w>conducting</w>studies</w>that</w>go</w>up</w>from</w>small</w>numbers.</w>\n",
      "[816, 60, 52, 65, 15, 2, 290, 2, 381, 639, 59, 2, 338, 280, 2, 420, 2, 991, 54, 2, 302, 2, 1180, 301, 52, 138, 59, 2, 1011, 63, 2, 55, 46, 2, 264, 48, 269, 290, 267, 623, 2, 264, 2, 53, 556, 44, 341, 2, 267, 44, 2, 727, 2, 1192, 59, 2, 264, 2, 651, 41, 17, 2]\n",
      "currently,</w>it</w>contains</w>what</w>is</w>known</w>as</w>mendel’s</w>law</w>of</w>inheritance</w>in</w>middle</w>and</w>high</w>schools</w>in</w>korea.</w>\n",
      "[290, 2, 63, 302, 2, 308, 56, 394, 893, 330, 2, 262, 280, 2, 411, 2, 645, 269, 2, 457, 314, 44, 2, 394, 440, 2, 41, 2, 356, 360, 803, 316, 2, 914, 1233, 400, 2, 55, 46, 2, 411, 2, 816, 60, 2, 943, 61, 347, 15, 2, 267, 44, 2, 42, 302, 330, 2, 268, 2, 262, 420, 15, 2, 411, 2, 645, 269, 2, 457, 314, 44, 2, 671, 334, 344, 562, 2, 41, 2, 645, 400, 2, 383, 280, 1135, 65, 17, 2]\n",
      "it</w>was</w>emphasized</w>that</w>the</w>teacher</w>should</w>have</w>a</w>sufficient</w>understanding</w>of</w>the</w>current</w>situation,</w>and</w>based</w>on</w>this,</w>the</w>teacher</w>should</w>establish</w>a</w>teaching</w>strategy.</w>\n",
      "[411, 2, 727, 269, 2, 411, 2, 1050, 350, 287, 2, 705, 644, 290, 65, 15, 2, 264, 2, 55, 1057, 2, 454, 44, 59, 15, 2, 411, 2, 727, 269, 2, 411, 2, 327, 419, 655, 412, 2, 53, 447, 61, 287, 2, 472, 347, 15, 2, 411, 2, 343, 266, 2, 746, 277, 316, 2, 411, 2, 60, 268, 45, 2, 274, 2, 59, 270, 735, 328, 290, 65, 2, 411, 2, 747, 55, 2, 454, 44, 59, 2, 394, 440, 17, 2]\n",
      "the</w>higher</w>the</w>conditional</w>probability,</w>in</w>other</w>words,</w>the</w>higher</w>the</w>pointwise</w>mutual</w>information,</w>the</w>more</w>consistent</w>the</w>tone</w>or</w>sensibility</w>the</w>two</w>words</w>have.</w>\n",
      "[1047, 623, 2, 411, 2, 61, 51, 2, 54, 347, 287, 2, 1117, 433, 2, 578, 293, 2, 355, 60, 2, 583, 301, 2, 441, 389, 433, 2, 309, 290, 59, 2, 274, 2, 427, 44, 290, 59, 2, 339, 2, 637, 2, 538, 1211, 15, 2, 411, 2, 683, 42, 269, 2, 55, 46, 2, 353, 300, 59, 2, 332, 2, 538, 1211, 2, 420, 2, 531, 280, 330, 2, 604, 60, 52, 65, 2, 946, 44, 400, 2, 268, 2, 411, 2, 1192, 17, 2]\n",
      "since</w>the</w>uk</w>national</w>curriculum</w>does</w>not</w>provide</w>minimum</w>units</w>or</w>credits</w>for</w>each</w>subject,</w>the</w>number</w>of</w>hours</w>per</w>subject</w>is</w>operated</w>differently</w>depending</w>on</w>the</w>school.</w>\n",
      "[411, 2, 56, 281, 316, 2, 48, 302, 2, 431, 270, 2, 44, 58, 264, 51, 400, 2, 41, 2, 386, 60, 60, 341, 2, 55, 46, 2, 463, 50, 61, 2, 45, 364, 65, 2, 44, 504, 2, 339, 2, 1167, 2, 1070, 59, 2, 355, 63, 15, 2, 267, 44, 2, 616, 335, 2, 266, 265, 266, 521, 15, 2, 495, 2, 48, 374, 2, 41, 2, 325, 60, 2, 55, 46, 2, 1065, 2, 267, 44, 2, 355, 2, 702, 287, 2, 980, 15, 2, 463, 2, 411, 2, 1121, 60, 2, 55, 46, 2, 287, 295, 905, 2, 419, 41, 1059, 2, 670, 41, 337, 2, 727, 269, 17, 2]\n",
      "the</w>patient</w>has</w>been</w>drinking</w>a</w>bottle</w>of</w>soju</w>every</w>day</w>for</w>15</w>years</w>now,</w>and</w>after</w>retirement,</w>he</w>had</w>a</w>lot</w>of</w>time</w>and</w>no</w>special</w>work,</w>so</w>the</w>amount</w>of</w>alcohol</w>intake</w>became</w>higher.</w>\n",
      "[411, 519, 478, 15, 2, 290, 2, 63, 302, 2, 301, 509, 330, 2, 302, 2, 991, 52, 330, 1191, 2, 55, 46, 2, 401, 427, 1231, 2, 705, 644, 290, 65, 2, 841, 622, 61, 350, 2, 262, 280, 2, 396, 269, 62, 289, 45, 2, 1128, 59, 2, 645, 269, 59, 2, 463, 337, 338, 280, 2, 442, 47, 52, 369, 330, 2, 267, 44, 2, 374, 301, 44, 2, 435, 2, 411, 2, 509, 287, 2, 60, 671, 2, 435, 380, 17, 2]\n",
      "therefore,</w>it</w>was</w>defined</w>as</w>knowledge</w>of</w>discrete</w>probability</w>distribution</w>that</w>preservice</w>mathematics</w>teachers</w>somewhat</w>neglected</w>and</w>added</w>to</w>the</w>final</w>test</w>tool.</w>\n",
      "[302, 2, 957, 330, 2, 982, 440, 15, 2, 424, 44, 400, 2, 435, 2, 411, 2, 919, 2, 605, 350, 15, 2, 290, 2, 420, 2, 868, 341, 2, 435, 2, 744, 52, 2, 41, 2, 22, 44, 2, 1097, 521, 2, 42, 65, 2, 1067, 280, 400, 2, 301, 56, 262, 2, 472, 347, 17, 2]\n",
      "as</w>described</w>above,</w>according</w>to</w>the</w>present</w>invention,</w>it</w>is</w>possible</w>to</w>model</w>a</w>3d</w>environment</w>by</w>calculating</w>depth</w>information.</w>\n",
      "[411, 519, 478, 15, 2, 264, 2, 411, 2, 366, 269, 15, 2, 302, 2, 41, 2, 445, 60, 266, 280, 521, 15, 2, 411, 2, 590, 429, 45, 2, 60, 266, 280, 521, 2, 339, 2, 1203, 264, 400, 2, 41, 2, 445, 703, 330, 2, 590, 429, 45, 2, 414, 407, 54, 601, 15, 2, 59, 320, 48, 2, 302, 2, 457, 60, 2, 42, 1011, 277, 400, 2, 267, 44, 2, 411, 2, 52, 280, 335, 15, 2, 420, 2, 697, 330, 2, 264, 2, 1129, 267, 623, 17, 2]\n",
      "therefore,</w>in</w>the</w>former,</w>as</w>a</w>pretreatment,</w>the</w>surface</w>treatment</w>for</w>obtaining</w>a</w>predetermined</w>surface</w>roughness,</w>such</w>as</w>shot</w>blasting</w>and</w>the</w>latter,</w>is</w>performed</w>in</w>advance.</w>\n",
      "[411, 2, 313, 45, 46, 314, 54, 601, 2, 55, 46, 2, 47, 41, 313, 59, 10, 59, 2, 304, 543, 61, 574, 45, 2, 355, 60, 347, 2, 344, 293, 2, 264, 2, 411, 2, 817, 2, 262, 280, 2, 304, 543, 61, 574, 45, 2, 886, 2, 596, 369, 2, 435, 2, 41, 2, 315, 64, 330, 2, 1017, 313, 2, 48, 302, 2, 493, 65, 2, 55, 46, 2, 411, 2, 366, 287, 2, 311, 332, 265, 293, 2, 55, 46, 2, 274, 44, 264, 276, 65, 2, 845, 287, 290, 65, 17, 2]\n",
      "the</w>usefulness</w>of</w>gauss's</w>congruence</w>notation</w>lies</w>in</w>the</w>fact</w>that</w>congruence</w>with</w>respect</w>to</w>a</w>fixed</w>modulus</w>has</w>many</w>of</w>the</w>formal</w>properties</w>of</w>ordinary</w>equality.</w>\n",
      "[264, 2, 907, 350, 15, 2, 290, 2, 442, 330, 59, 2, 435, 2, 885, 440, 2, 411, 2, 341, 47, 287, 2, 1100, 2, 449, 280, 330, 2, 435, 2, 419, 307, 344, 47, 316, 2, 472, 347, 2, 881, 65, 2, 59, 616, 368, 65, 2, 286, 365, 44, 316, 59, 17, 2]\n",
      "in</w>addition,</w>it</w>needs</w>to</w>improve</w>the</w>legal</w>system</w>related</w>to</w>intelligent</w>information</w>technology</w>safety</w>accidents.</w>\n",
      "[509, 290, 45, 2, 1078, 45, 2, 53, 1077, 264, 293, 2, 43, 267, 2, 431, 2, 313, 330, 2, 435, 2, 1184, 369, 2, 267, 44, 2, 517, 52, 2, 411, 2, 42, 264, 44, 400, 2, 55, 46, 2, 343, 52, 285, 314, 293, 2, 435, 2, 678, 65, 53, 269, 59, 17, 2]\n",
      "finite</w>state</w>machines</w>can</w>be</w>used</w>to</w>detect</w>and</w>control</w>the</w>binding</w>of</w>molecules</w>to</w>polymers.</w>\n",
      "[290, 2, 420, 2, 871, 276, 65, 2, 435, 2, 707, 2, 41, 2, 311, 543, 358, 2, 339, 2, 411, 2, 885, 62, 709, 2, 55, 46, 2, 411, 2, 1117, 433, 2, 266, 1143, 347, 2, 262, 280, 2, 746, 550, 59, 2, 411, 2, 604, 436, 2, 264, 2, 411, 2, 481, 347, 287, 2, 442, 330, 59, 2, 424, 44, 400, 2, 435, 2, 411, 2, 645, 269, 59, 10, 2, 947, 417, 59, 17, 2]\n",
      "it</w>is</w>necessary</w>to</w>develop</w>a</w>program</w>for</w>the</w>improvement</w>of</w>the</w>curriculum</w>reorganization</w>that</w>considers</w>the</w>differences</w>in</w>the</w>educational</w>needs</w>according</w>to</w>the</w>teachers'</w>characteristics.</w>\n",
      "[332, 48, 346, 59, 2, 411, 2, 42, 839, 47, 671, 2, 310, 313, 2, 516, 369, 2, 55, 46, 2, 411, 2, 945, 365, 287, 2, 43, 333, 298, 59, 2, 63, 302, 2, 262, 280, 2, 290, 2, 294, 301, 2, 343, 266, 2, 1138, 52, 289, 2, 833, 307, 2, 268, 2, 411, 2, 59, 51, 264, 2, 262, 280, 2, 754, 61, 318, 2, 357, 639, 277, 2, 945, 623, 2, 267, 44, 2, 264, 329, 45, 2, 438, 266, 2, 442, 45, 301, 44, 17, 2]\n",
      "perhaps</w>the</w>biggest</w>plus</w>effect</w>of</w>the</w>financial</w>crisis</w>was</w>that</w>it</w>made</w>more</w>public</w>feel</w>on</w>the</w>skin</w>that</w>measures</w>against</w>finance</w>and</w>income</w>were</w>needed.</w>\n"
     ]
    }
   ],
   "source": [
    "from vocab import Vocabulary\n",
    "\n",
    "tv = Vocabulary(\"already\",10)"
   ]
  },
  {
   "cell_type": "code",
   "execution_count": 4,
   "metadata": {},
   "outputs": [],
   "source": [
    "test_sentence = 'The US monetary system went through a period of instability for the next 100 years.'\n"
   ]
  },
  {
   "cell_type": "code",
   "execution_count": 5,
   "metadata": {},
   "outputs": [],
   "source": [
    "tb = torch.tensor(tv(test_sentence)).unsqueeze(0)"
   ]
  },
  {
   "cell_type": "code",
   "execution_count": 6,
   "metadata": {},
   "outputs": [],
   "source": [
    "tb=tb.to(device=device)"
   ]
  },
  {
   "cell_type": "code",
   "execution_count": 7,
   "metadata": {},
   "outputs": [],
   "source": [
    "from model import Attention_LSTM\n",
    "test_LS = Attention_LSTM(1262)"
   ]
  },
  {
   "cell_type": "code",
   "execution_count": 8,
   "metadata": {},
   "outputs": [
    {
     "name": "stdout",
     "output_type": "stream",
     "text": [
      "torch.Size([1, 46])\n"
     ]
    },
    {
     "ename": "RuntimeError",
     "evalue": "Tensors must have same number of dimensions: got 2 and 3",
     "output_type": "error",
     "traceback": [
      "\u001b[1;31m---------------------------------------------------------------------------\u001b[0m",
      "\u001b[1;31mRuntimeError\u001b[0m                              Traceback (most recent call last)",
      "\u001b[1;32m~\\AppData\\Local\\Temp\\ipykernel_9760\\3679595429.py\u001b[0m in \u001b[0;36m<module>\u001b[1;34m\u001b[0m\n\u001b[1;32m----> 1\u001b[1;33m \u001b[0mtest_LS\u001b[0m\u001b[1;33m(\u001b[0m\u001b[0mtb\u001b[0m\u001b[1;33m)\u001b[0m\u001b[1;33m\u001b[0m\u001b[0m\n\u001b[0m",
      "\u001b[1;32mc:\\Users\\LDG\\Anaconda3\\lib\\site-packages\\torch\\nn\\modules\\module.py\u001b[0m in \u001b[0;36m_call_impl\u001b[1;34m(self, *input, **kwargs)\u001b[0m\n\u001b[0;32m    887\u001b[0m             \u001b[0mresult\u001b[0m \u001b[1;33m=\u001b[0m \u001b[0mself\u001b[0m\u001b[1;33m.\u001b[0m\u001b[0m_slow_forward\u001b[0m\u001b[1;33m(\u001b[0m\u001b[1;33m*\u001b[0m\u001b[0minput\u001b[0m\u001b[1;33m,\u001b[0m \u001b[1;33m**\u001b[0m\u001b[0mkwargs\u001b[0m\u001b[1;33m)\u001b[0m\u001b[1;33m\u001b[0m\u001b[0m\n\u001b[0;32m    888\u001b[0m         \u001b[1;32melse\u001b[0m\u001b[1;33m:\u001b[0m\u001b[1;33m\u001b[0m\u001b[0m\n\u001b[1;32m--> 889\u001b[1;33m             \u001b[0mresult\u001b[0m \u001b[1;33m=\u001b[0m \u001b[0mself\u001b[0m\u001b[1;33m.\u001b[0m\u001b[0mforward\u001b[0m\u001b[1;33m(\u001b[0m\u001b[1;33m*\u001b[0m\u001b[0minput\u001b[0m\u001b[1;33m,\u001b[0m \u001b[1;33m**\u001b[0m\u001b[0mkwargs\u001b[0m\u001b[1;33m)\u001b[0m\u001b[1;33m\u001b[0m\u001b[0m\n\u001b[0m\u001b[0;32m    890\u001b[0m         for hook in itertools.chain(\n\u001b[0;32m    891\u001b[0m                 \u001b[0m_global_forward_hooks\u001b[0m\u001b[1;33m.\u001b[0m\u001b[0mvalues\u001b[0m\u001b[1;33m(\u001b[0m\u001b[1;33m)\u001b[0m\u001b[1;33m,\u001b[0m\u001b[1;33m\u001b[0m\u001b[0m\n",
      "\u001b[1;32mc:\\Users\\LDG\\OneDrive\\Study\\Lectures\\딥러닝\\Assignments\\final_project\\RNN_project\\model.py\u001b[0m in \u001b[0;36mforward\u001b[1;34m(self, x)\u001b[0m\n\u001b[0;32m     39\u001b[0m         \u001b[0mattention_distribution\u001b[0m \u001b[1;33m=\u001b[0m \u001b[0msoftmax\u001b[0m\u001b[1;33m(\u001b[0m\u001b[0mattention_score\u001b[0m\u001b[1;33m,\u001b[0m \u001b[0mdim\u001b[0m\u001b[1;33m=\u001b[0m\u001b[1;36m1\u001b[0m\u001b[1;33m)\u001b[0m\u001b[1;33m\u001b[0m\u001b[0m\n\u001b[0;32m     40\u001b[0m         \u001b[0mattention_value\u001b[0m \u001b[1;33m=\u001b[0m \u001b[0mtorch\u001b[0m\u001b[1;33m.\u001b[0m\u001b[0msum\u001b[0m\u001b[1;33m(\u001b[0m\u001b[0mencoder_result\u001b[0m \u001b[1;33m*\u001b[0m \u001b[0mattention_distribution\u001b[0m\u001b[1;33m,\u001b[0m \u001b[0mdim\u001b[0m\u001b[1;33m=\u001b[0m\u001b[1;36m1\u001b[0m\u001b[1;33m)\u001b[0m\u001b[1;33m.\u001b[0m\u001b[0munsqueeze\u001b[0m\u001b[1;33m(\u001b[0m\u001b[1;36m1\u001b[0m\u001b[1;33m)\u001b[0m\u001b[1;31m#아다마르 곱 후 unsqueeze 로 batch*1*hidden_size 로 바꿔준다\u001b[0m\u001b[1;33m\u001b[0m\u001b[0m\n\u001b[1;32m---> 41\u001b[1;33m         \u001b[0matt_dec_concat\u001b[0m \u001b[1;33m=\u001b[0m \u001b[0mtorch\u001b[0m\u001b[1;33m.\u001b[0m\u001b[0mcat\u001b[0m\u001b[1;33m(\u001b[0m\u001b[1;33m(\u001b[0m\u001b[0mattention_value\u001b[0m\u001b[1;33m,\u001b[0m \u001b[0mself\u001b[0m\u001b[1;33m.\u001b[0m\u001b[0mdecode_embed\u001b[0m\u001b[1;33m)\u001b[0m\u001b[1;33m,\u001b[0m \u001b[0mdim\u001b[0m \u001b[1;33m=\u001b[0m \u001b[1;36m2\u001b[0m\u001b[1;33m)\u001b[0m\u001b[1;33m.\u001b[0m\u001b[0msqueeze\u001b[0m\u001b[1;33m(\u001b[0m\u001b[1;36m1\u001b[0m\u001b[1;33m)\u001b[0m\u001b[1;31m#batch*hidden_sie*2\u001b[0m\u001b[1;33m\u001b[0m\u001b[0m\n\u001b[0m\u001b[0;32m     42\u001b[0m         \u001b[0mfinal_vector\u001b[0m \u001b[1;33m=\u001b[0m \u001b[0mtorch\u001b[0m\u001b[1;33m.\u001b[0m\u001b[0mtanh\u001b[0m\u001b[1;33m(\u001b[0m\u001b[0mself\u001b[0m\u001b[1;33m.\u001b[0m\u001b[0mhiddenstate\u001b[0m\u001b[1;33m(\u001b[0m\u001b[0matt_dec_concat\u001b[0m\u001b[1;33m)\u001b[0m\u001b[1;33m)\u001b[0m\u001b[1;31m#batch*hidden_s\u001b[0m\u001b[1;33m\u001b[0m\u001b[0m\n\u001b[0;32m     43\u001b[0m \u001b[1;33m\u001b[0m\u001b[0m\n",
      "\u001b[1;31mRuntimeError\u001b[0m: Tensors must have same number of dimensions: got 2 and 3"
     ]
    }
   ],
   "source": [
    "test_LS(tb)"
   ]
  },
  {
   "cell_type": "code",
   "execution_count": null,
   "metadata": {},
   "outputs": [
    {
     "ename": "RuntimeError",
     "evalue": "Input, output and indices must be on the current device",
     "output_type": "error",
     "traceback": [
      "\u001b[1;31m---------------------------------------------------------------------------\u001b[0m",
      "\u001b[1;31mRuntimeError\u001b[0m                              Traceback (most recent call last)",
      "\u001b[1;32m~\\AppData\\Local\\Temp\\ipykernel_6752\\440827303.py\u001b[0m in \u001b[0;36m<module>\u001b[1;34m\u001b[0m\n\u001b[1;32m----> 1\u001b[1;33m \u001b[0mtest_LS\u001b[0m\u001b[1;33m.\u001b[0m\u001b[0mencoder\u001b[0m\u001b[1;33m.\u001b[0m\u001b[0membed\u001b[0m\u001b[1;33m(\u001b[0m\u001b[0mtorch\u001b[0m\u001b[1;33m.\u001b[0m\u001b[0mtensor\u001b[0m\u001b[1;33m(\u001b[0m\u001b[1;33m[\u001b[0m\u001b[1;36m1\u001b[0m\u001b[1;33m,\u001b[0m\u001b[1;36m2\u001b[0m\u001b[1;33m,\u001b[0m\u001b[1;36m3\u001b[0m\u001b[1;33m,\u001b[0m\u001b[1;36m4\u001b[0m\u001b[1;33m,\u001b[0m\u001b[1;36m5\u001b[0m\u001b[1;33m]\u001b[0m\u001b[1;33m)\u001b[0m\u001b[1;33m)\u001b[0m\u001b[1;33m\u001b[0m\u001b[0m\n\u001b[0m",
      "\u001b[1;32mc:\\Users\\LDG\\Anaconda3\\lib\\site-packages\\torch\\nn\\modules\\module.py\u001b[0m in \u001b[0;36m_call_impl\u001b[1;34m(self, *input, **kwargs)\u001b[0m\n\u001b[0;32m    887\u001b[0m             \u001b[0mresult\u001b[0m \u001b[1;33m=\u001b[0m \u001b[0mself\u001b[0m\u001b[1;33m.\u001b[0m\u001b[0m_slow_forward\u001b[0m\u001b[1;33m(\u001b[0m\u001b[1;33m*\u001b[0m\u001b[0minput\u001b[0m\u001b[1;33m,\u001b[0m \u001b[1;33m**\u001b[0m\u001b[0mkwargs\u001b[0m\u001b[1;33m)\u001b[0m\u001b[1;33m\u001b[0m\u001b[0m\n\u001b[0;32m    888\u001b[0m         \u001b[1;32melse\u001b[0m\u001b[1;33m:\u001b[0m\u001b[1;33m\u001b[0m\u001b[0m\n\u001b[1;32m--> 889\u001b[1;33m             \u001b[0mresult\u001b[0m \u001b[1;33m=\u001b[0m \u001b[0mself\u001b[0m\u001b[1;33m.\u001b[0m\u001b[0mforward\u001b[0m\u001b[1;33m(\u001b[0m\u001b[1;33m*\u001b[0m\u001b[0minput\u001b[0m\u001b[1;33m,\u001b[0m \u001b[1;33m**\u001b[0m\u001b[0mkwargs\u001b[0m\u001b[1;33m)\u001b[0m\u001b[1;33m\u001b[0m\u001b[0m\n\u001b[0m\u001b[0;32m    890\u001b[0m         for hook in itertools.chain(\n\u001b[0;32m    891\u001b[0m                 \u001b[0m_global_forward_hooks\u001b[0m\u001b[1;33m.\u001b[0m\u001b[0mvalues\u001b[0m\u001b[1;33m(\u001b[0m\u001b[1;33m)\u001b[0m\u001b[1;33m,\u001b[0m\u001b[1;33m\u001b[0m\u001b[0m\n",
      "\u001b[1;32mc:\\Users\\LDG\\Anaconda3\\lib\\site-packages\\torch\\nn\\modules\\sparse.py\u001b[0m in \u001b[0;36mforward\u001b[1;34m(self, input)\u001b[0m\n\u001b[0;32m    145\u001b[0m         return F.embedding(\n\u001b[0;32m    146\u001b[0m             \u001b[0minput\u001b[0m\u001b[1;33m,\u001b[0m \u001b[0mself\u001b[0m\u001b[1;33m.\u001b[0m\u001b[0mweight\u001b[0m\u001b[1;33m,\u001b[0m \u001b[0mself\u001b[0m\u001b[1;33m.\u001b[0m\u001b[0mpadding_idx\u001b[0m\u001b[1;33m,\u001b[0m \u001b[0mself\u001b[0m\u001b[1;33m.\u001b[0m\u001b[0mmax_norm\u001b[0m\u001b[1;33m,\u001b[0m\u001b[1;33m\u001b[0m\u001b[0m\n\u001b[1;32m--> 147\u001b[1;33m             self.norm_type, self.scale_grad_by_freq, self.sparse)\n\u001b[0m\u001b[0;32m    148\u001b[0m \u001b[1;33m\u001b[0m\u001b[0m\n\u001b[0;32m    149\u001b[0m     \u001b[1;32mdef\u001b[0m \u001b[0mextra_repr\u001b[0m\u001b[1;33m(\u001b[0m\u001b[0mself\u001b[0m\u001b[1;33m)\u001b[0m \u001b[1;33m->\u001b[0m \u001b[0mstr\u001b[0m\u001b[1;33m:\u001b[0m\u001b[1;33m\u001b[0m\u001b[0m\n",
      "\u001b[1;32mc:\\Users\\LDG\\Anaconda3\\lib\\site-packages\\torch\\nn\\functional.py\u001b[0m in \u001b[0;36membedding\u001b[1;34m(input, weight, padding_idx, max_norm, norm_type, scale_grad_by_freq, sparse)\u001b[0m\n\u001b[0;32m   1911\u001b[0m         \u001b[1;31m# remove once script supports set_grad_enabled\u001b[0m\u001b[1;33m\u001b[0m\u001b[1;33m\u001b[0m\u001b[0m\n\u001b[0;32m   1912\u001b[0m         \u001b[0m_no_grad_embedding_renorm_\u001b[0m\u001b[1;33m(\u001b[0m\u001b[0mweight\u001b[0m\u001b[1;33m,\u001b[0m \u001b[0minput\u001b[0m\u001b[1;33m,\u001b[0m \u001b[0mmax_norm\u001b[0m\u001b[1;33m,\u001b[0m \u001b[0mnorm_type\u001b[0m\u001b[1;33m)\u001b[0m\u001b[1;33m\u001b[0m\u001b[0m\n\u001b[1;32m-> 1913\u001b[1;33m     \u001b[1;32mreturn\u001b[0m \u001b[0mtorch\u001b[0m\u001b[1;33m.\u001b[0m\u001b[0membedding\u001b[0m\u001b[1;33m(\u001b[0m\u001b[0mweight\u001b[0m\u001b[1;33m,\u001b[0m \u001b[0minput\u001b[0m\u001b[1;33m,\u001b[0m \u001b[0mpadding_idx\u001b[0m\u001b[1;33m,\u001b[0m \u001b[0mscale_grad_by_freq\u001b[0m\u001b[1;33m,\u001b[0m \u001b[0msparse\u001b[0m\u001b[1;33m)\u001b[0m\u001b[1;33m\u001b[0m\u001b[0m\n\u001b[0m\u001b[0;32m   1914\u001b[0m \u001b[1;33m\u001b[0m\u001b[0m\n\u001b[0;32m   1915\u001b[0m \u001b[1;33m\u001b[0m\u001b[0m\n",
      "\u001b[1;31mRuntimeError\u001b[0m: Input, output and indices must be on the current device"
     ]
    }
   ],
   "source": [
    "test_LS.encoder.embed(torch.tensor([1,2,3,4,5]))"
   ]
  },
  {
   "cell_type": "code",
   "execution_count": null,
   "metadata": {},
   "outputs": [],
   "source": []
  }
 ],
 "metadata": {
  "interpreter": {
   "hash": "3e000a0b163b15ef2769f375070feff4b061ecffb0bc4d87a79ed9c118d84ce3"
  },
  "kernelspec": {
   "display_name": "Python 3.7.0 ('base')",
   "language": "python",
   "name": "python3"
  },
  "language_info": {
   "codemirror_mode": {
    "name": "ipython",
    "version": 3
   },
   "file_extension": ".py",
   "mimetype": "text/x-python",
   "name": "python",
   "nbconvert_exporter": "python",
   "pygments_lexer": "ipython3",
   "version": "3.7.0"
  },
  "orig_nbformat": 4
 },
 "nbformat": 4,
 "nbformat_minor": 2
}
